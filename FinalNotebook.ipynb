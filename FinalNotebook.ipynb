{
  "cells": [
    {
      "cell_type": "markdown",
      "metadata": {
        "id": "-kYxf3JpIemX"
      },
      "source": [
        "### <span style=\"color:red\">Warning: Certain cells take upwards of 30 minutes to run!!!</span>\n",
        "# <span style=\"font-size:1.3em;\">Beer Me: A Content-Based Recommender System\n",
        "Author: Steven Addison"
      ]
    },
    {
      "cell_type": "markdown",
      "metadata": {
        "id": "zd6p3zUgIemd"
      },
      "source": [
        "# Contents\n",
        "<l></l>\n",
        "\n",
        "<span style=\"font-size:1.2em;\">\n",
        "\n",
        "- <a href=\"#Overview\">Overview</a>\n",
        "\n",
        "- <a href=\"#Business Understanding\">Business Understanding</a>  \n",
        "\n",
        "- <a href=\"#Data Understanding\">Data Understanding</a>  \n",
        "    \n",
        "- <a href=\"#Imports\">Imports</a> \n",
        "\n",
        "- <a href=\"#Data Preparation & Analysis\">Data Preparation & Analysis</a> \n",
        "    \n",
        "    - <a href=\"#Creating Final Database\">Creating Final Database</a>\n",
        "    \n",
        "    - <a href=\"#Text Preprocessing with Texthero\">Text Preprocessing with Texthero</a>    \n",
        "    \n",
        "- <a href=\"#Modeling\">Modeling</a>\n",
        "    \n",
        "    - <a href=\"#Cosine Similarity\">Cosine Similarity</a>\n",
        "    \n",
        "    - <a href=\"#Linear Kernal\">Linear Kernal</a>\n",
        "    \n",
        "    - <a href=\"#K-Nearest Neighbors\">K-Nearest Neighbors</a>\n",
        "        \n",
        "- <a href=\"#Conclusion\">Conclusion</a>\n",
        "    \n",
        "- <a href=\"#Next Steps\">Next Steps</a>\n",
        "    \n",
        "- <a href=\"#Sources\">Sources</a>"
      ]
    },
    {
      "cell_type": "markdown",
      "metadata": {
        "id": "eHFTmXvSIeme"
      },
      "source": [
        "# <a id=\"#Overview\">Overview</a>"
      ]
    },
    {
      "cell_type": "markdown",
      "metadata": {
        "id": "Yg74EzVDIeme"
      },
      "source": [
        "> This project analyzes beer review data of 60,000 unique beers and recommends the top similar styles analyzing Review Text with a tf-idf vectorizer, Style, ABV, and Overall Rating."
      ]
    },
    {
      "cell_type": "markdown",
      "metadata": {
        "id": "40OfVHg4Ieme"
      },
      "source": [
        "# <a id=\"#Business Understanding\">Business Understanding</a>"
      ]
    },
    {
      "cell_type": "markdown",
      "metadata": {
        "id": "7aJAdzMhIemf"
      },
      "source": [
        "> As someone who has spent many years in the restaurant industry I often dread hearing “what do you recommend”, it always has felt like a loaded question to me seeing how one never has enough time to learn about a customer’s likes and taste in order to give accurate guidance. That is why a content-based recommender system such as this one can take all the guessing work out of the equation so that a customer can enjoy a beverage that has been selected for them based on similar items other enthusiasts have previously reviewed and enjoyed."
      ]
    },
    {
      "cell_type": "markdown",
      "metadata": {
        "id": "ONeMol-1Iemf"
      },
      "source": [
        "# <a id=\"Data Understanding\">Data Understanding</a>"
      ]
    },
    {
      "cell_type": "markdown",
      "metadata": {
        "id": "qLHw02AmIemg"
      },
      "source": [
        "> For this project I used three datasets sourced from Kaggle that contains information gathered from Beer Advocate. For reproducibility one will have to download the data from the source, as it is too large to host on Github."
      ]
    },
    {
      "cell_type": "markdown",
      "metadata": {
        "id": "0IzyyW0ipSoW"
      },
      "source": [
        "# <a id=\"Imports\">Imports</a>"
      ]
    },
    {
      "cell_type": "markdown",
      "metadata": {
        "id": "yN5aRzMDIemh"
      },
      "source": [
        "> First, I start with importing the relevant libraries needed to clean my data and create my models."
      ]
    },
    {
      "cell_type": "code",
      "execution_count": 1,
      "metadata": {
        "id": "lew5bIi-pSod"
      },
      "outputs": [],
      "source": [
        "import pandas as pd\n",
        "import numpy as np\n",
        "from PIL import Image\n",
        "import matplotlib.pyplot as plt\n",
        "import seaborn as sns\n",
        "%matplotlib inline\n",
        "\n",
        "import texthero as hero\n",
        "from texthero import preprocessing\n",
        "from texthero.visualization import wordcloud\n",
        "\n",
        "\n",
        "from sklearn.preprocessing import MinMaxScaler\n",
        "from sklearn.feature_extraction.text import TfidfVectorizer\n",
        "\n",
        "from sklearn.metrics.pairwise import linear_kernel\n",
        "from sklearn.metrics.pairwise import cosine_similarity\n",
        "\n",
        "from sklearn.neighbors import NearestNeighbors\n",
        "\n",
        "import warnings\n",
        "warnings.filterwarnings('ignore')"
      ]
    },
    {
      "cell_type": "markdown",
      "metadata": {
        "id": "GAseFNDxpSod"
      },
      "source": [
        "---\n",
        "# <a id=\"Data Preparation & Analysis\">Data Preparation & Analysis</a>"
      ]
    },
    {
      "cell_type": "markdown",
      "metadata": {
        "id": "BHmhs2P-Iemj"
      },
      "source": [
        "> I wrote a simple function to explore my datasets with that can be found in the `eda.py` file in my repo. This function will display the first five rows of the dataframe, counts of the non-null values, data types, and total entires, check the descriptive statistics, value counts of every column, and print off the sum of any null values. This function is commented out in the notebook for brevity's sake, but can be accessed if cloned to your local machine. "
      ]
    },
    {
      "cell_type": "code",
      "execution_count": 2,
      "metadata": {
        "id": "dWLIjJthIemj"
      },
      "outputs": [],
      "source": [
        "# import script used to preform basic EDA on my datasets, plus a dictionary used to define a later column\n",
        "%run /content/eda.py"
      ]
    },
    {
      "cell_type": "markdown",
      "metadata": {
        "id": "fH9m5EmwpSoh"
      },
      "source": [
        "---\n",
        "> ### First Dataset\n",
        ">\n",
        "> [Beers, Breweries, and Beer Reviews](https://www.kaggle.com/ehallmar/beers-breweries-and-beer-reviews?select=beers.csv)\n",
        ">\n",
        "> This csv contains information about every beer on an individual level. Features such as `style`, `abv`, and `availability` will be used in the modeling process."
      ]
    },
    {
      "cell_type": "code",
      "execution_count": 3,
      "metadata": {
        "id": "BcMYq2VtpSoh"
      },
      "outputs": [],
      "source": [
        "# Reading in the data containing the beers\n",
        "beer = pd.read_csv('/content/drive/MyDrive/capstone/beers.csv')"
      ]
    },
    {
      "cell_type": "code",
      "execution_count": 4,
      "metadata": {
        "id": "Zfr77Go2pSoi",
        "scrolled": true
      },
      "outputs": [],
      "source": [
        "# EDA on that data\n",
        "# eda(beer)"
      ]
    },
    {
      "cell_type": "code",
      "execution_count": 5,
      "metadata": {
        "id": "iMjrGXYApSoi"
      },
      "outputs": [],
      "source": [
        "# Dropping irrelevant columns\n",
        "beer = beer.drop(columns=['country','notes'])\n",
        "\n",
        "# Renaming columns for consistency among all dataframes\n",
        "beer = beer.rename(columns={'id': 'beer_id', 'name': 'beer_name'})\n",
        "\n",
        "# Removing rows without state data\n",
        "beer = beer.dropna(subset=['state'])\n",
        "\n",
        "# Cleaning the availability column \n",
        "beer['availability'] = beer['availability'].str.strip()"
      ]
    },
    {
      "cell_type": "code",
      "execution_count": 6,
      "metadata": {
        "id": "bBDf8eGHIeml"
      },
      "outputs": [],
      "source": [
        "# Using the style dictionary to create the broad style column\n",
        "beer['broad_style'] = beer['style'].replace(styledict)"
      ]
    },
    {
      "cell_type": "markdown",
      "metadata": {
        "id": "9S_b4-TrpSok"
      },
      "source": [
        "---\n",
        "> ### Second Dataset\n",
        ">\n",
        "> [Beers, Breweries, and Beer Reviews](https://www.kaggle.com/ehallmar/beers-breweries-and-beer-reviews?select=beers.csv)\n",
        ">\n",
        "> Here we find information about the breweries. No data here will be used for modeling, however data about `state`,`city`, and `brewery_name` will be important elements to present in my results."
      ]
    },
    {
      "cell_type": "code",
      "execution_count": 7,
      "metadata": {
        "id": "iftZUvqdpSok"
      },
      "outputs": [],
      "source": [
        "# Reading in the data containing the breweries\n",
        "breweries = pd.read_csv('/content/drive/MyDrive/capstone/breweries.csv')"
      ]
    },
    {
      "cell_type": "code",
      "execution_count": 8,
      "metadata": {
        "id": "EiOXltuFpSol",
        "scrolled": true
      },
      "outputs": [],
      "source": [
        "# EDA on that data\n",
        "# eda(breweries)"
      ]
    },
    {
      "cell_type": "code",
      "execution_count": 9,
      "metadata": {
        "id": "NYIXVAFMpSol"
      },
      "outputs": [],
      "source": [
        "# Dropping irrelevant columns\n",
        "breweries = breweries.drop(columns=['notes'])\n",
        "\n",
        "# Renaming columns for consistency among all dataframes\n",
        "breweries = breweries.rename(columns={'id': 'brewery_id', 'name': 'brewery_name'})\n",
        "\n",
        "# Removing rows without state data\n",
        "beer = beer.dropna(subset=['state'])"
      ]
    },
    {
      "cell_type": "markdown",
      "metadata": {
        "id": "uYmjLVy1pSol"
      },
      "source": [
        "---\n",
        "> ### Third Dataset\n",
        ">\n",
        "> [Beers, Breweries, and Beer Reviews](https://www.kaggle.com/ehallmar/beers-breweries-and-beer-reviews?select=beers.csv)\n",
        ">\n",
        "> Finally, I load in my review data. This will provide my most important modeling feature."
      ]
    },
    {
      "cell_type": "code",
      "execution_count": 10,
      "metadata": {
        "id": "Wwq_guh0pSom"
      },
      "outputs": [],
      "source": [
        "# Reading in the data containg the breweries\n",
        "reviews = pd.read_csv('/content/drive/MyDrive/capstone/reviews.csv')"
      ]
    },
    {
      "cell_type": "code",
      "execution_count": 11,
      "metadata": {
        "id": "mT929wjIpSom",
        "scrolled": true
      },
      "outputs": [],
      "source": [
        "# EDA on that data\n",
        "# eda(reviews)"
      ]
    },
    {
      "cell_type": "code",
      "execution_count": 12,
      "metadata": {
        "id": "GFrh21WjpSom"
      },
      "outputs": [],
      "source": [
        "# Dropping irrelevant columns\n",
        "reviews = reviews.drop(columns=['date','look','smell','taste','feel','overall'])\n",
        "\n",
        "# Setting blank reviews as nan so they can be dropped\n",
        "reviews['text'] = reviews['text'].str.strip()\n",
        "reviews['text'] = reviews['text'].replace({\"\":np.nan,\"0%\":np.nan})\n",
        "\n",
        "# Dropping reviews without username and review text data\n",
        "reviews = reviews.dropna(subset=['username','text'])"
      ]
    },
    {
      "cell_type": "markdown",
      "metadata": {
        "id": "t3f3-yrhpSon"
      },
      "source": [
        "---"
      ]
    },
    {
      "cell_type": "markdown",
      "metadata": {
        "id": "TKWUT_nEpSon"
      },
      "source": [
        "## <a id=\"#Creating Final Database\">Creating Final Database</a>\n",
        "> Now that all my data is loaded and cleaned, it can be combined. Using `id` columns provided in each dataframe this does not prove to be too much of a hassle. Once merged I can then group every unique beer and conglomerate all of their reviews into individual documents. "
      ]
    },
    {
      "cell_type": "code",
      "execution_count": 13,
      "metadata": {
        "id": "5lX01lXIpSon"
      },
      "outputs": [],
      "source": [
        "# Merging reviews into the beers bases on beer id\n",
        "beer_reviews = beer.merge(reviews, on=['beer_id'])"
      ]
    },
    {
      "cell_type": "code",
      "execution_count": 14,
      "metadata": {
        "id": "MrhDviRjpSon"
      },
      "outputs": [],
      "source": [
        "# Merging breweries into the combined data\n",
        "plus_brew = beer_reviews.merge(breweries, on=['brewery_id'])"
      ]
    },
    {
      "cell_type": "code",
      "execution_count": 15,
      "metadata": {
        "id": "gQvTVN2VpSop"
      },
      "outputs": [],
      "source": [
        "# Dropping duplicate column\n",
        "plus_brew = plus_brew.drop(columns=['state_x'])\n",
        "\n",
        "# Renaming column to reflect\n",
        "plus_brew = plus_brew.rename(columns={'state_y': 'state'})"
      ]
    },
    {
      "cell_type": "code",
      "execution_count": 16,
      "metadata": {
        "id": "ARYJWHI7pSoo",
        "colab": {
          "base_uri": "https://localhost:8080/",
          "height": 424
        },
        "outputId": "806e661d-796c-4813-ef8a-8783eac177fc"
      },
      "outputs": [
        {
          "output_type": "execute_result",
          "data": {
            "text/html": [
              "\n",
              "  <div id=\"df-b89525ef-39ee-4a03-b5c4-8e7c370cde7d\">\n",
              "    <div class=\"colab-df-container\">\n",
              "      <div>\n",
              "<style scoped>\n",
              "    .dataframe tbody tr th:only-of-type {\n",
              "        vertical-align: middle;\n",
              "    }\n",
              "\n",
              "    .dataframe tbody tr th {\n",
              "        vertical-align: top;\n",
              "    }\n",
              "\n",
              "    .dataframe thead th {\n",
              "        text-align: right;\n",
              "    }\n",
              "</style>\n",
              "<table border=\"1\" class=\"dataframe\">\n",
              "  <thead>\n",
              "    <tr style=\"text-align: right;\">\n",
              "      <th></th>\n",
              "      <th>beer_id</th>\n",
              "      <th>beer_name</th>\n",
              "      <th>brewery_id</th>\n",
              "      <th>style</th>\n",
              "      <th>availability</th>\n",
              "      <th>abv</th>\n",
              "      <th>retired</th>\n",
              "      <th>broad_style</th>\n",
              "      <th>username</th>\n",
              "      <th>text</th>\n",
              "      <th>score</th>\n",
              "      <th>brewery_name</th>\n",
              "      <th>city</th>\n",
              "      <th>state</th>\n",
              "      <th>country</th>\n",
              "      <th>types</th>\n",
              "    </tr>\n",
              "  </thead>\n",
              "  <tbody>\n",
              "    <tr>\n",
              "      <th>0</th>\n",
              "      <td>246438</td>\n",
              "      <td>Peaches-N-Cream</td>\n",
              "      <td>44617</td>\n",
              "      <td>American Cream Ale</td>\n",
              "      <td>Rotating</td>\n",
              "      <td>5.1</td>\n",
              "      <td>f</td>\n",
              "      <td>Hybrid Beer</td>\n",
              "      <td>rolltide8425</td>\n",
              "      <td>Exactly what it says it is</td>\n",
              "      <td>3.67</td>\n",
              "      <td>Mad Princes Brewing</td>\n",
              "      <td>Doylestown</td>\n",
              "      <td>PA</td>\n",
              "      <td>US</td>\n",
              "      <td>Brewery, Bar, Beer-to-go</td>\n",
              "    </tr>\n",
              "    <tr>\n",
              "      <th>1</th>\n",
              "      <td>246443</td>\n",
              "      <td>Clinging And Bitter</td>\n",
              "      <td>44617</td>\n",
              "      <td>English Bitter</td>\n",
              "      <td>Rotating</td>\n",
              "      <td>3.8</td>\n",
              "      <td>f</td>\n",
              "      <td>Pale Ale</td>\n",
              "      <td>rolltide8425</td>\n",
              "      <td>A no-nonsense British style bitter; just how I...</td>\n",
              "      <td>3.74</td>\n",
              "      <td>Mad Princes Brewing</td>\n",
              "      <td>Doylestown</td>\n",
              "      <td>PA</td>\n",
              "      <td>US</td>\n",
              "      <td>Brewery, Bar, Beer-to-go</td>\n",
              "    </tr>\n",
              "    <tr>\n",
              "      <th>433</th>\n",
              "      <td>12661</td>\n",
              "      <td>Lava Rock Porter</td>\n",
              "      <td>1345</td>\n",
              "      <td>American Porter</td>\n",
              "      <td>Year-round</td>\n",
              "      <td>7.0</td>\n",
              "      <td>f</td>\n",
              "      <td>Porter</td>\n",
              "      <td>DrMullet</td>\n",
              "      <td>Pours a very dark brown with moderate head and...</td>\n",
              "      <td>3.50</td>\n",
              "      <td>Dick's Brewing Company</td>\n",
              "      <td>Centralia</td>\n",
              "      <td>WA</td>\n",
              "      <td>US</td>\n",
              "      <td>Brewery, Bar, Eatery</td>\n",
              "    </tr>\n",
              "    <tr>\n",
              "      <th>434</th>\n",
              "      <td>12661</td>\n",
              "      <td>Lava Rock Porter</td>\n",
              "      <td>1345</td>\n",
              "      <td>American Porter</td>\n",
              "      <td>Year-round</td>\n",
              "      <td>7.0</td>\n",
              "      <td>f</td>\n",
              "      <td>Porter</td>\n",
              "      <td>Karibourgeois</td>\n",
              "      <td>Dark brown pour with a tan head. Aroma of choc...</td>\n",
              "      <td>3.44</td>\n",
              "      <td>Dick's Brewing Company</td>\n",
              "      <td>Centralia</td>\n",
              "      <td>WA</td>\n",
              "      <td>US</td>\n",
              "      <td>Brewery, Bar, Eatery</td>\n",
              "    </tr>\n",
              "    <tr>\n",
              "      <th>435</th>\n",
              "      <td>12661</td>\n",
              "      <td>Lava Rock Porter</td>\n",
              "      <td>1345</td>\n",
              "      <td>American Porter</td>\n",
              "      <td>Year-round</td>\n",
              "      <td>7.0</td>\n",
              "      <td>f</td>\n",
              "      <td>Porter</td>\n",
              "      <td>Jeffsta1</td>\n",
              "      <td>Beautiful dark brown/black, with a pretty, pal...</td>\n",
              "      <td>3.44</td>\n",
              "      <td>Dick's Brewing Company</td>\n",
              "      <td>Centralia</td>\n",
              "      <td>WA</td>\n",
              "      <td>US</td>\n",
              "      <td>Brewery, Bar, Eatery</td>\n",
              "    </tr>\n",
              "  </tbody>\n",
              "</table>\n",
              "</div>\n",
              "      <button class=\"colab-df-convert\" onclick=\"convertToInteractive('df-b89525ef-39ee-4a03-b5c4-8e7c370cde7d')\"\n",
              "              title=\"Convert this dataframe to an interactive table.\"\n",
              "              style=\"display:none;\">\n",
              "        \n",
              "  <svg xmlns=\"http://www.w3.org/2000/svg\" height=\"24px\"viewBox=\"0 0 24 24\"\n",
              "       width=\"24px\">\n",
              "    <path d=\"M0 0h24v24H0V0z\" fill=\"none\"/>\n",
              "    <path d=\"M18.56 5.44l.94 2.06.94-2.06 2.06-.94-2.06-.94-.94-2.06-.94 2.06-2.06.94zm-11 1L8.5 8.5l.94-2.06 2.06-.94-2.06-.94L8.5 2.5l-.94 2.06-2.06.94zm10 10l.94 2.06.94-2.06 2.06-.94-2.06-.94-.94-2.06-.94 2.06-2.06.94z\"/><path d=\"M17.41 7.96l-1.37-1.37c-.4-.4-.92-.59-1.43-.59-.52 0-1.04.2-1.43.59L10.3 9.45l-7.72 7.72c-.78.78-.78 2.05 0 2.83L4 21.41c.39.39.9.59 1.41.59.51 0 1.02-.2 1.41-.59l7.78-7.78 2.81-2.81c.8-.78.8-2.07 0-2.86zM5.41 20L4 18.59l7.72-7.72 1.47 1.35L5.41 20z\"/>\n",
              "  </svg>\n",
              "      </button>\n",
              "      \n",
              "  <style>\n",
              "    .colab-df-container {\n",
              "      display:flex;\n",
              "      flex-wrap:wrap;\n",
              "      gap: 12px;\n",
              "    }\n",
              "\n",
              "    .colab-df-convert {\n",
              "      background-color: #E8F0FE;\n",
              "      border: none;\n",
              "      border-radius: 50%;\n",
              "      cursor: pointer;\n",
              "      display: none;\n",
              "      fill: #1967D2;\n",
              "      height: 32px;\n",
              "      padding: 0 0 0 0;\n",
              "      width: 32px;\n",
              "    }\n",
              "\n",
              "    .colab-df-convert:hover {\n",
              "      background-color: #E2EBFA;\n",
              "      box-shadow: 0px 1px 2px rgba(60, 64, 67, 0.3), 0px 1px 3px 1px rgba(60, 64, 67, 0.15);\n",
              "      fill: #174EA6;\n",
              "    }\n",
              "\n",
              "    [theme=dark] .colab-df-convert {\n",
              "      background-color: #3B4455;\n",
              "      fill: #D2E3FC;\n",
              "    }\n",
              "\n",
              "    [theme=dark] .colab-df-convert:hover {\n",
              "      background-color: #434B5C;\n",
              "      box-shadow: 0px 1px 3px 1px rgba(0, 0, 0, 0.15);\n",
              "      filter: drop-shadow(0px 1px 2px rgba(0, 0, 0, 0.3));\n",
              "      fill: #FFFFFF;\n",
              "    }\n",
              "  </style>\n",
              "\n",
              "      <script>\n",
              "        const buttonEl =\n",
              "          document.querySelector('#df-b89525ef-39ee-4a03-b5c4-8e7c370cde7d button.colab-df-convert');\n",
              "        buttonEl.style.display =\n",
              "          google.colab.kernel.accessAllowed ? 'block' : 'none';\n",
              "\n",
              "        async function convertToInteractive(key) {\n",
              "          const element = document.querySelector('#df-b89525ef-39ee-4a03-b5c4-8e7c370cde7d');\n",
              "          const dataTable =\n",
              "            await google.colab.kernel.invokeFunction('convertToInteractive',\n",
              "                                                     [key], {});\n",
              "          if (!dataTable) return;\n",
              "\n",
              "          const docLinkHtml = 'Like what you see? Visit the ' +\n",
              "            '<a target=\"_blank\" href=https://colab.research.google.com/notebooks/data_table.ipynb>data table notebook</a>'\n",
              "            + ' to learn more about interactive tables.';\n",
              "          element.innerHTML = '';\n",
              "          dataTable['output_type'] = 'display_data';\n",
              "          await google.colab.output.renderOutput(dataTable, element);\n",
              "          const docLink = document.createElement('div');\n",
              "          docLink.innerHTML = docLinkHtml;\n",
              "          element.appendChild(docLink);\n",
              "        }\n",
              "      </script>\n",
              "    </div>\n",
              "  </div>\n",
              "  "
            ],
            "text/plain": [
              "     beer_id            beer_name  ...  country                     types\n",
              "0     246438      Peaches-N-Cream  ...       US  Brewery, Bar, Beer-to-go\n",
              "1     246443  Clinging And Bitter  ...       US  Brewery, Bar, Beer-to-go\n",
              "433    12661     Lava Rock Porter  ...       US      Brewery, Bar, Eatery\n",
              "434    12661     Lava Rock Porter  ...       US      Brewery, Bar, Eatery\n",
              "435    12661     Lava Rock Porter  ...       US      Brewery, Bar, Eatery\n",
              "\n",
              "[5 rows x 16 columns]"
            ]
          },
          "metadata": {},
          "execution_count": 16
        }
      ],
      "source": [
        "# Selecting only available US beers\n",
        "df = plus_brew.loc[(plus_brew['country'] == 'US') & (plus_brew['retired'] == 'f')]\n",
        "\n",
        "# Dropping duplicates\n",
        "df = df.drop_duplicates()\n",
        "\n",
        "# Dropping rows with missing ibu data \n",
        "df = df.dropna(subset=['abv'])\n",
        "\n",
        "# Sanity check of the data\n",
        "df.head()"
      ]
    },
    {
      "cell_type": "code",
      "execution_count": 17,
      "metadata": {
        "colab": {
          "base_uri": "https://localhost:8080/",
          "height": 1000
        },
        "id": "yrTxYGVrpSoo",
        "outputId": "fbcd09d8-2f09-431d-be83-f6504bc0939e",
        "scrolled": false
      },
      "outputs": [
        {
          "output_type": "execute_result",
          "data": {
            "text/html": [
              "\n",
              "  <div id=\"df-318de054-1c0d-45c4-855b-a7d0cd09cc01\">\n",
              "    <div class=\"colab-df-container\">\n",
              "      <div>\n",
              "<style scoped>\n",
              "    .dataframe tbody tr th:only-of-type {\n",
              "        vertical-align: middle;\n",
              "    }\n",
              "\n",
              "    .dataframe tbody tr th {\n",
              "        vertical-align: top;\n",
              "    }\n",
              "\n",
              "    .dataframe thead th {\n",
              "        text-align: right;\n",
              "    }\n",
              "</style>\n",
              "<table border=\"1\" class=\"dataframe\">\n",
              "  <thead>\n",
              "    <tr style=\"text-align: right;\">\n",
              "      <th></th>\n",
              "      <th>beer_id</th>\n",
              "      <th>beer_name</th>\n",
              "      <th>brewery_id</th>\n",
              "      <th>style</th>\n",
              "      <th>availability</th>\n",
              "      <th>abv</th>\n",
              "      <th>retired</th>\n",
              "      <th>broad_style</th>\n",
              "      <th>username</th>\n",
              "      <th>text</th>\n",
              "      <th>score</th>\n",
              "      <th>brewery_name</th>\n",
              "      <th>city</th>\n",
              "      <th>state</th>\n",
              "      <th>country</th>\n",
              "      <th>types</th>\n",
              "    </tr>\n",
              "  </thead>\n",
              "  <tbody>\n",
              "    <tr>\n",
              "      <th>106363</th>\n",
              "      <td>91469</td>\n",
              "      <td>IPA</td>\n",
              "      <td>29573</td>\n",
              "      <td>American IPA</td>\n",
              "      <td>Year-round</td>\n",
              "      <td>7.2</td>\n",
              "      <td>f</td>\n",
              "      <td>India Pale Ale</td>\n",
              "      <td>mjbachma</td>\n",
              "      <td>Classic bottle and labeling, titled by style, ...</td>\n",
              "      <td>3.94</td>\n",
              "      <td>pFriem Family Brewers</td>\n",
              "      <td>Hood River</td>\n",
              "      <td>OR</td>\n",
              "      <td>US</td>\n",
              "      <td>Brewery, Bar, Eatery, Beer-to-go</td>\n",
              "    </tr>\n",
              "    <tr>\n",
              "      <th>106364</th>\n",
              "      <td>91469</td>\n",
              "      <td>IPA</td>\n",
              "      <td>29573</td>\n",
              "      <td>American IPA</td>\n",
              "      <td>Year-round</td>\n",
              "      <td>7.2</td>\n",
              "      <td>f</td>\n",
              "      <td>India Pale Ale</td>\n",
              "      <td>CraftBeerRunner</td>\n",
              "      <td>Sweet Jammy fruity and bright. Drank fresh whi...</td>\n",
              "      <td>4.00</td>\n",
              "      <td>pFriem Family Brewers</td>\n",
              "      <td>Hood River</td>\n",
              "      <td>OR</td>\n",
              "      <td>US</td>\n",
              "      <td>Brewery, Bar, Eatery, Beer-to-go</td>\n",
              "    </tr>\n",
              "    <tr>\n",
              "      <th>106365</th>\n",
              "      <td>91469</td>\n",
              "      <td>IPA</td>\n",
              "      <td>29573</td>\n",
              "      <td>American IPA</td>\n",
              "      <td>Year-round</td>\n",
              "      <td>7.2</td>\n",
              "      <td>f</td>\n",
              "      <td>India Pale Ale</td>\n",
              "      <td>Hopheadjeffery</td>\n",
              "      <td>Tasted in a Spiegelau IPA glass from a bottle ...</td>\n",
              "      <td>4.04</td>\n",
              "      <td>pFriem Family Brewers</td>\n",
              "      <td>Hood River</td>\n",
              "      <td>OR</td>\n",
              "      <td>US</td>\n",
              "      <td>Brewery, Bar, Eatery, Beer-to-go</td>\n",
              "    </tr>\n",
              "    <tr>\n",
              "      <th>106366</th>\n",
              "      <td>91469</td>\n",
              "      <td>IPA</td>\n",
              "      <td>29573</td>\n",
              "      <td>American IPA</td>\n",
              "      <td>Year-round</td>\n",
              "      <td>7.2</td>\n",
              "      <td>f</td>\n",
              "      <td>India Pale Ale</td>\n",
              "      <td>BeerAndGasMasks</td>\n",
              "      <td>From the bottle, it pours a nice lightly hazy ...</td>\n",
              "      <td>4.00</td>\n",
              "      <td>pFriem Family Brewers</td>\n",
              "      <td>Hood River</td>\n",
              "      <td>OR</td>\n",
              "      <td>US</td>\n",
              "      <td>Brewery, Bar, Eatery, Beer-to-go</td>\n",
              "    </tr>\n",
              "    <tr>\n",
              "      <th>106367</th>\n",
              "      <td>91469</td>\n",
              "      <td>IPA</td>\n",
              "      <td>29573</td>\n",
              "      <td>American IPA</td>\n",
              "      <td>Year-round</td>\n",
              "      <td>7.2</td>\n",
              "      <td>f</td>\n",
              "      <td>India Pale Ale</td>\n",
              "      <td>NickSMpls</td>\n",
              "      <td>Can these guys do anything that's not great? O...</td>\n",
              "      <td>4.18</td>\n",
              "      <td>pFriem Family Brewers</td>\n",
              "      <td>Hood River</td>\n",
              "      <td>OR</td>\n",
              "      <td>US</td>\n",
              "      <td>Brewery, Bar, Eatery, Beer-to-go</td>\n",
              "    </tr>\n",
              "    <tr>\n",
              "      <th>...</th>\n",
              "      <td>...</td>\n",
              "      <td>...</td>\n",
              "      <td>...</td>\n",
              "      <td>...</td>\n",
              "      <td>...</td>\n",
              "      <td>...</td>\n",
              "      <td>...</td>\n",
              "      <td>...</td>\n",
              "      <td>...</td>\n",
              "      <td>...</td>\n",
              "      <td>...</td>\n",
              "      <td>...</td>\n",
              "      <td>...</td>\n",
              "      <td>...</td>\n",
              "      <td>...</td>\n",
              "      <td>...</td>\n",
              "    </tr>\n",
              "    <tr>\n",
              "      <th>2429005</th>\n",
              "      <td>138894</td>\n",
              "      <td>IPA</td>\n",
              "      <td>36717</td>\n",
              "      <td>American IPA</td>\n",
              "      <td>Year-round</td>\n",
              "      <td>6.0</td>\n",
              "      <td>f</td>\n",
              "      <td>India Pale Ale</td>\n",
              "      <td>JonAdams</td>\n",
              "      <td>Poured from tap at brewery. Deep copper, clear...</td>\n",
              "      <td>4.30</td>\n",
              "      <td>Lizard Tail Brewing</td>\n",
              "      <td>Albuquerque</td>\n",
              "      <td>NM</td>\n",
              "      <td>US</td>\n",
              "      <td>Brewery, Bar, Beer-to-go</td>\n",
              "    </tr>\n",
              "    <tr>\n",
              "      <th>2429495</th>\n",
              "      <td>322903</td>\n",
              "      <td>IPA</td>\n",
              "      <td>47202</td>\n",
              "      <td>American IPA</td>\n",
              "      <td>Year-round</td>\n",
              "      <td>5.9</td>\n",
              "      <td>f</td>\n",
              "      <td>India Pale Ale</td>\n",
              "      <td>stevoj</td>\n",
              "      <td>Bottle from BevMo. Gusher at opening. Dark gol...</td>\n",
              "      <td>3.55</td>\n",
              "      <td>Dagny Brewing Company</td>\n",
              "      <td>Modesto</td>\n",
              "      <td>CA</td>\n",
              "      <td>US</td>\n",
              "      <td>Brewery</td>\n",
              "    </tr>\n",
              "    <tr>\n",
              "      <th>2429694</th>\n",
              "      <td>275547</td>\n",
              "      <td>IPA</td>\n",
              "      <td>48593</td>\n",
              "      <td>American IPA</td>\n",
              "      <td>Year-round</td>\n",
              "      <td>6.6</td>\n",
              "      <td>f</td>\n",
              "      <td>India Pale Ale</td>\n",
              "      <td>JacobusFavier23</td>\n",
              "      <td>L- Straw colored IPA with a slight amber tint....</td>\n",
              "      <td>3.66</td>\n",
              "      <td>Haint Blue Brewery</td>\n",
              "      <td>Mobile</td>\n",
              "      <td>AL</td>\n",
              "      <td>US</td>\n",
              "      <td>Brewery</td>\n",
              "    </tr>\n",
              "    <tr>\n",
              "      <th>2429712</th>\n",
              "      <td>349972</td>\n",
              "      <td>IPA</td>\n",
              "      <td>49155</td>\n",
              "      <td>American IPA</td>\n",
              "      <td>Year-round</td>\n",
              "      <td>6.5</td>\n",
              "      <td>f</td>\n",
              "      <td>India Pale Ale</td>\n",
              "      <td>brett808ola</td>\n",
              "      <td>Smells very fruity, great for tropical weather...</td>\n",
              "      <td>4.98</td>\n",
              "      <td>Hawaiian Ola Brewing Corporation</td>\n",
              "      <td>Kailua Kona</td>\n",
              "      <td>HI</td>\n",
              "      <td>US</td>\n",
              "      <td>Brewery, Bar, Beer-to-go</td>\n",
              "    </tr>\n",
              "    <tr>\n",
              "      <th>2429832</th>\n",
              "      <td>359825</td>\n",
              "      <td>IPA</td>\n",
              "      <td>53462</td>\n",
              "      <td>American IPA</td>\n",
              "      <td>Year-round</td>\n",
              "      <td>7.0</td>\n",
              "      <td>f</td>\n",
              "      <td>India Pale Ale</td>\n",
              "      <td>StonedTrippin</td>\n",
              "      <td>a passable ipa for a rather new brewery, but w...</td>\n",
              "      <td>3.37</td>\n",
              "      <td>All Sevens Brewing</td>\n",
              "      <td>Asheville</td>\n",
              "      <td>NC</td>\n",
              "      <td>US</td>\n",
              "      <td>Brewery, Beer-to-go</td>\n",
              "    </tr>\n",
              "  </tbody>\n",
              "</table>\n",
              "<p>8448 rows × 16 columns</p>\n",
              "</div>\n",
              "      <button class=\"colab-df-convert\" onclick=\"convertToInteractive('df-318de054-1c0d-45c4-855b-a7d0cd09cc01')\"\n",
              "              title=\"Convert this dataframe to an interactive table.\"\n",
              "              style=\"display:none;\">\n",
              "        \n",
              "  <svg xmlns=\"http://www.w3.org/2000/svg\" height=\"24px\"viewBox=\"0 0 24 24\"\n",
              "       width=\"24px\">\n",
              "    <path d=\"M0 0h24v24H0V0z\" fill=\"none\"/>\n",
              "    <path d=\"M18.56 5.44l.94 2.06.94-2.06 2.06-.94-2.06-.94-.94-2.06-.94 2.06-2.06.94zm-11 1L8.5 8.5l.94-2.06 2.06-.94-2.06-.94L8.5 2.5l-.94 2.06-2.06.94zm10 10l.94 2.06.94-2.06 2.06-.94-2.06-.94-.94-2.06-.94 2.06-2.06.94z\"/><path d=\"M17.41 7.96l-1.37-1.37c-.4-.4-.92-.59-1.43-.59-.52 0-1.04.2-1.43.59L10.3 9.45l-7.72 7.72c-.78.78-.78 2.05 0 2.83L4 21.41c.39.39.9.59 1.41.59.51 0 1.02-.2 1.41-.59l7.78-7.78 2.81-2.81c.8-.78.8-2.07 0-2.86zM5.41 20L4 18.59l7.72-7.72 1.47 1.35L5.41 20z\"/>\n",
              "  </svg>\n",
              "      </button>\n",
              "      \n",
              "  <style>\n",
              "    .colab-df-container {\n",
              "      display:flex;\n",
              "      flex-wrap:wrap;\n",
              "      gap: 12px;\n",
              "    }\n",
              "\n",
              "    .colab-df-convert {\n",
              "      background-color: #E8F0FE;\n",
              "      border: none;\n",
              "      border-radius: 50%;\n",
              "      cursor: pointer;\n",
              "      display: none;\n",
              "      fill: #1967D2;\n",
              "      height: 32px;\n",
              "      padding: 0 0 0 0;\n",
              "      width: 32px;\n",
              "    }\n",
              "\n",
              "    .colab-df-convert:hover {\n",
              "      background-color: #E2EBFA;\n",
              "      box-shadow: 0px 1px 2px rgba(60, 64, 67, 0.3), 0px 1px 3px 1px rgba(60, 64, 67, 0.15);\n",
              "      fill: #174EA6;\n",
              "    }\n",
              "\n",
              "    [theme=dark] .colab-df-convert {\n",
              "      background-color: #3B4455;\n",
              "      fill: #D2E3FC;\n",
              "    }\n",
              "\n",
              "    [theme=dark] .colab-df-convert:hover {\n",
              "      background-color: #434B5C;\n",
              "      box-shadow: 0px 1px 3px 1px rgba(0, 0, 0, 0.15);\n",
              "      filter: drop-shadow(0px 1px 2px rgba(0, 0, 0, 0.3));\n",
              "      fill: #FFFFFF;\n",
              "    }\n",
              "  </style>\n",
              "\n",
              "      <script>\n",
              "        const buttonEl =\n",
              "          document.querySelector('#df-318de054-1c0d-45c4-855b-a7d0cd09cc01 button.colab-df-convert');\n",
              "        buttonEl.style.display =\n",
              "          google.colab.kernel.accessAllowed ? 'block' : 'none';\n",
              "\n",
              "        async function convertToInteractive(key) {\n",
              "          const element = document.querySelector('#df-318de054-1c0d-45c4-855b-a7d0cd09cc01');\n",
              "          const dataTable =\n",
              "            await google.colab.kernel.invokeFunction('convertToInteractive',\n",
              "                                                     [key], {});\n",
              "          if (!dataTable) return;\n",
              "\n",
              "          const docLinkHtml = 'Like what you see? Visit the ' +\n",
              "            '<a target=\"_blank\" href=https://colab.research.google.com/notebooks/data_table.ipynb>data table notebook</a>'\n",
              "            + ' to learn more about interactive tables.';\n",
              "          element.innerHTML = '';\n",
              "          dataTable['output_type'] = 'display_data';\n",
              "          await google.colab.output.renderOutput(dataTable, element);\n",
              "          const docLink = document.createElement('div');\n",
              "          docLink.innerHTML = docLinkHtml;\n",
              "          element.appendChild(docLink);\n",
              "        }\n",
              "      </script>\n",
              "    </div>\n",
              "  </div>\n",
              "  "
            ],
            "text/plain": [
              "         beer_id beer_name  ...  country                             types\n",
              "106363     91469       IPA  ...       US  Brewery, Bar, Eatery, Beer-to-go\n",
              "106364     91469       IPA  ...       US  Brewery, Bar, Eatery, Beer-to-go\n",
              "106365     91469       IPA  ...       US  Brewery, Bar, Eatery, Beer-to-go\n",
              "106366     91469       IPA  ...       US  Brewery, Bar, Eatery, Beer-to-go\n",
              "106367     91469       IPA  ...       US  Brewery, Bar, Eatery, Beer-to-go\n",
              "...          ...       ...  ...      ...                               ...\n",
              "2429005   138894       IPA  ...       US          Brewery, Bar, Beer-to-go\n",
              "2429495   322903       IPA  ...       US                           Brewery\n",
              "2429694   275547       IPA  ...       US                           Brewery\n",
              "2429712   349972       IPA  ...       US          Brewery, Bar, Beer-to-go\n",
              "2429832   359825       IPA  ...       US               Brewery, Beer-to-go\n",
              "\n",
              "[8448 rows x 16 columns]"
            ]
          },
          "metadata": {},
          "execution_count": 17
        }
      ],
      "source": [
        "# Checking to see if some of these beers are actually named IPA and looking at each brewery's website I can confirm they are not creative people\n",
        "df.loc[df['beer_name'] == 'IPA']"
      ]
    },
    {
      "cell_type": "code",
      "execution_count": 18,
      "metadata": {
        "id": "5oiz4Vmw-b_P",
        "colab": {
          "base_uri": "https://localhost:8080/",
          "height": 238
        },
        "outputId": "dee16c0f-0215-4dd3-c00c-8b1a787c6df1"
      },
      "outputs": [
        {
          "output_type": "execute_result",
          "data": {
            "text/html": [
              "\n",
              "  <div id=\"df-c50c2945-6741-440c-9b64-caa25afb0fb1\">\n",
              "    <div class=\"colab-df-container\">\n",
              "      <div>\n",
              "<style scoped>\n",
              "    .dataframe tbody tr th:only-of-type {\n",
              "        vertical-align: middle;\n",
              "    }\n",
              "\n",
              "    .dataframe tbody tr th {\n",
              "        vertical-align: top;\n",
              "    }\n",
              "\n",
              "    .dataframe thead th {\n",
              "        text-align: right;\n",
              "    }\n",
              "</style>\n",
              "<table border=\"1\" class=\"dataframe\">\n",
              "  <thead>\n",
              "    <tr style=\"text-align: right;\">\n",
              "      <th></th>\n",
              "      <th>text</th>\n",
              "      <th>score</th>\n",
              "      <th>beer_name</th>\n",
              "      <th>style</th>\n",
              "      <th>broad_style</th>\n",
              "      <th>abv</th>\n",
              "      <th>brewery_name</th>\n",
              "      <th>city</th>\n",
              "      <th>state</th>\n",
              "    </tr>\n",
              "    <tr>\n",
              "      <th>beer_id</th>\n",
              "      <th></th>\n",
              "      <th></th>\n",
              "      <th></th>\n",
              "      <th></th>\n",
              "      <th></th>\n",
              "      <th></th>\n",
              "      <th></th>\n",
              "      <th></th>\n",
              "      <th></th>\n",
              "    </tr>\n",
              "  </thead>\n",
              "  <tbody>\n",
              "    <tr>\n",
              "      <th>5</th>\n",
              "      <td>Beautiful beer. Light and tasty. I travel all ...</td>\n",
              "      <td>3.396390</td>\n",
              "      <td>Amber</td>\n",
              "      <td>Vienna Lager</td>\n",
              "      <td>Dark Lager</td>\n",
              "      <td>4.5</td>\n",
              "      <td>Abita Brewing Co.</td>\n",
              "      <td>Abita Springs</td>\n",
              "      <td>LA</td>\n",
              "    </tr>\n",
              "    <tr>\n",
              "      <th>6</th>\n",
              "      <td>great brown ale...one of my favorites. Might h...</td>\n",
              "      <td>3.646446</td>\n",
              "      <td>Turbodog</td>\n",
              "      <td>English Brown Ale</td>\n",
              "      <td>Brown Ale</td>\n",
              "      <td>5.6</td>\n",
              "      <td>Abita Brewing Co.</td>\n",
              "      <td>Abita Springs</td>\n",
              "      <td>LA</td>\n",
              "    </tr>\n",
              "    <tr>\n",
              "      <th>7</th>\n",
              "      <td>The labeling with the purple haze guy with the...</td>\n",
              "      <td>3.243842</td>\n",
              "      <td>Purple Haze</td>\n",
              "      <td>Fruit and Field Beer</td>\n",
              "      <td>Specialty Beer</td>\n",
              "      <td>4.2</td>\n",
              "      <td>Abita Brewing Co.</td>\n",
              "      <td>Abita Springs</td>\n",
              "      <td>LA</td>\n",
              "    </tr>\n",
              "    <tr>\n",
              "      <th>9</th>\n",
              "      <td>Poured chilled in large glass stein. A: cloudy...</td>\n",
              "      <td>3.087823</td>\n",
              "      <td>Golden</td>\n",
              "      <td>American Lager</td>\n",
              "      <td>Pale Lager</td>\n",
              "      <td>4.2</td>\n",
              "      <td>Abita Brewing Co.</td>\n",
              "      <td>Abita Springs</td>\n",
              "      <td>LA</td>\n",
              "    </tr>\n",
              "    <tr>\n",
              "      <th>10</th>\n",
              "      <td>Pours slightly hazy deep amber/brown. 1 finger...</td>\n",
              "      <td>3.794484</td>\n",
              "      <td>Dubbel Ale</td>\n",
              "      <td>Belgian Dubbel</td>\n",
              "      <td>Dark Ale</td>\n",
              "      <td>7.0</td>\n",
              "      <td>Allagash Brewing Company</td>\n",
              "      <td>Portland</td>\n",
              "      <td>ME</td>\n",
              "    </tr>\n",
              "  </tbody>\n",
              "</table>\n",
              "</div>\n",
              "      <button class=\"colab-df-convert\" onclick=\"convertToInteractive('df-c50c2945-6741-440c-9b64-caa25afb0fb1')\"\n",
              "              title=\"Convert this dataframe to an interactive table.\"\n",
              "              style=\"display:none;\">\n",
              "        \n",
              "  <svg xmlns=\"http://www.w3.org/2000/svg\" height=\"24px\"viewBox=\"0 0 24 24\"\n",
              "       width=\"24px\">\n",
              "    <path d=\"M0 0h24v24H0V0z\" fill=\"none\"/>\n",
              "    <path d=\"M18.56 5.44l.94 2.06.94-2.06 2.06-.94-2.06-.94-.94-2.06-.94 2.06-2.06.94zm-11 1L8.5 8.5l.94-2.06 2.06-.94-2.06-.94L8.5 2.5l-.94 2.06-2.06.94zm10 10l.94 2.06.94-2.06 2.06-.94-2.06-.94-.94-2.06-.94 2.06-2.06.94z\"/><path d=\"M17.41 7.96l-1.37-1.37c-.4-.4-.92-.59-1.43-.59-.52 0-1.04.2-1.43.59L10.3 9.45l-7.72 7.72c-.78.78-.78 2.05 0 2.83L4 21.41c.39.39.9.59 1.41.59.51 0 1.02-.2 1.41-.59l7.78-7.78 2.81-2.81c.8-.78.8-2.07 0-2.86zM5.41 20L4 18.59l7.72-7.72 1.47 1.35L5.41 20z\"/>\n",
              "  </svg>\n",
              "      </button>\n",
              "      \n",
              "  <style>\n",
              "    .colab-df-container {\n",
              "      display:flex;\n",
              "      flex-wrap:wrap;\n",
              "      gap: 12px;\n",
              "    }\n",
              "\n",
              "    .colab-df-convert {\n",
              "      background-color: #E8F0FE;\n",
              "      border: none;\n",
              "      border-radius: 50%;\n",
              "      cursor: pointer;\n",
              "      display: none;\n",
              "      fill: #1967D2;\n",
              "      height: 32px;\n",
              "      padding: 0 0 0 0;\n",
              "      width: 32px;\n",
              "    }\n",
              "\n",
              "    .colab-df-convert:hover {\n",
              "      background-color: #E2EBFA;\n",
              "      box-shadow: 0px 1px 2px rgba(60, 64, 67, 0.3), 0px 1px 3px 1px rgba(60, 64, 67, 0.15);\n",
              "      fill: #174EA6;\n",
              "    }\n",
              "\n",
              "    [theme=dark] .colab-df-convert {\n",
              "      background-color: #3B4455;\n",
              "      fill: #D2E3FC;\n",
              "    }\n",
              "\n",
              "    [theme=dark] .colab-df-convert:hover {\n",
              "      background-color: #434B5C;\n",
              "      box-shadow: 0px 1px 3px 1px rgba(0, 0, 0, 0.15);\n",
              "      filter: drop-shadow(0px 1px 2px rgba(0, 0, 0, 0.3));\n",
              "      fill: #FFFFFF;\n",
              "    }\n",
              "  </style>\n",
              "\n",
              "      <script>\n",
              "        const buttonEl =\n",
              "          document.querySelector('#df-c50c2945-6741-440c-9b64-caa25afb0fb1 button.colab-df-convert');\n",
              "        buttonEl.style.display =\n",
              "          google.colab.kernel.accessAllowed ? 'block' : 'none';\n",
              "\n",
              "        async function convertToInteractive(key) {\n",
              "          const element = document.querySelector('#df-c50c2945-6741-440c-9b64-caa25afb0fb1');\n",
              "          const dataTable =\n",
              "            await google.colab.kernel.invokeFunction('convertToInteractive',\n",
              "                                                     [key], {});\n",
              "          if (!dataTable) return;\n",
              "\n",
              "          const docLinkHtml = 'Like what you see? Visit the ' +\n",
              "            '<a target=\"_blank\" href=https://colab.research.google.com/notebooks/data_table.ipynb>data table notebook</a>'\n",
              "            + ' to learn more about interactive tables.';\n",
              "          element.innerHTML = '';\n",
              "          dataTable['output_type'] = 'display_data';\n",
              "          await google.colab.output.renderOutput(dataTable, element);\n",
              "          const docLink = document.createElement('div');\n",
              "          docLink.innerHTML = docLinkHtml;\n",
              "          element.appendChild(docLink);\n",
              "        }\n",
              "      </script>\n",
              "    </div>\n",
              "  </div>\n",
              "  "
            ],
            "text/plain": [
              "                                                      text  ...  state\n",
              "beer_id                                                     ...       \n",
              "5        Beautiful beer. Light and tasty. I travel all ...  ...     LA\n",
              "6        great brown ale...one of my favorites. Might h...  ...     LA\n",
              "7        The labeling with the purple haze guy with the...  ...     LA\n",
              "9        Poured chilled in large glass stein. A: cloudy...  ...     LA\n",
              "10       Pours slightly hazy deep amber/brown. 1 finger...  ...     ME\n",
              "\n",
              "[5 rows x 9 columns]"
            ]
          },
          "metadata": {},
          "execution_count": 18
        }
      ],
      "source": [
        "# Creating a dataframe grouped by beer for content-based recommendations\n",
        "cont_df = df.groupby(['beer_id'], as_index = False).agg({'text':' '.join, 'score':'mean','beer_id':'first',\n",
        "                                                         'beer_name':'first','style':'first','broad_style':'first',\n",
        "                                                         'abv':'first','brewery_name':'first','city':'first',\n",
        "                                                         'state':'first'})\n",
        "\n",
        "# Setting the index to beer's unique ID\n",
        "cont_df = cont_df.set_index('beer_id')\n",
        "\n",
        "# Sanity check of the data\n",
        "cont_df.head()"
      ]
    },
    {
      "cell_type": "code",
      "execution_count": 19,
      "metadata": {
        "scrolled": false,
        "colab": {
          "base_uri": "https://localhost:8080/",
          "height": 975
        },
        "id": "qHkOdm2AIemp",
        "outputId": "9245006c-5667-4402-b6cd-9c714de6e862"
      },
      "outputs": [
        {
          "output_type": "display_data",
          "data": {
            "image/png": "[encoded data removed]",
            "text/plain": [
              "<Figure size 4500x3000 with 1 Axes>"
            ]
          },
          "metadata": {
            "needs_background": "light"
          }
        }
      ],
      "source": [
        "# Plotting the top ten styles\n",
        "plt.figure(figsize=(15,10), dpi=300)\n",
        "ax = sns.countplot(x = 'broad_style', data=cont_df, palette='rocket_r', \n",
        "                   order=cont_df['broad_style'].value_counts().index[:10])\n",
        "plt.title(\"Top Beer Styles\", fontsize=20)\n",
        "plt.xlabel(\"Style\", fontsize=16)\n",
        "plt.ylabel(\"Count\", fontsize=16)\n",
        "plt.xticks(fontsize=12);"
      ]
    },
    {
      "cell_type": "markdown",
      "metadata": {
        "id": "GkaY-bHTIemp"
      },
      "source": [
        "## <a id=\"#Text Preprocessing with Texthero\">Text Preprocessing with Texthero</a> "
      ]
    },
    {
      "cell_type": "markdown",
      "metadata": {
        "id": "lvxcQCIhIemp"
      },
      "source": [
        "> Knowing I wanted to use NLP in my project, I set out to do some research. After reading [several](https://towardsdatascience.com/how-to-vectorize-text-in-dataframes-for-nlp-tasks-3-simple-techniques-82925a5600db) [different](https://towardsdatascience.com/try-texthero-the-absolute-simplest-way-to-clean-and-analyze-text-in-pandas-6db86ed14272) [articles](https://elitedatascience.com/python-nlp-libraries) on how to clean and analyze text data I decided to use [Texthero](https://texthero.org/) for my review preprocessing. Combining elements of spaCy and NLTK, along with its simple to use all-in-one cleaning pipeline, it provided to be the most logical choice of tool. [documentation](https://texthero.org/docs/api-preprocessing) can be found here.\n",
        "> \n",
        "> Then the cleaned text data is vectorized using tf–idf to create a document-term matrix. After several iterations of testing different combinations I find that using 300 features with a range of unigrams to trigrams provided the best results in the models."
      ]
    },
    {
      "cell_type": "code",
      "execution_count": 20,
      "metadata": {
        "id": "mfp8bHSspSoq"
      },
      "outputs": [],
      "source": [
        "# Using Texthero's built in text cleaning pipeline\n",
        "cont_df['clean_text'] = hero.clean(cont_df['text'])"
      ]
    },
    {
      "cell_type": "code",
      "execution_count": null,
      "metadata": {
        "id": "xzjTQPIOpSoq"
      },
      "outputs": [],
      "source": [
        "# Stemming the text for modeling\n",
        "cont_df['clean_text'] = hero.stem(cont_df['clean_text'])"
      ]
    },
    {
      "cell_type": "code",
      "execution_count": null,
      "metadata": {
        "scrolled": true,
        "id": "3ULcWgKDIemq"
      },
      "outputs": [],
      "source": [
        "# Dropping irelevant columns \n",
        "cont_df = cont_df.drop(columns=['text'])"
      ]
    },
    {
      "cell_type": "code",
      "execution_count": null,
      "metadata": {
        "id": "26bdFnQVIemr"
      },
      "outputs": [],
      "source": [
        "# Sanity check of the data\n",
        "cont_df.head()"
      ]
    },
    {
      "cell_type": "code",
      "execution_count": null,
      "metadata": {
        "id": "z8Bth9fHIemr"
      },
      "outputs": [],
      "source": [
        "# Saving off final cleaned dataset for use in the Streamlit App\n",
        "# cont_df.to_csv('data/cont_df.csv', index_label = 'beer_id')"
      ]
    },
    {
      "cell_type": "code",
      "execution_count": null,
      "metadata": {
        "id": "WNjb2xBiY3iP"
      },
      "outputs": [],
      "source": [
        "# Creating a vectorizer to transform the data with 300 features and a range of unigrams to trigrams\n",
        "tf = TfidfVectorizer(max_features=300, ngram_range=(1,3))\n",
        "\n",
        "# Fitting and transforming the clean text data \n",
        "dtm = tf.fit_transform(cont_df['clean_text'])\n",
        "\n",
        "# Creating a document-term matrix\n",
        "dtm = pd.DataFrame(dtm.todense(), columns=tf.get_feature_names(), index = cont_df.index)"
      ]
    },
    {
      "cell_type": "code",
      "execution_count": null,
      "metadata": {
        "id": "HoVyQ577Iemr"
      },
      "outputs": [],
      "source": [
        "# Sanity check of the data\n",
        "dtm.head()"
      ]
    },
    {
      "cell_type": "markdown",
      "metadata": {
        "id": "RxkwAo-3Iemr"
      },
      "source": [
        "# <a href=\"#Modeling\">Modeling</a>\n",
        "> To prepare my data to be modeled I use one-hot encoding and min-max scaling on my numerical features, and join them back into my document-term matrix that I created above. I then test out a Cosine Similarity method, first creating it step by step, then in a function that can be used with user inputs. Once I create that function I am able to easily tailor it to other content-based modeling methods like Linear Kernel Method and K-Nearest Neighbors."
      ]
    },
    {
      "cell_type": "code",
      "execution_count": null,
      "metadata": {
        "id": "LXwiHz5_KisS"
      },
      "outputs": [],
      "source": [
        "# Merging the document-term matrix back into the content dataframe\n",
        "model_df = cont_df.merge(dtm, left_index=True, right_index=True)\n",
        "\n",
        "# Renaming columns with the same name\n",
        "model_df = model_df.rename(columns={'style_x':'style','abv_x':'abv'})\n",
        "\n",
        "# Dropping irrelevant columns\n",
        "model_df = model_df.drop(columns=['beer_id','style','beer_name','brewery_name','city','state','clean_text'])"
      ]
    },
    {
      "cell_type": "code",
      "execution_count": null,
      "metadata": {
        "id": "sJgT87QUpSoq"
      },
      "outputs": [],
      "source": [
        "# Creating a dataframe to call my results from\n",
        "result_df = cont_df[['beer_name','style','brewery_name','city','state']]\n",
        "\n",
        "# Making the column names pretty\n",
        "result_df = result_df.rename(columns={'beer_name':'Name','style':'Style',\n",
        "                                      'brewery_name':'Brewery','city':'City',\n",
        "                                      'state':'State'})"
      ]
    },
    {
      "cell_type": "code",
      "execution_count": null,
      "metadata": {
        "id": "HBHvzgJDSY1a"
      },
      "outputs": [],
      "source": [
        "# Encoding the styles for modeling\n",
        "style_OHE = pd.get_dummies(model_df['broad_style'], sparse=True)"
      ]
    },
    {
      "cell_type": "code",
      "execution_count": null,
      "metadata": {
        "id": "Ls7WAjanpSor"
      },
      "outputs": [],
      "source": [
        "# Calling the columns that need to be scaled\n",
        "col_names = ['abv', 'score']\n",
        "\n",
        "# Selecting those columns\n",
        "features = model_df[col_names]\n",
        "\n",
        "# Fitting and transforming the columns with a MinMaxScalers\n",
        "features = MinMaxScaler().fit_transform(features.values)\n",
        "\n",
        "# Setting those transformed features back into the data\n",
        "model_df[col_names] = features\n",
        "\n",
        "# Joining the one hot encoded data with the scaled data\n",
        "final_df = model_df.join(style_OHE)\n",
        "\n",
        "# Dropping the style column now that it is encoded out\n",
        "final_df = final_df.drop(columns=['broad_style'])"
      ]
    },
    {
      "cell_type": "code",
      "execution_count": null,
      "metadata": {
        "id": "-uHEDULvjWsc"
      },
      "outputs": [],
      "source": [
        "# Sanity check\n",
        "final_df.head()"
      ]
    },
    {
      "cell_type": "code",
      "execution_count": null,
      "metadata": {
        "id": "X4kMszheBaAs"
      },
      "outputs": [],
      "source": [
        "# Superfuzz is the beer I will be testing\n",
        "y = np.array(final_df.loc[90993])\n",
        "\n",
        "# Reshaping the row into an array that can be passed into the model\n",
        "y = y.reshape(1, -1)\n",
        "\n",
        "# Calculating the cosine similarity \n",
        "cos_sim = cosine_similarity(final_df, y)\n",
        "\n",
        "# Creating a printout of the scores with their respective indices\n",
        "cos_sim = pd.DataFrame(data=cos_sim, index=final_df.index)\n",
        "\n",
        "# Sorting by highest scoring\n",
        "results = cos_sim.sort_values(by = 0, ascending=False)\n",
        "\n",
        "# Printing out the source beer and its top 5 recommendations\n",
        "results.head(6)"
      ]
    },
    {
      "cell_type": "code",
      "execution_count": null,
      "metadata": {
        "id": "TgrNCVpS4ctL"
      },
      "outputs": [],
      "source": [
        "# This is the printout for my starting beer\n",
        "result_df.loc[90993]"
      ]
    },
    {
      "cell_type": "code",
      "execution_count": null,
      "metadata": {
        "id": "1nRj-uw--u8G"
      },
      "outputs": [],
      "source": [
        "# And the printout of my top result\n",
        "result_df.loc[80348]"
      ]
    },
    {
      "cell_type": "markdown",
      "metadata": {
        "id": "aspKglQTIemt"
      },
      "source": [
        "## <a id=\"#Cosine Similarity\">Cosine Similarity</a>"
      ]
    },
    {
      "cell_type": "code",
      "execution_count": null,
      "metadata": {
        "id": "k7hXXIBm5wtB"
      },
      "outputs": [],
      "source": [
        "def cos_beer():\n",
        "    \n",
        "    \"\"\"Returns top recommended beers based on cosine similarity with user imputs of style,\n",
        "    beer name, and number of recommendations\"\"\"\n",
        "    \n",
        "    # User inputs style of beer they are looking for\n",
        "    style_input = input('Style: ')\n",
        "    # Input name of beer\n",
        "    beer_input = input('Beer Name: ')\n",
        "    # Input number of recommendations\n",
        "    n_recs = int(input('How many recommendations? '))\n",
        "    \n",
        "    # Data is sliced \n",
        "    style_df = cont_df[cont_df['broad_style'] == style_input]\n",
        "    \n",
        "    # Creating a vectorizer to transform the data with 300 features and a range of unigrams to trigrams\n",
        "    tf = TfidfVectorizer(max_features=300, ngram_range=(1,3))\n",
        "    # Fitting and transforming the clean text data \n",
        "    dtm = tf.fit_transform(style_df['clean_text'])\n",
        "    # Creating a document-term matrix\n",
        "    dtm = pd.DataFrame(dtm.todense(), columns=tf.get_feature_names(), index = style_df.index)\n",
        "    # Merging the document-term matrix back into the content dataframe\n",
        "    style_df = style_df.merge(dtm, left_index=True, right_index=True)\n",
        "    # Renaming columns with the same name\n",
        "    style_df = style_df.rename(columns={'style_x':'style','abv_x':'abv'})\n",
        "    # Dropping irrelevant columns\n",
        "    style_df = style_df.drop(columns=['broad_style','style','beer_name','brewery_name',\n",
        "                                      'city','state','clean_text'])\n",
        "\n",
        "    # Calling the columns that need to be scaled\n",
        "    col_names = ['abv', 'score']\n",
        "    # Selecting those column\n",
        "    features = style_df[col_names]\n",
        "    # Fitting and transforming the columns with a MinMaxScalers\n",
        "    features = MinMaxScaler().fit_transform(features.values)\n",
        "    # Setting those transformed features back into the data\n",
        "    style_df[col_names] = features\n",
        "    \n",
        "    # Grabbing the index value of the inputed beer\n",
        "    beerix = cont_df.loc[cont_df['beer_name'] == beer_input].index.values\n",
        "    # Selecting the row of that beer\n",
        "    y = np.array(style_df.loc[beerix[0]])\n",
        "    # Reshaping the row into an array that can be passed into the model\n",
        "    y = y.reshape(1, -1)\n",
        "    \n",
        "    # Calculating the cosine similarity \n",
        "    cos_sim = cosine_similarity(style_df, y)\n",
        "    # Creating a printout of the scores with their respective indices\n",
        "    cos_sim = pd.DataFrame(data=cos_sim, index=style_df.index)\n",
        "    # Sorting by highest scoring\n",
        "    results = cos_sim.sort_values(by = 0, ascending=False)\n",
        "    # Selecting n number indicies of top recommendations\n",
        "    nresultsid = results.head(n_recs+1).index.values[1:]\n",
        "    # Locating those beers in my results dataframe\n",
        "    nresults_df = result_df.loc[nresultsid]\n",
        "    # Returning those results\n",
        "    return nresults_df.style.hide_index()"
      ]
    },
    {
      "cell_type": "code",
      "execution_count": null,
      "metadata": {
        "scrolled": false,
        "id": "YksXmMbqIemt"
      },
      "outputs": [],
      "source": [
        "# Testing the function\n",
        "cos_beer()"
      ]
    },
    {
      "cell_type": "markdown",
      "metadata": {
        "id": "P1eHKfKYIemt"
      },
      "source": [
        "## <a id=\"#Linear Kernal\">Linear Kernal</a>"
      ]
    },
    {
      "cell_type": "code",
      "execution_count": null,
      "metadata": {
        "id": "o2NToXFwIemu"
      },
      "outputs": [],
      "source": [
        "def lin_beer():\n",
        "    \n",
        "    \"\"\"Returns top recommended beers based on linear kernel method with user imputs of style,\n",
        "    beer name, and number of recommendations\"\"\"\n",
        "    \n",
        "    # User inputs style of beer they are looking for\n",
        "    style_input = input('Style: ')\n",
        "    # Input name of beer\n",
        "    beer_input = input('Beer Name: ')\n",
        "    # Input number of recommendations\n",
        "    n_recs = int(input('How many recommendations? '))\n",
        "    \n",
        "    # Data is sliced \n",
        "    style_df = cont_df[cont_df['broad_style'] == style_input]\n",
        "    \n",
        "    # Creating a vectorizer to transform the data with 300 features and a range of unigrams to trigrams\n",
        "    tf = TfidfVectorizer(max_features=300, ngram_range=(1,3))\n",
        "    # Fitting and transforming the clean text data \n",
        "    dtm = tf.fit_transform(style_df['clean_text'])\n",
        "    # Creating a document-term matrix\n",
        "    dtm = pd.DataFrame(dtm.todense(), columns=tf.get_feature_names(), index = style_df.index)\n",
        "    # Merging the document-term matrix back into the content dataframe\n",
        "    style_df = style_df.merge(dtm, left_index=True, right_index=True)\n",
        "    # Renaming columns with the same name\n",
        "    style_df = style_df.rename(columns={'style_x':'style','abv_x':'abv'})\n",
        "    # Dropping irrelevant columns\n",
        "    style_df = style_df.drop(columns=['broad_style','style','beer_name','brewery_name',\n",
        "                                      'city','state','clean_text'])\n",
        "\n",
        "    # Calling the columns that need to be scaled\n",
        "    col_names = ['abv', 'score']\n",
        "    # Selecting those column\n",
        "    features = style_df[col_names]\n",
        "    # Fitting and transforming the columns with a MinMaxScalers\n",
        "    features = MinMaxScaler().fit_transform(features.values)\n",
        "    # Setting those transformed features back into the data\n",
        "    style_df[col_names] = features\n",
        "    \n",
        "    # Grabbing the index value of the inputed beer\n",
        "    beerix = cont_df.loc[cont_df['beer_name'] == beer_input].index.values\n",
        "    # Selecting the row of that beer\n",
        "    y = np.array(style_df.loc[beerix[0]])\n",
        "    # Reshaping the row into an array that can be passed into the model\n",
        "    y = y.reshape(1, -1)\n",
        "    \n",
        "    # Calculating the linear kernel \n",
        "    lin_ker = linear_kernel(style_df, y)\n",
        "    # Creating a printout of the scores with their respective indices\n",
        "    lin_ker = pd.DataFrame(data=lin_ker, index=style_df.index)\n",
        "    # Sorting by highest scoring\n",
        "    results = lin_ker.sort_values(by = 0, ascending=False)\n",
        "    # Selecting n number indicies of top recommendations\n",
        "    nresultsid = results.head(n_recs+1).index.values[1:]\n",
        "    # Locating those beers in my results dataframe\n",
        "    nresults_df = result_df.loc[nresultsid]\n",
        "    # Returning those results\n",
        "    return nresults_df.style.hide_index()"
      ]
    },
    {
      "cell_type": "code",
      "execution_count": null,
      "metadata": {
        "id": "l1X58RYNIemu"
      },
      "outputs": [],
      "source": [
        "# Testing the function\n",
        "lin_beer()"
      ]
    },
    {
      "cell_type": "markdown",
      "metadata": {
        "id": "03PQ41lRIemu"
      },
      "source": [
        "## <a id=\"#K-Nearest Neighbors\">K-Nearest Neighbors</a>"
      ]
    },
    {
      "cell_type": "code",
      "execution_count": null,
      "metadata": {
        "id": "vPvezkCpDsJ-"
      },
      "outputs": [],
      "source": [
        "def knn_beer():\n",
        "    \n",
        "    \"\"\"Returns top recommended beers using K-Nearest Neighbors with user imputs of style,\n",
        "    beer name, and number of recommendations\"\"\"\n",
        "    \n",
        "    # User inputs style of beer they are looking for\n",
        "    style_input = input('Style: ')\n",
        "    # Input name of beer\n",
        "    beer_input = input('Beer Name: ')\n",
        "    # Input number of recommendations\n",
        "    n_recs = int(input('How many recommendations? '))\n",
        "    \n",
        "    # Data is sliced \n",
        "    style_df = cont_df[cont_df['broad_style'] == style_input]\n",
        "    \n",
        "    # Creating a vectorizer to transform the data with 300 features and a range of unigrams to trigrams\n",
        "    tf = TfidfVectorizer(max_features=300, ngram_range=(1,3))\n",
        "    # Fitting and transforming the clean text data \n",
        "    dtm = tf.fit_transform(style_df['clean_text'])\n",
        "    # Creating a document-term matrix\n",
        "    dtm = pd.DataFrame(dtm.todense(), columns=tf.get_feature_names(), index = style_df.index)\n",
        "    # Merging the document-term matrix back into the content dataframe\n",
        "    style_df = style_df.merge(dtm, left_index=True, right_index=True)\n",
        "    # Renaming columns with the same name\n",
        "    style_df = style_df.rename(columns={'style_x':'style','abv_x':'abv'})\n",
        "    # Dropping irrelevant columns\n",
        "    style_df = style_df.drop(columns=['broad_style','style','beer_name','brewery_name',\n",
        "                                      'city','state','clean_text'])\n",
        "\n",
        "    # Calling the columns that need to be scaled\n",
        "    col_names = ['abv', 'score']\n",
        "    # Selecting those column\n",
        "    features = style_df[col_names]\n",
        "    # Fitting and transforming the columns with a MinMaxScalers\n",
        "    features = MinMaxScaler().fit_transform(features.values)\n",
        "    # Setting those transformed features back into the data\n",
        "    style_df[col_names] = features\n",
        "    \n",
        "    # Grabbing the index value of the inputed beer\n",
        "    beerix = cont_df.loc[cont_df['beer_name'] == beer_input].index.values\n",
        "    # Selecting the row of that beer\n",
        "    x = np.array(style_df.loc[beerix[0]])\n",
        "    # Reshaping the row into an array that can be passed into the model\n",
        "    x = y.reshape(1, -1)\n",
        "    \n",
        "    # Creating a knn model with the auto algorithm and 5 nearest neighbors\n",
        "    knn = NearestNeighbors(algorithm='auto', n_neighbors=5)\n",
        "    # Fitting the model on the dataframe\n",
        "    knn.fit(style_df)\n",
        "    \n",
        "    # Selecting n number results\n",
        "    results = knn.kneighbors(x, n_recs+1, return_distance=False).flatten()\n",
        "    # Selecting their indicies\n",
        "    resultsids = style_df.iloc[results].index.values[1:]\n",
        "    # Locating those beers in my results dataframe\n",
        "    nresults_df = result_df.loc[resultsids]\n",
        "    # Returning those results\n",
        "    return nresults_df.style.hide_index()"
      ]
    },
    {
      "cell_type": "code",
      "execution_count": null,
      "metadata": {
        "scrolled": true,
        "id": "0n9SsUjSIemu"
      },
      "outputs": [],
      "source": [
        "# Testing the function\n",
        "knn_beer()"
      ]
    },
    {
      "cell_type": "markdown",
      "metadata": {
        "id": "eNGE4KyvIemv"
      },
      "source": [
        "# <a id=\"#Conclusion\">Conclusion</a>"
      ]
    },
    {
      "cell_type": "markdown",
      "metadata": {
        "id": "oZfJ_hTRIemv"
      },
      "source": [
        "> After reading [articles](https://towardsdatascience.com/understanding-cosine-similarity-and-its-application-fd42f585296a) on the subject of how to best determine what method to use, I decided upon my Cosine Similarity model. It is widely used for caluclating text data similarity, therefore the best approach for handling my review data. From the function I created here I built an app using `Streamlit`, deployed on [Heroku](https://beer-me-recommender.herokuapp.com/). With Heroku's limited virtual memory allocation being my main hurdle I found it best to create a document-term matrix for all fourteen broad styles outside of the app and have them read in determined by a user's input. This keeps the load times quick and the memory usage as low as possilbe. Ideally, I would want to see this implemented by a beer review website such as Beer Advocate or Ratebeer. They already have all the data necessary, and could create this app to be then sold to businesses to so that they can make accurate data based recommendations to their customers.\n",
        ">\n",
        "> Lastly here, I wanted to create a few images to use for my presentation based on my reference beer and top recommendation.\n",
        "> Gaining inspiration from [this article](https://towardsdatascience.com/how-to-create-beautiful-word-clouds-in-python-cfcf85141214) I was able to use `text hero` once more to create these word clouds."
      ]
    },
    {
      "cell_type": "code",
      "execution_count": null,
      "metadata": {
        "id": "K-OkOOw3Iemv"
      },
      "outputs": [],
      "source": [
        "# Importing mask for the shape of my word clouds\n",
        "beer_mask = np.array(Image.open('images/beershape.png'))"
      ]
    },
    {
      "cell_type": "code",
      "execution_count": null,
      "metadata": {
        "id": "fqusBMySIemv"
      },
      "outputs": [],
      "source": [
        "# Creating cloud for my reference beer\n",
        "beer1 = cont_df.loc[[90993]]['clean_text']\n",
        "wordcloud(beer1, max_words = 50, mask=beer_mask, contour_color='#802036', contour_width=2, colormap = 'flare', height= 600)"
      ]
    },
    {
      "cell_type": "code",
      "execution_count": null,
      "metadata": {
        "id": "tZkVz74XIemv"
      },
      "outputs": [],
      "source": [
        "# Creating cloud for my top recommendation\n",
        "beer2 = cont_df.loc[[175577]]['clean_text']\n",
        "wordcloud(beer2, max_words = 50, mask=beer_mask, contour_color='#802036', contour_width=2, colormap = 'flare', height= 600)"
      ]
    },
    {
      "cell_type": "markdown",
      "metadata": {
        "id": "ZfjR7CP7Iemv"
      },
      "source": [
        "# <a id=\"#Next Steps\">Next Steps</a>   "
      ]
    },
    {
      "cell_type": "markdown",
      "metadata": {
        "id": "xLowrp4iIemv"
      },
      "source": [
        "> As extensive as this may seem, there is always more data that can be gathered. Ideally I would like to get more current data for as many beers as possible to keep the model as up to date as possible. I would also be interested in gathering more features to use such as IBU, and the varieties of hops and malts used to brew each beer. In addition to that, I would like to create more specific data slicing options in the app such as being able to get recommendations based on state or even a brewery level. Lastly I would want to implement this model for other consumables such as whole bean coffee or wine, if you can review it, I can use it!"
      ]
    },
    {
      "cell_type": "markdown",
      "metadata": {
        "id": "nfQuvbfZIemv"
      },
      "source": [
        "# <a id=\"#Sources\">Sources</a>"
      ]
    },
    {
      "cell_type": "markdown",
      "metadata": {
        "id": "vHyLRBUBIemw"
      },
      "source": [
        "> [Beers, Breweries, and Beer Reviews](https://www.kaggle.com/ehallmar/beers-breweries-and-beer-reviews?select=beers.csv)\n",
        ">\n",
        ">[How to Vectorize Text in DataFrames for NLP Tasks — 3 Simple Techniques](https://towardsdatascience.com/how-to-vectorize-text-in-dataframes-for-nlp-tasks-3-simple-techniques-82925a5600db)\n",
        ">\n",
        "> [Try TextHero: The Absolute Simplest way to Clean and Analyze Text in Pandas](https://towardsdatascience.com/try-texthero-the-absolute-simplest-way-to-clean-and-analyze-text-in-pandas-6db86ed14272)\n",
        ">\n",
        "> [5 Heroic Python NLP Libraries](https://elitedatascience.com/python-nlp-libraries)\n",
        ">\n",
        "> [Texthero](https://texthero.org/)\n",
        ">\n",
        "> [Understanding Cosine Similarity And Its Application](https://towardsdatascience.com/understanding-cosine-similarity-and-its-application-fd42f585296a)\n",
        ">\n",
        "> [How to Create Beautiful Word Clouds in Python](https://towardsdatascience.com/how-to-create-beautiful-word-clouds-in-python-cfcf85141214)"
      ]
    }
  ],
  "metadata": {
    "colab": {
      "collapsed_sections": [
        "1Ybhi8-xDyr8",
        "udoJYsZ-Y-h3"
      ],
      "machine_shape": "hm",
      "name": "FinalNotebook.ipynb",
      "provenance": []
    },
    "kernelspec": {
      "display_name": "Python (learn-env)",
      "language": "python",
      "name": "learn-env"
    },
    "language_info": {
      "codemirror_mode": {
        "name": "ipython",
        "version": 3
      },
      "file_extension": ".py",
      "mimetype": "text/x-python",
      "name": "python",
      "nbconvert_exporter": "python",
      "pygments_lexer": "ipython3",
      "version": "3.8.5"
    }
  },
  "nbformat": 4,
  "nbformat_minor": 0
}