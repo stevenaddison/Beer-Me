{
 "cells": [
  {
   "cell_type": "markdown",
   "metadata": {},
   "source": [
    "### <span style=\"color:red\">Warning: Do not run notebook, certain cells take upwards of 30 minutes to run!!!</span>\n",
    "# <span style=\"font-size:1.3em;\">Beer Me: A Content-Based Recommender System\n",
    "Author: Steven Addison"
   ]
  },
  {
   "cell_type": "markdown",
   "metadata": {},
   "source": [
    "# Contents\n",
    "<l></l>\n",
    "\n",
    "<span style=\"font-size:1.2em;\">\n",
    "\n",
    "- <a href=\"#Overview\">Overview</a>\n",
    "\n",
    "- <a href=\"#Business Understanding\">Business Understanding</a>  \n",
    "\n",
    "- <a href=\"#Data Understanding\">Data Understanding</a>  \n",
    "    \n",
    "- <a href=\"#Imports\">Imports</a> \n",
    "\n",
    "- <a href=\"#Data Preparation & Analysis\">Data Preparation & Analysis</a> \n",
    "    \n",
    "    - <a href=\"#Creating Final Database\">Creating Final Database</a>\n",
    "    \n",
    "    - <a href=\"#Text Preprocessing with Texthero\">Text Preprocessing with Texthero</a>    \n",
    "    \n",
    "- <a href=\"#Modeling\">Modeling</a>\n",
    "    \n",
    "    - <a href=\"#Cosine Similarity\">Cosine Similarity</a>\n",
    "    \n",
    "    - <a href=\"#Linear Kernal\">Linear Kernal</a>\n",
    "    \n",
    "    - <a href=\"#K-Nearest Neighbors\">K-Nearest Neighbors</a>\n",
    "        \n",
    "- <a href=\"#Conclusion\">Conclusion</a>\n",
    "    \n",
    "- <a href=\"#Next Steps\">Next Steps</a>\n",
    "    \n",
    "- <a href=\"#Sources\">Sources</a>"
   ]
  },
  {
   "cell_type": "markdown",
   "metadata": {},
   "source": [
    "# <a id=\"#Overview\">Overview</a>"
   ]
  },
  {
   "cell_type": "markdown",
   "metadata": {},
   "source": [
    "> This project analyzes beer review data of 82,000 unique beers and recommends the top similar styles analyzing Review Text with a tf-idf vectorizer, Style, ABV, and Overall Rating."
   ]
  },
  {
   "cell_type": "markdown",
   "metadata": {},
   "source": [
    "# <a id=\"#Business Understanding\">Business Understanding</a>"
   ]
  },
  {
   "cell_type": "markdown",
   "metadata": {},
   "source": [
    "> As someone who has spent many years in the restaurant industry I often dread hearing “what do you recommend”, it always has felt like a loaded question to me seeing how one never has enough time to learn about a customer’s likes and taste in order to give accurate guidance. That is why a content-based recommender system such as this one can take all the guessing work out of the equation so that a customer can enjoy a beverage that has been selected for them based on similar items other enthusiasts have previously reviewed and enjoyed."
   ]
  },
  {
   "cell_type": "markdown",
   "metadata": {},
   "source": [
    "# <a id=\"Data Understanding\">Data Understanding</a>"
   ]
  },
  {
   "cell_type": "markdown",
   "metadata": {},
   "source": [
    ">"
   ]
  },
  {
   "cell_type": "markdown",
   "metadata": {
    "id": "0IzyyW0ipSoW"
   },
   "source": [
    "# <a id=\"Imports\">Imports</a>"
   ]
  },
  {
   "cell_type": "code",
   "execution_count": 1,
   "metadata": {
    "executionInfo": {
     "elapsed": 8,
     "status": "ok",
     "timestamp": 1642608282486,
     "user": {
      "displayName": "Steven Addison",
      "photoUrl": "https://lh3.googleusercontent.com/a-/AOh14Ggvrkb1asDESkHlRf75vzpzJZ5bM7lB3C8pEgr3uQ=s64",
      "userId": "18377436314153100010"
     },
     "user_tz": 480
    },
    "id": "lew5bIi-pSod"
   },
   "outputs": [],
   "source": [
    "import pandas as pd\n",
    "import numpy as np\n",
    "import matplotlib.pyplot as plt\n",
    "import seaborn as sns\n",
    "%matplotlib inline\n",
    "\n",
    "import texthero as hero\n",
    "from texthero import preprocessing\n",
    "from texthero.visualization import wordcloud\n",
    "from PIL import Image\n",
    "\n",
    "from sklearn.preprocessing import MinMaxScaler\n",
    "\n",
    "from sklearn.metrics.pairwise import linear_kernel\n",
    "from sklearn.metrics.pairwise import cosine_similarity\n",
    "\n",
    "from sklearn.neighbors import NearestNeighbors\n",
    "\n",
    "from sklearn.feature_extraction.text import TfidfVectorizer\n",
    "\n",
    "import warnings"
   ]
  },
  {
   "cell_type": "markdown",
   "metadata": {
    "id": "GAseFNDxpSod"
   },
   "source": [
    "---\n",
    "# <a id=\"Data Preparation & Analysis\">Data Preparation & Analysis</a>"
   ]
  },
  {
   "cell_type": "code",
   "execution_count": 2,
   "metadata": {},
   "outputs": [],
   "source": [
    "# import script used to preform basic EDA on my datasets, plus a dictionary used to define a later column\n",
    "%run eda.py"
   ]
  },
  {
   "cell_type": "markdown",
   "metadata": {
    "id": "fH9m5EmwpSoh"
   },
   "source": [
    "---\n",
    "> ### First Dataset\n",
    ">\n",
    "> [Beers, Breweries, and Beer Reviews](https://www.kaggle.com/ehallmar/beers-breweries-and-beer-reviews?select=beers.csv)"
   ]
  },
  {
   "cell_type": "code",
   "execution_count": 3,
   "metadata": {
    "executionInfo": {
     "elapsed": 961,
     "status": "ok",
     "timestamp": 1642608283735,
     "user": {
      "displayName": "Steven Addison",
      "photoUrl": "https://lh3.googleusercontent.com/a-/AOh14Ggvrkb1asDESkHlRf75vzpzJZ5bM7lB3C8pEgr3uQ=s64",
      "userId": "18377436314153100010"
     },
     "user_tz": 480
    },
    "id": "BcMYq2VtpSoh"
   },
   "outputs": [],
   "source": [
    "# Reading in the data containing the beers\n",
    "beer = pd.read_csv('data/beers.csv')"
   ]
  },
  {
   "cell_type": "code",
   "execution_count": 4,
   "metadata": {
    "executionInfo": {
     "elapsed": 15,
     "status": "ok",
     "timestamp": 1642608283736,
     "user": {
      "displayName": "Steven Addison",
      "photoUrl": "https://lh3.googleusercontent.com/a-/AOh14Ggvrkb1asDESkHlRf75vzpzJZ5bM7lB3C8pEgr3uQ=s64",
      "userId": "18377436314153100010"
     },
     "user_tz": 480
    },
    "id": "Zfr77Go2pSoi",
    "scrolled": true
   },
   "outputs": [],
   "source": [
    "# EDA on that data\n",
    "# eda(beer)"
   ]
  },
  {
   "cell_type": "code",
   "execution_count": 5,
   "metadata": {
    "executionInfo": {
     "elapsed": 16,
     "status": "ok",
     "timestamp": 1642608283738,
     "user": {
      "displayName": "Steven Addison",
      "photoUrl": "https://lh3.googleusercontent.com/a-/AOh14Ggvrkb1asDESkHlRf75vzpzJZ5bM7lB3C8pEgr3uQ=s64",
      "userId": "18377436314153100010"
     },
     "user_tz": 480
    },
    "id": "iMjrGXYApSoi"
   },
   "outputs": [],
   "source": [
    "# Dropping irrelevant columns\n",
    "beer = beer.drop(columns=['country','notes'])\n",
    "\n",
    "# Renaming columns for consistency among all dataframes\n",
    "beer = beer.rename(columns={'id': 'beer_id', 'name': 'beer_name'})\n",
    "\n",
    "# Removing rows without state data\n",
    "beer = beer.dropna(subset=['state'])\n",
    "\n",
    "# Cleaning the availability column \n",
    "beer['availability'] = beer['availability'].str.strip()"
   ]
  },
  {
   "cell_type": "code",
   "execution_count": 6,
   "metadata": {},
   "outputs": [],
   "source": [
    "beer['broad_style'] = beer['style'].replace(styledict)"
   ]
  },
  {
   "cell_type": "code",
   "execution_count": 7,
   "metadata": {
    "executionInfo": {
     "elapsed": 13,
     "status": "ok",
     "timestamp": 1642608283739,
     "user": {
      "displayName": "Steven Addison",
      "photoUrl": "https://lh3.googleusercontent.com/a-/AOh14Ggvrkb1asDESkHlRf75vzpzJZ5bM7lB3C8pEgr3uQ=s64",
      "userId": "18377436314153100010"
     },
     "user_tz": 480
    },
    "id": "fODfnreVpSoj",
    "scrolled": true
   },
   "outputs": [],
   "source": [
    "# eda(beer)"
   ]
  },
  {
   "cell_type": "markdown",
   "metadata": {
    "id": "9S_b4-TrpSok"
   },
   "source": [
    "---\n",
    "> ### Second Dataset\n",
    ">\n",
    "> [Beers, Breweries, and Beer Reviews](https://www.kaggle.com/ehallmar/beers-breweries-and-beer-reviews?select=beers.csv)"
   ]
  },
  {
   "cell_type": "code",
   "execution_count": 8,
   "metadata": {
    "executionInfo": {
     "elapsed": 642,
     "status": "ok",
     "timestamp": 1642608284369,
     "user": {
      "displayName": "Steven Addison",
      "photoUrl": "https://lh3.googleusercontent.com/a-/AOh14Ggvrkb1asDESkHlRf75vzpzJZ5bM7lB3C8pEgr3uQ=s64",
      "userId": "18377436314153100010"
     },
     "user_tz": 480
    },
    "id": "iftZUvqdpSok"
   },
   "outputs": [],
   "source": [
    "# Reading in the data containing the breweries\n",
    "breweries = pd.read_csv('data/breweries.csv')"
   ]
  },
  {
   "cell_type": "code",
   "execution_count": 9,
   "metadata": {
    "executionInfo": {
     "elapsed": 88,
     "status": "ok",
     "timestamp": 1642608284371,
     "user": {
      "displayName": "Steven Addison",
      "photoUrl": "https://lh3.googleusercontent.com/a-/AOh14Ggvrkb1asDESkHlRf75vzpzJZ5bM7lB3C8pEgr3uQ=s64",
      "userId": "18377436314153100010"
     },
     "user_tz": 480
    },
    "id": "EiOXltuFpSol",
    "scrolled": true
   },
   "outputs": [],
   "source": [
    "# EDA on that data\n",
    "# eda(breweries)"
   ]
  },
  {
   "cell_type": "code",
   "execution_count": 10,
   "metadata": {
    "executionInfo": {
     "elapsed": 62,
     "status": "ok",
     "timestamp": 1642608284374,
     "user": {
      "displayName": "Steven Addison",
      "photoUrl": "https://lh3.googleusercontent.com/a-/AOh14Ggvrkb1asDESkHlRf75vzpzJZ5bM7lB3C8pEgr3uQ=s64",
      "userId": "18377436314153100010"
     },
     "user_tz": 480
    },
    "id": "NYIXVAFMpSol"
   },
   "outputs": [],
   "source": [
    "# Dropping irrelevant columns\n",
    "breweries = breweries.drop(columns=['notes'])\n",
    "\n",
    "# Renaming columns for consistency among all dataframes\n",
    "breweries = breweries.rename(columns={'id': 'brewery_id', 'name': 'brewery_name'})\n",
    "\n",
    "# Removing rows without state data\n",
    "beer = beer.dropna(subset=['state'])"
   ]
  },
  {
   "cell_type": "markdown",
   "metadata": {
    "id": "uYmjLVy1pSol"
   },
   "source": [
    "---\n",
    "> ### Third Dataset\n",
    ">\n",
    "> [Beers, Breweries, and Beer Reviews](https://www.kaggle.com/ehallmar/beers-breweries-and-beer-reviews?select=beers.csv)"
   ]
  },
  {
   "cell_type": "code",
   "execution_count": 12,
   "metadata": {
    "executionInfo": {
     "elapsed": 29315,
     "status": "ok",
     "timestamp": 1642608313643,
     "user": {
      "displayName": "Steven Addison",
      "photoUrl": "https://lh3.googleusercontent.com/a-/AOh14Ggvrkb1asDESkHlRf75vzpzJZ5bM7lB3C8pEgr3uQ=s64",
      "userId": "18377436314153100010"
     },
     "user_tz": 480
    },
    "id": "Wwq_guh0pSom"
   },
   "outputs": [],
   "source": [
    "# Reading in the data containg the breweries\n",
    "reviews = pd.read_csv('data/reviews.csv')"
   ]
  },
  {
   "cell_type": "code",
   "execution_count": 13,
   "metadata": {
    "executionInfo": {
     "elapsed": 16,
     "status": "ok",
     "timestamp": 1642608313645,
     "user": {
      "displayName": "Steven Addison",
      "photoUrl": "https://lh3.googleusercontent.com/a-/AOh14Ggvrkb1asDESkHlRf75vzpzJZ5bM7lB3C8pEgr3uQ=s64",
      "userId": "18377436314153100010"
     },
     "user_tz": 480
    },
    "id": "mT929wjIpSom",
    "scrolled": true
   },
   "outputs": [],
   "source": [
    "# EDA on that data\n",
    "# eda(reviews)"
   ]
  },
  {
   "cell_type": "code",
   "execution_count": 14,
   "metadata": {
    "executionInfo": {
     "elapsed": 12807,
     "status": "ok",
     "timestamp": 1642608326767,
     "user": {
      "displayName": "Steven Addison",
      "photoUrl": "https://lh3.googleusercontent.com/a-/AOh14Ggvrkb1asDESkHlRf75vzpzJZ5bM7lB3C8pEgr3uQ=s64",
      "userId": "18377436314153100010"
     },
     "user_tz": 480
    },
    "id": "GFrh21WjpSom"
   },
   "outputs": [],
   "source": [
    "# Dropping irrelevant columns\n",
    "reviews = reviews.drop(columns=['date','look','smell','taste','feel','overall'])\n",
    "\n",
    "# Setting blank reviews as nan so they can be dropped\n",
    "reviews['text'] = reviews['text'].str.strip()\n",
    "reviews['text'] = reviews['text'].replace({\"\":np.nan,\"0%\":np.nan})\n",
    "\n",
    "# Dropping reviews without username and review text data\n",
    "reviews = reviews.dropna(subset=['username','text'])"
   ]
  },
  {
   "cell_type": "markdown",
   "metadata": {
    "id": "t3f3-yrhpSon"
   },
   "source": [
    "---"
   ]
  },
  {
   "cell_type": "markdown",
   "metadata": {
    "id": "TKWUT_nEpSon"
   },
   "source": [
    "## <a id=\"#Creating Final Database\">Creating Final Database</a>"
   ]
  },
  {
   "cell_type": "code",
   "execution_count": 15,
   "metadata": {
    "executionInfo": {
     "elapsed": 1066,
     "status": "ok",
     "timestamp": 1642608327830,
     "user": {
      "displayName": "Steven Addison",
      "photoUrl": "https://lh3.googleusercontent.com/a-/AOh14Ggvrkb1asDESkHlRf75vzpzJZ5bM7lB3C8pEgr3uQ=s64",
      "userId": "18377436314153100010"
     },
     "user_tz": 480
    },
    "id": "5lX01lXIpSon"
   },
   "outputs": [],
   "source": [
    "# Merging reviews into the beers bases on beer id\n",
    "beer_reviews = beer.merge(reviews, on=['beer_id'])"
   ]
  },
  {
   "cell_type": "code",
   "execution_count": 17,
   "metadata": {
    "executionInfo": {
     "elapsed": 1699,
     "status": "ok",
     "timestamp": 1642608329527,
     "user": {
      "displayName": "Steven Addison",
      "photoUrl": "https://lh3.googleusercontent.com/a-/AOh14Ggvrkb1asDESkHlRf75vzpzJZ5bM7lB3C8pEgr3uQ=s64",
      "userId": "18377436314153100010"
     },
     "user_tz": 480
    },
    "id": "MrhDviRjpSon"
   },
   "outputs": [],
   "source": [
    "# Merging breweries into the combined data\n",
    "plus_brew = beer_reviews.merge(breweries, on=['brewery_id'])"
   ]
  },
  {
   "cell_type": "code",
   "execution_count": 19,
   "metadata": {
    "executionInfo": {
     "elapsed": 1528,
     "status": "ok",
     "timestamp": 1642608331048,
     "user": {
      "displayName": "Steven Addison",
      "photoUrl": "https://lh3.googleusercontent.com/a-/AOh14Ggvrkb1asDESkHlRf75vzpzJZ5bM7lB3C8pEgr3uQ=s64",
      "userId": "18377436314153100010"
     },
     "user_tz": 480
    },
    "id": "gQvTVN2VpSop"
   },
   "outputs": [],
   "source": [
    "# Dropping duplicate column\n",
    "plus_brew = plus_brew.drop(columns=['state_x'])\n",
    "\n",
    "# Renaming column to reflect\n",
    "plus_brew = plus_brew.rename(columns={'state_y': 'state'})"
   ]
  },
  {
   "cell_type": "code",
   "execution_count": 20,
   "metadata": {
    "executionInfo": {
     "elapsed": 370,
     "status": "ok",
     "timestamp": 1642608331694,
     "user": {
      "displayName": "Steven Addison",
      "photoUrl": "https://lh3.googleusercontent.com/a-/AOh14Ggvrkb1asDESkHlRf75vzpzJZ5bM7lB3C8pEgr3uQ=s64",
      "userId": "18377436314153100010"
     },
     "user_tz": 480
    },
    "id": "ARYJWHI7pSoo"
   },
   "outputs": [],
   "source": [
    "# Selecting only available US beers\n",
    "df = plus_brew.loc[(plus_brew['country'] == 'US') & (plus_brew['retired'] == 'f')]\n",
    "\n",
    "# Dropping duplicates\n",
    "df = df.drop_duplicates()\n",
    "\n",
    "# Dropping rows with missing ibu data \n",
    "df = df.dropna(subset=['abv'])\n",
    "\n",
    "# Sanity check of the data\n",
    "df.head()"
   ]
  },
  {
   "cell_type": "code",
   "execution_count": 22,
   "metadata": {
    "colab": {
     "base_uri": "https://localhost:8080/",
     "height": 468
    },
    "executionInfo": {
     "elapsed": 18,
     "status": "ok",
     "timestamp": 1642608336839,
     "user": {
      "displayName": "Steven Addison",
      "photoUrl": "https://lh3.googleusercontent.com/a-/AOh14Ggvrkb1asDESkHlRf75vzpzJZ5bM7lB3C8pEgr3uQ=s64",
      "userId": "18377436314153100010"
     },
     "user_tz": 480
    },
    "id": "yrTxYGVrpSoo",
    "outputId": "b1f37090-4be4-49f2-fd92-ce932943e8cc",
    "scrolled": false
   },
   "outputs": [
    {
     "data": {
      "text/html": [
       "<div>\n",
       "<style scoped>\n",
       "    .dataframe tbody tr th:only-of-type {\n",
       "        vertical-align: middle;\n",
       "    }\n",
       "\n",
       "    .dataframe tbody tr th {\n",
       "        vertical-align: top;\n",
       "    }\n",
       "\n",
       "    .dataframe thead th {\n",
       "        text-align: right;\n",
       "    }\n",
       "</style>\n",
       "<table border=\"1\" class=\"dataframe\">\n",
       "  <thead>\n",
       "    <tr style=\"text-align: right;\">\n",
       "      <th></th>\n",
       "      <th>beer_id</th>\n",
       "      <th>beer_name</th>\n",
       "      <th>brewery_id</th>\n",
       "      <th>style</th>\n",
       "      <th>availability</th>\n",
       "      <th>abv</th>\n",
       "      <th>retired</th>\n",
       "      <th>broad_style</th>\n",
       "      <th>username</th>\n",
       "      <th>text</th>\n",
       "      <th>score</th>\n",
       "      <th>brewery_name</th>\n",
       "      <th>city</th>\n",
       "      <th>state</th>\n",
       "      <th>country</th>\n",
       "      <th>types</th>\n",
       "    </tr>\n",
       "  </thead>\n",
       "  <tbody>\n",
       "    <tr>\n",
       "      <th>87954</th>\n",
       "      <td>91469</td>\n",
       "      <td>IPA</td>\n",
       "      <td>29573</td>\n",
       "      <td>American IPA</td>\n",
       "      <td>Year-round</td>\n",
       "      <td>7.2</td>\n",
       "      <td>f</td>\n",
       "      <td>India Pale Ale</td>\n",
       "      <td>mjbachma</td>\n",
       "      <td>Classic bottle and labeling, titled by style, ...</td>\n",
       "      <td>3.94</td>\n",
       "      <td>pFriem Family Brewers</td>\n",
       "      <td>Hood River</td>\n",
       "      <td>OR</td>\n",
       "      <td>US</td>\n",
       "      <td>Brewery, Bar, Eatery, Beer-to-go</td>\n",
       "    </tr>\n",
       "    <tr>\n",
       "      <th>87955</th>\n",
       "      <td>91469</td>\n",
       "      <td>IPA</td>\n",
       "      <td>29573</td>\n",
       "      <td>American IPA</td>\n",
       "      <td>Year-round</td>\n",
       "      <td>7.2</td>\n",
       "      <td>f</td>\n",
       "      <td>India Pale Ale</td>\n",
       "      <td>CraftBeerRunner</td>\n",
       "      <td>Sweet Jammy fruity and bright. Drank fresh whi...</td>\n",
       "      <td>4.00</td>\n",
       "      <td>pFriem Family Brewers</td>\n",
       "      <td>Hood River</td>\n",
       "      <td>OR</td>\n",
       "      <td>US</td>\n",
       "      <td>Brewery, Bar, Eatery, Beer-to-go</td>\n",
       "    </tr>\n",
       "    <tr>\n",
       "      <th>87956</th>\n",
       "      <td>91469</td>\n",
       "      <td>IPA</td>\n",
       "      <td>29573</td>\n",
       "      <td>American IPA</td>\n",
       "      <td>Year-round</td>\n",
       "      <td>7.2</td>\n",
       "      <td>f</td>\n",
       "      <td>India Pale Ale</td>\n",
       "      <td>Hopheadjeffery</td>\n",
       "      <td>Tasted in a Spiegelau IPA glass from a bottle ...</td>\n",
       "      <td>4.04</td>\n",
       "      <td>pFriem Family Brewers</td>\n",
       "      <td>Hood River</td>\n",
       "      <td>OR</td>\n",
       "      <td>US</td>\n",
       "      <td>Brewery, Bar, Eatery, Beer-to-go</td>\n",
       "    </tr>\n",
       "    <tr>\n",
       "      <th>87957</th>\n",
       "      <td>91469</td>\n",
       "      <td>IPA</td>\n",
       "      <td>29573</td>\n",
       "      <td>American IPA</td>\n",
       "      <td>Year-round</td>\n",
       "      <td>7.2</td>\n",
       "      <td>f</td>\n",
       "      <td>India Pale Ale</td>\n",
       "      <td>BeerAndGasMasks</td>\n",
       "      <td>From the bottle, it pours a nice lightly hazy ...</td>\n",
       "      <td>4.00</td>\n",
       "      <td>pFriem Family Brewers</td>\n",
       "      <td>Hood River</td>\n",
       "      <td>OR</td>\n",
       "      <td>US</td>\n",
       "      <td>Brewery, Bar, Eatery, Beer-to-go</td>\n",
       "    </tr>\n",
       "    <tr>\n",
       "      <th>87958</th>\n",
       "      <td>91469</td>\n",
       "      <td>IPA</td>\n",
       "      <td>29573</td>\n",
       "      <td>American IPA</td>\n",
       "      <td>Year-round</td>\n",
       "      <td>7.2</td>\n",
       "      <td>f</td>\n",
       "      <td>India Pale Ale</td>\n",
       "      <td>NickSMpls</td>\n",
       "      <td>Can these guys do anything that's not great? O...</td>\n",
       "      <td>4.18</td>\n",
       "      <td>pFriem Family Brewers</td>\n",
       "      <td>Hood River</td>\n",
       "      <td>OR</td>\n",
       "      <td>US</td>\n",
       "      <td>Brewery, Bar, Eatery, Beer-to-go</td>\n",
       "    </tr>\n",
       "    <tr>\n",
       "      <th>...</th>\n",
       "      <td>...</td>\n",
       "      <td>...</td>\n",
       "      <td>...</td>\n",
       "      <td>...</td>\n",
       "      <td>...</td>\n",
       "      <td>...</td>\n",
       "      <td>...</td>\n",
       "      <td>...</td>\n",
       "      <td>...</td>\n",
       "      <td>...</td>\n",
       "      <td>...</td>\n",
       "      <td>...</td>\n",
       "      <td>...</td>\n",
       "      <td>...</td>\n",
       "      <td>...</td>\n",
       "      <td>...</td>\n",
       "    </tr>\n",
       "    <tr>\n",
       "      <th>2002145</th>\n",
       "      <td>202279</td>\n",
       "      <td>IPA</td>\n",
       "      <td>24952</td>\n",
       "      <td>American IPA</td>\n",
       "      <td>Rotating</td>\n",
       "      <td>6.5</td>\n",
       "      <td>f</td>\n",
       "      <td>India Pale Ale</td>\n",
       "      <td>kojevergas</td>\n",
       "      <td>On-draught at the bar in Sonoma. $5 per 16 oz ...</td>\n",
       "      <td>2.82</td>\n",
       "      <td>Hopmonk Tavern</td>\n",
       "      <td>Sonoma</td>\n",
       "      <td>CA</td>\n",
       "      <td>US</td>\n",
       "      <td>Brewery, Bar, Eatery</td>\n",
       "    </tr>\n",
       "    <tr>\n",
       "      <th>2002153</th>\n",
       "      <td>349972</td>\n",
       "      <td>IPA</td>\n",
       "      <td>49155</td>\n",
       "      <td>American IPA</td>\n",
       "      <td>Year-round</td>\n",
       "      <td>6.5</td>\n",
       "      <td>f</td>\n",
       "      <td>India Pale Ale</td>\n",
       "      <td>brett808ola</td>\n",
       "      <td>Smells very fruity, great for tropical weather...</td>\n",
       "      <td>4.98</td>\n",
       "      <td>Hawaiian Ola Brewing Corporation</td>\n",
       "      <td>Kailua Kona</td>\n",
       "      <td>HI</td>\n",
       "      <td>US</td>\n",
       "      <td>Brewery, Bar, Beer-to-go</td>\n",
       "    </tr>\n",
       "    <tr>\n",
       "      <th>2002260</th>\n",
       "      <td>275547</td>\n",
       "      <td>IPA</td>\n",
       "      <td>48593</td>\n",
       "      <td>American IPA</td>\n",
       "      <td>Year-round</td>\n",
       "      <td>6.6</td>\n",
       "      <td>f</td>\n",
       "      <td>India Pale Ale</td>\n",
       "      <td>JacobusFavier23</td>\n",
       "      <td>L- Straw colored IPA with a slight amber tint....</td>\n",
       "      <td>3.66</td>\n",
       "      <td>Haint Blue Brewery</td>\n",
       "      <td>Mobile</td>\n",
       "      <td>AL</td>\n",
       "      <td>US</td>\n",
       "      <td>Brewery</td>\n",
       "    </tr>\n",
       "    <tr>\n",
       "      <th>2002326</th>\n",
       "      <td>322903</td>\n",
       "      <td>IPA</td>\n",
       "      <td>47202</td>\n",
       "      <td>American IPA</td>\n",
       "      <td>Year-round</td>\n",
       "      <td>5.9</td>\n",
       "      <td>f</td>\n",
       "      <td>India Pale Ale</td>\n",
       "      <td>stevoj</td>\n",
       "      <td>Bottle from BevMo. Gusher at opening. Dark gol...</td>\n",
       "      <td>3.55</td>\n",
       "      <td>Dagny Brewing Company</td>\n",
       "      <td>Modesto</td>\n",
       "      <td>CA</td>\n",
       "      <td>US</td>\n",
       "      <td>Brewery</td>\n",
       "    </tr>\n",
       "    <tr>\n",
       "      <th>2002331</th>\n",
       "      <td>359825</td>\n",
       "      <td>IPA</td>\n",
       "      <td>53462</td>\n",
       "      <td>American IPA</td>\n",
       "      <td>Year-round</td>\n",
       "      <td>7.0</td>\n",
       "      <td>f</td>\n",
       "      <td>India Pale Ale</td>\n",
       "      <td>StonedTrippin</td>\n",
       "      <td>a passable ipa for a rather new brewery, but w...</td>\n",
       "      <td>3.37</td>\n",
       "      <td>All Sevens Brewing</td>\n",
       "      <td>Asheville</td>\n",
       "      <td>NC</td>\n",
       "      <td>US</td>\n",
       "      <td>Brewery, Beer-to-go</td>\n",
       "    </tr>\n",
       "  </tbody>\n",
       "</table>\n",
       "<p>8074 rows × 16 columns</p>\n",
       "</div>"
      ],
      "text/plain": [
       "         beer_id beer_name  brewery_id         style availability  abv  \\\n",
       "87954      91469       IPA       29573  American IPA   Year-round  7.2   \n",
       "87955      91469       IPA       29573  American IPA   Year-round  7.2   \n",
       "87956      91469       IPA       29573  American IPA   Year-round  7.2   \n",
       "87957      91469       IPA       29573  American IPA   Year-round  7.2   \n",
       "87958      91469       IPA       29573  American IPA   Year-round  7.2   \n",
       "...          ...       ...         ...           ...          ...  ...   \n",
       "2002145   202279       IPA       24952  American IPA     Rotating  6.5   \n",
       "2002153   349972       IPA       49155  American IPA   Year-round  6.5   \n",
       "2002260   275547       IPA       48593  American IPA   Year-round  6.6   \n",
       "2002326   322903       IPA       47202  American IPA   Year-round  5.9   \n",
       "2002331   359825       IPA       53462  American IPA   Year-round  7.0   \n",
       "\n",
       "        retired     broad_style         username  \\\n",
       "87954         f  India Pale Ale         mjbachma   \n",
       "87955         f  India Pale Ale  CraftBeerRunner   \n",
       "87956         f  India Pale Ale   Hopheadjeffery   \n",
       "87957         f  India Pale Ale  BeerAndGasMasks   \n",
       "87958         f  India Pale Ale        NickSMpls   \n",
       "...         ...             ...              ...   \n",
       "2002145       f  India Pale Ale       kojevergas   \n",
       "2002153       f  India Pale Ale      brett808ola   \n",
       "2002260       f  India Pale Ale  JacobusFavier23   \n",
       "2002326       f  India Pale Ale           stevoj   \n",
       "2002331       f  India Pale Ale    StonedTrippin   \n",
       "\n",
       "                                                      text  score  \\\n",
       "87954    Classic bottle and labeling, titled by style, ...   3.94   \n",
       "87955    Sweet Jammy fruity and bright. Drank fresh whi...   4.00   \n",
       "87956    Tasted in a Spiegelau IPA glass from a bottle ...   4.04   \n",
       "87957    From the bottle, it pours a nice lightly hazy ...   4.00   \n",
       "87958    Can these guys do anything that's not great? O...   4.18   \n",
       "...                                                    ...    ...   \n",
       "2002145  On-draught at the bar in Sonoma. $5 per 16 oz ...   2.82   \n",
       "2002153  Smells very fruity, great for tropical weather...   4.98   \n",
       "2002260  L- Straw colored IPA with a slight amber tint....   3.66   \n",
       "2002326  Bottle from BevMo. Gusher at opening. Dark gol...   3.55   \n",
       "2002331  a passable ipa for a rather new brewery, but w...   3.37   \n",
       "\n",
       "                             brewery_name         city state country  \\\n",
       "87954               pFriem Family Brewers   Hood River    OR      US   \n",
       "87955               pFriem Family Brewers   Hood River    OR      US   \n",
       "87956               pFriem Family Brewers   Hood River    OR      US   \n",
       "87957               pFriem Family Brewers   Hood River    OR      US   \n",
       "87958               pFriem Family Brewers   Hood River    OR      US   \n",
       "...                                   ...          ...   ...     ...   \n",
       "2002145                    Hopmonk Tavern       Sonoma    CA      US   \n",
       "2002153  Hawaiian Ola Brewing Corporation  Kailua Kona    HI      US   \n",
       "2002260                Haint Blue Brewery       Mobile    AL      US   \n",
       "2002326             Dagny Brewing Company      Modesto    CA      US   \n",
       "2002331                All Sevens Brewing    Asheville    NC      US   \n",
       "\n",
       "                                    types  \n",
       "87954    Brewery, Bar, Eatery, Beer-to-go  \n",
       "87955    Brewery, Bar, Eatery, Beer-to-go  \n",
       "87956    Brewery, Bar, Eatery, Beer-to-go  \n",
       "87957    Brewery, Bar, Eatery, Beer-to-go  \n",
       "87958    Brewery, Bar, Eatery, Beer-to-go  \n",
       "...                                   ...  \n",
       "2002145              Brewery, Bar, Eatery  \n",
       "2002153          Brewery, Bar, Beer-to-go  \n",
       "2002260                           Brewery  \n",
       "2002326                           Brewery  \n",
       "2002331               Brewery, Beer-to-go  \n",
       "\n",
       "[8074 rows x 16 columns]"
      ]
     },
     "execution_count": 22,
     "metadata": {},
     "output_type": "execute_result"
    }
   ],
   "source": [
    "# Checking to see if some of these beers are actually named IPA and looking at each brewery's website I can confirm they are not creative people\n",
    "df.loc[df['beer_name'] == 'IPA']"
   ]
  },
  {
   "cell_type": "code",
   "execution_count": 23,
   "metadata": {
    "executionInfo": {
     "elapsed": 696,
     "status": "ok",
     "timestamp": 1642608338945,
     "user": {
      "displayName": "Steven Addison",
      "photoUrl": "https://lh3.googleusercontent.com/a-/AOh14Ggvrkb1asDESkHlRf75vzpzJZ5bM7lB3C8pEgr3uQ=s64",
      "userId": "18377436314153100010"
     },
     "user_tz": 480
    },
    "id": "5oiz4Vmw-b_P"
   },
   "outputs": [],
   "source": [
    "# Creating a dataframe grouped by beer for content-based recommendations\n",
    "cont_df = df.groupby(['beer_id'], as_index = False).agg({'text'' '.join, 'score':'mean','beer_id':'first',\n",
    "                                                         'beer_name':'first','style':'first','broad_style':'first',\n",
    "                                                         'abv':'first','brewery_name':'first','city':'first',\n",
    "                                                         'state':'first'})\n",
    "\n",
    "# Setting the index to beer's unique ID\n",
    "cont_df = cont_df.set_index('beer_id')\n",
    "\n",
    "# Sanity check of the data\n",
    "cont_df.head()"
   ]
  },
  {
   "cell_type": "markdown",
   "metadata": {},
   "source": [
    "## <a id=\"#Text Preprocessing with Texthero\">Text Preprocessing with Texthero</a> "
   ]
  },
  {
   "cell_type": "markdown",
   "metadata": {},
   "source": []
  },
  {
   "cell_type": "markdown",
   "metadata": {},
   "source": []
  },
  {
   "cell_type": "markdown",
   "metadata": {},
   "source": [
    "[documentation](https://texthero.org/docs/api-preprocessing)"
   ]
  },
  {
   "cell_type": "code",
   "execution_count": 26,
   "metadata": {
    "executionInfo": {
     "elapsed": 2018,
     "status": "ok",
     "timestamp": 1642608340958,
     "user": {
      "displayName": "Steven Addison",
      "photoUrl": "https://lh3.googleusercontent.com/a-/AOh14Ggvrkb1asDESkHlRf75vzpzJZ5bM7lB3C8pEgr3uQ=s64",
      "userId": "18377436314153100010"
     },
     "user_tz": 480
    },
    "id": "mfp8bHSspSoq"
   },
   "outputs": [],
   "source": [
    "# Using Texthero's built in text cleaning pipeline\n",
    "cont_df['clean_text'] = hero.clean(cont_df['text'])"
   ]
  },
  {
   "cell_type": "code",
   "execution_count": 28,
   "metadata": {
    "executionInfo": {
     "elapsed": 11066,
     "status": "ok",
     "timestamp": 1642608352020,
     "user": {
      "displayName": "Steven Addison",
      "photoUrl": "https://lh3.googleusercontent.com/a-/AOh14Ggvrkb1asDESkHlRf75vzpzJZ5bM7lB3C8pEgr3uQ=s64",
      "userId": "18377436314153100010"
     },
     "user_tz": 480
    },
    "id": "xzjTQPIOpSoq"
   },
   "outputs": [],
   "source": [
    "# Stemming the text for modeling\n",
    "cont_df['clean_text'] = hero.stem(cont_df['clean_text'])"
   ]
  },
  {
   "cell_type": "code",
   "execution_count": 64,
   "metadata": {
    "scrolled": true
   },
   "outputs": [
    {
     "ename": "KeyError",
     "evalue": "\"['text' 'brewery_id' 'availability' 'retired'] not found in axis\"",
     "output_type": "error",
     "traceback": [
      "\u001b[1;31m---------------------------------------------------------------------------\u001b[0m",
      "\u001b[1;31mKeyError\u001b[0m                                  Traceback (most recent call last)",
      "\u001b[1;32m<ipython-input-64-d8e34d926b88>\u001b[0m in \u001b[0;36m<module>\u001b[1;34m\u001b[0m\n\u001b[1;32m----> 1\u001b[1;33m \u001b[0mcont_df\u001b[0m \u001b[1;33m=\u001b[0m \u001b[0mcont_df\u001b[0m\u001b[1;33m.\u001b[0m\u001b[0mdrop\u001b[0m\u001b[1;33m(\u001b[0m\u001b[0mcolumns\u001b[0m\u001b[1;33m=\u001b[0m\u001b[1;33m[\u001b[0m\u001b[1;34m'text'\u001b[0m\u001b[1;33m,\u001b[0m\u001b[1;34m'brewery_id'\u001b[0m\u001b[1;33m,\u001b[0m\u001b[1;34m'availability'\u001b[0m\u001b[1;33m,\u001b[0m\u001b[1;34m'retired'\u001b[0m\u001b[1;33m,\u001b[0m\u001b[1;34m'beer_id'\u001b[0m\u001b[1;33m]\u001b[0m\u001b[1;33m)\u001b[0m\u001b[1;33m\u001b[0m\u001b[1;33m\u001b[0m\u001b[0m\n\u001b[0m",
      "\u001b[1;32m~\\anaconda3\\envs\\learn-env\\lib\\site-packages\\pandas\\core\\frame.py\u001b[0m in \u001b[0;36mdrop\u001b[1;34m(self, labels, axis, index, columns, level, inplace, errors)\u001b[0m\n\u001b[0;32m   4161\u001b[0m                 \u001b[0mweight\u001b[0m  \u001b[1;36m1.0\u001b[0m     \u001b[1;36m0.8\u001b[0m\u001b[1;33m\u001b[0m\u001b[1;33m\u001b[0m\u001b[0m\n\u001b[0;32m   4162\u001b[0m         \"\"\"\n\u001b[1;32m-> 4163\u001b[1;33m         return super().drop(\n\u001b[0m\u001b[0;32m   4164\u001b[0m             \u001b[0mlabels\u001b[0m\u001b[1;33m=\u001b[0m\u001b[0mlabels\u001b[0m\u001b[1;33m,\u001b[0m\u001b[1;33m\u001b[0m\u001b[1;33m\u001b[0m\u001b[0m\n\u001b[0;32m   4165\u001b[0m             \u001b[0maxis\u001b[0m\u001b[1;33m=\u001b[0m\u001b[0maxis\u001b[0m\u001b[1;33m,\u001b[0m\u001b[1;33m\u001b[0m\u001b[1;33m\u001b[0m\u001b[0m\n",
      "\u001b[1;32m~\\anaconda3\\envs\\learn-env\\lib\\site-packages\\pandas\\core\\generic.py\u001b[0m in \u001b[0;36mdrop\u001b[1;34m(self, labels, axis, index, columns, level, inplace, errors)\u001b[0m\n\u001b[0;32m   3885\u001b[0m         \u001b[1;32mfor\u001b[0m \u001b[0maxis\u001b[0m\u001b[1;33m,\u001b[0m \u001b[0mlabels\u001b[0m \u001b[1;32min\u001b[0m \u001b[0maxes\u001b[0m\u001b[1;33m.\u001b[0m\u001b[0mitems\u001b[0m\u001b[1;33m(\u001b[0m\u001b[1;33m)\u001b[0m\u001b[1;33m:\u001b[0m\u001b[1;33m\u001b[0m\u001b[1;33m\u001b[0m\u001b[0m\n\u001b[0;32m   3886\u001b[0m             \u001b[1;32mif\u001b[0m \u001b[0mlabels\u001b[0m \u001b[1;32mis\u001b[0m \u001b[1;32mnot\u001b[0m \u001b[1;32mNone\u001b[0m\u001b[1;33m:\u001b[0m\u001b[1;33m\u001b[0m\u001b[1;33m\u001b[0m\u001b[0m\n\u001b[1;32m-> 3887\u001b[1;33m                 \u001b[0mobj\u001b[0m \u001b[1;33m=\u001b[0m \u001b[0mobj\u001b[0m\u001b[1;33m.\u001b[0m\u001b[0m_drop_axis\u001b[0m\u001b[1;33m(\u001b[0m\u001b[0mlabels\u001b[0m\u001b[1;33m,\u001b[0m \u001b[0maxis\u001b[0m\u001b[1;33m,\u001b[0m \u001b[0mlevel\u001b[0m\u001b[1;33m=\u001b[0m\u001b[0mlevel\u001b[0m\u001b[1;33m,\u001b[0m \u001b[0merrors\u001b[0m\u001b[1;33m=\u001b[0m\u001b[0merrors\u001b[0m\u001b[1;33m)\u001b[0m\u001b[1;33m\u001b[0m\u001b[1;33m\u001b[0m\u001b[0m\n\u001b[0m\u001b[0;32m   3888\u001b[0m \u001b[1;33m\u001b[0m\u001b[0m\n\u001b[0;32m   3889\u001b[0m         \u001b[1;32mif\u001b[0m \u001b[0minplace\u001b[0m\u001b[1;33m:\u001b[0m\u001b[1;33m\u001b[0m\u001b[1;33m\u001b[0m\u001b[0m\n",
      "\u001b[1;32m~\\anaconda3\\envs\\learn-env\\lib\\site-packages\\pandas\\core\\generic.py\u001b[0m in \u001b[0;36m_drop_axis\u001b[1;34m(self, labels, axis, level, errors)\u001b[0m\n\u001b[0;32m   3919\u001b[0m                 \u001b[0mnew_axis\u001b[0m \u001b[1;33m=\u001b[0m \u001b[0maxis\u001b[0m\u001b[1;33m.\u001b[0m\u001b[0mdrop\u001b[0m\u001b[1;33m(\u001b[0m\u001b[0mlabels\u001b[0m\u001b[1;33m,\u001b[0m \u001b[0mlevel\u001b[0m\u001b[1;33m=\u001b[0m\u001b[0mlevel\u001b[0m\u001b[1;33m,\u001b[0m \u001b[0merrors\u001b[0m\u001b[1;33m=\u001b[0m\u001b[0merrors\u001b[0m\u001b[1;33m)\u001b[0m\u001b[1;33m\u001b[0m\u001b[1;33m\u001b[0m\u001b[0m\n\u001b[0;32m   3920\u001b[0m             \u001b[1;32melse\u001b[0m\u001b[1;33m:\u001b[0m\u001b[1;33m\u001b[0m\u001b[1;33m\u001b[0m\u001b[0m\n\u001b[1;32m-> 3921\u001b[1;33m                 \u001b[0mnew_axis\u001b[0m \u001b[1;33m=\u001b[0m \u001b[0maxis\u001b[0m\u001b[1;33m.\u001b[0m\u001b[0mdrop\u001b[0m\u001b[1;33m(\u001b[0m\u001b[0mlabels\u001b[0m\u001b[1;33m,\u001b[0m \u001b[0merrors\u001b[0m\u001b[1;33m=\u001b[0m\u001b[0merrors\u001b[0m\u001b[1;33m)\u001b[0m\u001b[1;33m\u001b[0m\u001b[1;33m\u001b[0m\u001b[0m\n\u001b[0m\u001b[0;32m   3922\u001b[0m             \u001b[0mresult\u001b[0m \u001b[1;33m=\u001b[0m \u001b[0mself\u001b[0m\u001b[1;33m.\u001b[0m\u001b[0mreindex\u001b[0m\u001b[1;33m(\u001b[0m\u001b[1;33m**\u001b[0m\u001b[1;33m{\u001b[0m\u001b[0maxis_name\u001b[0m\u001b[1;33m:\u001b[0m \u001b[0mnew_axis\u001b[0m\u001b[1;33m}\u001b[0m\u001b[1;33m)\u001b[0m\u001b[1;33m\u001b[0m\u001b[1;33m\u001b[0m\u001b[0m\n\u001b[0;32m   3923\u001b[0m \u001b[1;33m\u001b[0m\u001b[0m\n",
      "\u001b[1;32m~\\anaconda3\\envs\\learn-env\\lib\\site-packages\\pandas\\core\\indexes\\base.py\u001b[0m in \u001b[0;36mdrop\u001b[1;34m(self, labels, errors)\u001b[0m\n\u001b[0;32m   5280\u001b[0m         \u001b[1;32mif\u001b[0m \u001b[0mmask\u001b[0m\u001b[1;33m.\u001b[0m\u001b[0many\u001b[0m\u001b[1;33m(\u001b[0m\u001b[1;33m)\u001b[0m\u001b[1;33m:\u001b[0m\u001b[1;33m\u001b[0m\u001b[1;33m\u001b[0m\u001b[0m\n\u001b[0;32m   5281\u001b[0m             \u001b[1;32mif\u001b[0m \u001b[0merrors\u001b[0m \u001b[1;33m!=\u001b[0m \u001b[1;34m\"ignore\"\u001b[0m\u001b[1;33m:\u001b[0m\u001b[1;33m\u001b[0m\u001b[1;33m\u001b[0m\u001b[0m\n\u001b[1;32m-> 5282\u001b[1;33m                 \u001b[1;32mraise\u001b[0m \u001b[0mKeyError\u001b[0m\u001b[1;33m(\u001b[0m\u001b[1;34mf\"{labels[mask]} not found in axis\"\u001b[0m\u001b[1;33m)\u001b[0m\u001b[1;33m\u001b[0m\u001b[1;33m\u001b[0m\u001b[0m\n\u001b[0m\u001b[0;32m   5283\u001b[0m             \u001b[0mindexer\u001b[0m \u001b[1;33m=\u001b[0m \u001b[0mindexer\u001b[0m\u001b[1;33m[\u001b[0m\u001b[1;33m~\u001b[0m\u001b[0mmask\u001b[0m\u001b[1;33m]\u001b[0m\u001b[1;33m\u001b[0m\u001b[1;33m\u001b[0m\u001b[0m\n\u001b[0;32m   5284\u001b[0m         \u001b[1;32mreturn\u001b[0m \u001b[0mself\u001b[0m\u001b[1;33m.\u001b[0m\u001b[0mdelete\u001b[0m\u001b[1;33m(\u001b[0m\u001b[0mindexer\u001b[0m\u001b[1;33m)\u001b[0m\u001b[1;33m\u001b[0m\u001b[1;33m\u001b[0m\u001b[0m\n",
      "\u001b[1;31mKeyError\u001b[0m: \"['text' 'brewery_id' 'availability' 'retired'] not found in axis\""
     ]
    }
   ],
   "source": [
    "# Dropping irelevant columns \n",
    "cont_df = cont_df.drop(columns=['text'])"
   ]
  },
  {
   "cell_type": "code",
   "execution_count": null,
   "metadata": {},
   "outputs": [],
   "source": [
    "# Sanity check of the data\n",
    "cont_df.head()"
   ]
  },
  {
   "cell_type": "code",
   "execution_count": 32,
   "metadata": {},
   "outputs": [],
   "source": [
    "# Saving off final cleaned dataset for use in the Streamlit App\n",
    "# cont_df.to_csv('data/cont_df.csv', index_label = 'beer_id')"
   ]
  },
  {
   "cell_type": "code",
   "execution_count": 75,
   "metadata": {
    "colab": {
     "base_uri": "https://localhost:8080/"
    },
    "executionInfo": {
     "elapsed": 2503,
     "status": "ok",
     "timestamp": 1642608354515,
     "user": {
      "displayName": "Steven Addison",
      "photoUrl": "https://lh3.googleusercontent.com/a-/AOh14Ggvrkb1asDESkHlRf75vzpzJZ5bM7lB3C8pEgr3uQ=s64",
      "userId": "18377436314153100010"
     },
     "user_tz": 480
    },
    "id": "WNjb2xBiY3iP",
    "outputId": "07fb6f28-5475-4bb0-e3cc-b6c94d66c43a"
   },
   "outputs": [
    {
     "name": "stderr",
     "output_type": "stream",
     "text": [
      "\n",
      "KeyboardInterrupt\n",
      "\n",
      "\n",
      "KeyboardInterrupt\n",
      "\n"
     ]
    }
   ],
   "source": [
    "# Creating a vectorizer to transform the data with 300 features and a range of unigrams to trigrams\n",
    "tf = TfidfVectorizer(max_features=300, ngram_range=(1,3))\n",
    "\n",
    "# Fitting and transforming the clean text data \n",
    "dtm = tf.fit_transform(cont_df['clean_text'])\n",
    "\n",
    "# Creating a document-term matrix\n",
    "dtm = pd.DataFrame(dtm.todense(), columns=tf.get_feature_names(), index = cont_df.index)"
   ]
  },
  {
   "cell_type": "code",
   "execution_count": null,
   "metadata": {},
   "outputs": [],
   "source": [
    "# Sanity check of the data\n",
    "dtm.head()"
   ]
  },
  {
   "cell_type": "markdown",
   "metadata": {},
   "source": [
    "# <a href=\"#Modeling\">Modeling</a>"
   ]
  },
  {
   "cell_type": "code",
   "execution_count": 35,
   "metadata": {
    "executionInfo": {
     "elapsed": 437,
     "status": "ok",
     "timestamp": 1642608354944,
     "user": {
      "displayName": "Steven Addison",
      "photoUrl": "https://lh3.googleusercontent.com/a-/AOh14Ggvrkb1asDESkHlRf75vzpzJZ5bM7lB3C8pEgr3uQ=s64",
      "userId": "18377436314153100010"
     },
     "user_tz": 480
    },
    "id": "LXwiHz5_KisS"
   },
   "outputs": [],
   "source": [
    "# Merging the document-term matrix back into the content dataframe\n",
    "model_df = cont_df.merge(dtm, left_index=True, right_index=True)\n",
    "\n",
    "# Renaming columns with the same name\n",
    "model_df = model_df.rename(columns={'style_x':'style','abv_x':'abv'})\n",
    "\n",
    "# Dropping irrelevant columns\n",
    "model_df = model_df.drop(columns=['beer_id','style','beer_name','brewery_name','city','state','clean_text'])"
   ]
  },
  {
   "cell_type": "code",
   "execution_count": 39,
   "metadata": {
    "executionInfo": {
     "elapsed": 24,
     "status": "ok",
     "timestamp": 1642608354945,
     "user": {
      "displayName": "Steven Addison",
      "photoUrl": "https://lh3.googleusercontent.com/a-/AOh14Ggvrkb1asDESkHlRf75vzpzJZ5bM7lB3C8pEgr3uQ=s64",
      "userId": "18377436314153100010"
     },
     "user_tz": 480
    },
    "id": "sJgT87QUpSoq"
   },
   "outputs": [],
   "source": [
    "# Creating a dataframe to call my results from\n",
    "result_df = cont_df[['beer_name','style','brewery_name','city','state']]\n",
    "\n",
    "# Making the column names pretty\n",
    "result_df = result_df.rename(columns={'beer_name':'Name','style':'Style',\n",
    "                                      'brewery_name':'Brewery','city':'City',\n",
    "                                      'state':'State'})"
   ]
  },
  {
   "cell_type": "code",
   "execution_count": 42,
   "metadata": {
    "colab": {
     "base_uri": "https://localhost:8080/",
     "height": 383
    },
    "executionInfo": {
     "elapsed": 13,
     "status": "ok",
     "timestamp": 1642608355639,
     "user": {
      "displayName": "Steven Addison",
      "photoUrl": "https://lh3.googleusercontent.com/a-/AOh14Ggvrkb1asDESkHlRf75vzpzJZ5bM7lB3C8pEgr3uQ=s64",
      "userId": "18377436314153100010"
     },
     "user_tz": 480
    },
    "id": "HBHvzgJDSY1a",
    "outputId": "71c9e73a-a48c-4f1a-f9ad-2e7af97b163a"
   },
   "outputs": [
    {
     "data": {
      "text/html": [
       "<div>\n",
       "<style scoped>\n",
       "    .dataframe tbody tr th:only-of-type {\n",
       "        vertical-align: middle;\n",
       "    }\n",
       "\n",
       "    .dataframe tbody tr th {\n",
       "        vertical-align: top;\n",
       "    }\n",
       "\n",
       "    .dataframe thead th {\n",
       "        text-align: right;\n",
       "    }\n",
       "</style>\n",
       "<table border=\"1\" class=\"dataframe\">\n",
       "  <thead>\n",
       "    <tr style=\"text-align: right;\">\n",
       "      <th></th>\n",
       "      <th>Bière de Champagne / Bière Brut</th>\n",
       "      <th>Black Ale</th>\n",
       "      <th>Bock</th>\n",
       "      <th>Braggot</th>\n",
       "      <th>Brown Ale</th>\n",
       "      <th>California Common / Steam Beer</th>\n",
       "      <th>Chile Beer</th>\n",
       "      <th>Cream Ale</th>\n",
       "      <th>Dark Ale</th>\n",
       "      <th>Dark Lager</th>\n",
       "      <th>...</th>\n",
       "      <th>Porter</th>\n",
       "      <th>Pumpkin Beer</th>\n",
       "      <th>Russian Kvass</th>\n",
       "      <th>Rye Beer</th>\n",
       "      <th>Scottish Gruit / Ancient Herbed Ale</th>\n",
       "      <th>Smoke Beer</th>\n",
       "      <th>Stout</th>\n",
       "      <th>Strong Ale</th>\n",
       "      <th>Wheat Beer</th>\n",
       "      <th>Wild/Sour Beer</th>\n",
       "    </tr>\n",
       "    <tr>\n",
       "      <th>beer_id</th>\n",
       "      <th></th>\n",
       "      <th></th>\n",
       "      <th></th>\n",
       "      <th></th>\n",
       "      <th></th>\n",
       "      <th></th>\n",
       "      <th></th>\n",
       "      <th></th>\n",
       "      <th></th>\n",
       "      <th></th>\n",
       "      <th></th>\n",
       "      <th></th>\n",
       "      <th></th>\n",
       "      <th></th>\n",
       "      <th></th>\n",
       "      <th></th>\n",
       "      <th></th>\n",
       "      <th></th>\n",
       "      <th></th>\n",
       "      <th></th>\n",
       "      <th></th>\n",
       "    </tr>\n",
       "  </thead>\n",
       "  <tbody>\n",
       "    <tr>\n",
       "      <th>5</th>\n",
       "      <td>0</td>\n",
       "      <td>0</td>\n",
       "      <td>0</td>\n",
       "      <td>0</td>\n",
       "      <td>0</td>\n",
       "      <td>0</td>\n",
       "      <td>0</td>\n",
       "      <td>0</td>\n",
       "      <td>0</td>\n",
       "      <td>1</td>\n",
       "      <td>...</td>\n",
       "      <td>0</td>\n",
       "      <td>0</td>\n",
       "      <td>0</td>\n",
       "      <td>0</td>\n",
       "      <td>0</td>\n",
       "      <td>0</td>\n",
       "      <td>0</td>\n",
       "      <td>0</td>\n",
       "      <td>0</td>\n",
       "      <td>0</td>\n",
       "    </tr>\n",
       "    <tr>\n",
       "      <th>6</th>\n",
       "      <td>0</td>\n",
       "      <td>0</td>\n",
       "      <td>0</td>\n",
       "      <td>0</td>\n",
       "      <td>1</td>\n",
       "      <td>0</td>\n",
       "      <td>0</td>\n",
       "      <td>0</td>\n",
       "      <td>0</td>\n",
       "      <td>0</td>\n",
       "      <td>...</td>\n",
       "      <td>0</td>\n",
       "      <td>0</td>\n",
       "      <td>0</td>\n",
       "      <td>0</td>\n",
       "      <td>0</td>\n",
       "      <td>0</td>\n",
       "      <td>0</td>\n",
       "      <td>0</td>\n",
       "      <td>0</td>\n",
       "      <td>0</td>\n",
       "    </tr>\n",
       "    <tr>\n",
       "      <th>7</th>\n",
       "      <td>0</td>\n",
       "      <td>0</td>\n",
       "      <td>0</td>\n",
       "      <td>0</td>\n",
       "      <td>0</td>\n",
       "      <td>0</td>\n",
       "      <td>0</td>\n",
       "      <td>0</td>\n",
       "      <td>0</td>\n",
       "      <td>0</td>\n",
       "      <td>...</td>\n",
       "      <td>0</td>\n",
       "      <td>0</td>\n",
       "      <td>0</td>\n",
       "      <td>0</td>\n",
       "      <td>0</td>\n",
       "      <td>0</td>\n",
       "      <td>0</td>\n",
       "      <td>0</td>\n",
       "      <td>0</td>\n",
       "      <td>0</td>\n",
       "    </tr>\n",
       "    <tr>\n",
       "      <th>9</th>\n",
       "      <td>0</td>\n",
       "      <td>0</td>\n",
       "      <td>0</td>\n",
       "      <td>0</td>\n",
       "      <td>0</td>\n",
       "      <td>0</td>\n",
       "      <td>0</td>\n",
       "      <td>0</td>\n",
       "      <td>0</td>\n",
       "      <td>0</td>\n",
       "      <td>...</td>\n",
       "      <td>0</td>\n",
       "      <td>0</td>\n",
       "      <td>0</td>\n",
       "      <td>0</td>\n",
       "      <td>0</td>\n",
       "      <td>0</td>\n",
       "      <td>0</td>\n",
       "      <td>0</td>\n",
       "      <td>0</td>\n",
       "      <td>0</td>\n",
       "    </tr>\n",
       "    <tr>\n",
       "      <th>10</th>\n",
       "      <td>0</td>\n",
       "      <td>0</td>\n",
       "      <td>0</td>\n",
       "      <td>0</td>\n",
       "      <td>0</td>\n",
       "      <td>0</td>\n",
       "      <td>0</td>\n",
       "      <td>0</td>\n",
       "      <td>1</td>\n",
       "      <td>0</td>\n",
       "      <td>...</td>\n",
       "      <td>0</td>\n",
       "      <td>0</td>\n",
       "      <td>0</td>\n",
       "      <td>0</td>\n",
       "      <td>0</td>\n",
       "      <td>0</td>\n",
       "      <td>0</td>\n",
       "      <td>0</td>\n",
       "      <td>0</td>\n",
       "      <td>0</td>\n",
       "    </tr>\n",
       "  </tbody>\n",
       "</table>\n",
       "<p>5 rows × 29 columns</p>\n",
       "</div>"
      ],
      "text/plain": [
       "         Bière de Champagne / Bière Brut  Black Ale  Bock  Braggot  Brown Ale  \\\n",
       "beer_id                                                                         \n",
       "5                                      0          0     0        0          0   \n",
       "6                                      0          0     0        0          1   \n",
       "7                                      0          0     0        0          0   \n",
       "9                                      0          0     0        0          0   \n",
       "10                                     0          0     0        0          0   \n",
       "\n",
       "         California Common / Steam Beer  Chile Beer  Cream Ale  Dark Ale  \\\n",
       "beer_id                                                                    \n",
       "5                                     0           0          0         0   \n",
       "6                                     0           0          0         0   \n",
       "7                                     0           0          0         0   \n",
       "9                                     0           0          0         0   \n",
       "10                                    0           0          0         1   \n",
       "\n",
       "         Dark Lager  ...  Porter  Pumpkin Beer  Russian Kvass  Rye Beer  \\\n",
       "beer_id              ...                                                  \n",
       "5                 1  ...       0             0              0         0   \n",
       "6                 0  ...       0             0              0         0   \n",
       "7                 0  ...       0             0              0         0   \n",
       "9                 0  ...       0             0              0         0   \n",
       "10                0  ...       0             0              0         0   \n",
       "\n",
       "         Scottish Gruit / Ancient Herbed Ale  Smoke Beer  Stout  Strong Ale  \\\n",
       "beer_id                                                                       \n",
       "5                                          0           0      0           0   \n",
       "6                                          0           0      0           0   \n",
       "7                                          0           0      0           0   \n",
       "9                                          0           0      0           0   \n",
       "10                                         0           0      0           0   \n",
       "\n",
       "         Wheat Beer  Wild/Sour Beer  \n",
       "beer_id                              \n",
       "5                 0               0  \n",
       "6                 0               0  \n",
       "7                 0               0  \n",
       "9                 0               0  \n",
       "10                0               0  \n",
       "\n",
       "[5 rows x 29 columns]"
      ]
     },
     "execution_count": 42,
     "metadata": {},
     "output_type": "execute_result"
    }
   ],
   "source": [
    "# Encoding the styles for modeling\n",
    "style_OHE = pd.get_dummies(model_df['broad_style'], sparse=True)"
   ]
  },
  {
   "cell_type": "code",
   "execution_count": 43,
   "metadata": {
    "executionInfo": {
     "elapsed": 513,
     "status": "ok",
     "timestamp": 1642608356143,
     "user": {
      "displayName": "Steven Addison",
      "photoUrl": "https://lh3.googleusercontent.com/a-/AOh14Ggvrkb1asDESkHlRf75vzpzJZ5bM7lB3C8pEgr3uQ=s64",
      "userId": "18377436314153100010"
     },
     "user_tz": 480
    },
    "id": "Ls7WAjanpSor"
   },
   "outputs": [],
   "source": [
    "# Calling the columns that need to be scaled\n",
    "col_names = ['abv', 'score']\n",
    "\n",
    "# Selecting those columns\n",
    "features = model_df[col_names]\n",
    "\n",
    "# Fitting and transforming the columns with a MinMaxScalers\n",
    "features = MinMaxScaler().fit_transform(features.values)\n",
    "\n",
    "# Setting those transformed features back into the data\n",
    "model_df[col_names] = features\n",
    "\n",
    "# Joining the one hot encoded data with the scaled data\n",
    "final_df = model_df.join(style_OHE)\n",
    "\n",
    "# Dropping the style column now that it is encoded out\n",
    "final_df = final_df.drop(columns=['broad_style'])"
   ]
  },
  {
   "cell_type": "code",
   "execution_count": 74,
   "metadata": {
    "colab": {
     "base_uri": "https://localhost:8080/",
     "height": 383
    },
    "executionInfo": {
     "elapsed": 28,
     "status": "ok",
     "timestamp": 1642608356145,
     "user": {
      "displayName": "Steven Addison",
      "photoUrl": "https://lh3.googleusercontent.com/a-/AOh14Ggvrkb1asDESkHlRf75vzpzJZ5bM7lB3C8pEgr3uQ=s64",
      "userId": "18377436314153100010"
     },
     "user_tz": 480
    },
    "id": "-uHEDULvjWsc",
    "outputId": "193cf46d-9856-4ad2-b48e-713fe4e3f3db"
   },
   "outputs": [
    {
     "data": {
      "text/html": [
       "<div>\n",
       "<style scoped>\n",
       "    .dataframe tbody tr th:only-of-type {\n",
       "        vertical-align: middle;\n",
       "    }\n",
       "\n",
       "    .dataframe tbody tr th {\n",
       "        vertical-align: top;\n",
       "    }\n",
       "\n",
       "    .dataframe thead th {\n",
       "        text-align: right;\n",
       "    }\n",
       "</style>\n",
       "<table border=\"1\" class=\"dataframe\">\n",
       "  <thead>\n",
       "    <tr style=\"text-align: right;\">\n",
       "      <th></th>\n",
       "      <th>score</th>\n",
       "      <th>beer_id</th>\n",
       "      <th>abv</th>\n",
       "      <th>12oz</th>\n",
       "      <th>12oz bottl</th>\n",
       "      <th>abv_y</th>\n",
       "      <th>acid</th>\n",
       "      <th>actual</th>\n",
       "      <th>add</th>\n",
       "      <th>aftertast</th>\n",
       "      <th>...</th>\n",
       "      <th>Porter</th>\n",
       "      <th>Pumpkin Beer</th>\n",
       "      <th>Russian Kvass</th>\n",
       "      <th>Rye Beer</th>\n",
       "      <th>Scottish Gruit / Ancient Herbed Ale</th>\n",
       "      <th>Smoke Beer</th>\n",
       "      <th>Stout</th>\n",
       "      <th>Strong Ale</th>\n",
       "      <th>Wheat Beer</th>\n",
       "      <th>Wild/Sour Beer</th>\n",
       "    </tr>\n",
       "    <tr>\n",
       "      <th>beer_id</th>\n",
       "      <th></th>\n",
       "      <th></th>\n",
       "      <th></th>\n",
       "      <th></th>\n",
       "      <th></th>\n",
       "      <th></th>\n",
       "      <th></th>\n",
       "      <th></th>\n",
       "      <th></th>\n",
       "      <th></th>\n",
       "      <th></th>\n",
       "      <th></th>\n",
       "      <th></th>\n",
       "      <th></th>\n",
       "      <th></th>\n",
       "      <th></th>\n",
       "      <th></th>\n",
       "      <th></th>\n",
       "      <th></th>\n",
       "      <th></th>\n",
       "      <th></th>\n",
       "    </tr>\n",
       "  </thead>\n",
       "  <tbody>\n",
       "    <tr>\n",
       "      <th>5</th>\n",
       "      <td>0.599097</td>\n",
       "      <td>5</td>\n",
       "      <td>0.044522</td>\n",
       "      <td>0.024858</td>\n",
       "      <td>0.021963</td>\n",
       "      <td>0.007696</td>\n",
       "      <td>0.003840</td>\n",
       "      <td>0.016361</td>\n",
       "      <td>0.002976</td>\n",
       "      <td>0.031410</td>\n",
       "      <td>...</td>\n",
       "      <td>0</td>\n",
       "      <td>0</td>\n",
       "      <td>0</td>\n",
       "      <td>0</td>\n",
       "      <td>0</td>\n",
       "      <td>0</td>\n",
       "      <td>0</td>\n",
       "      <td>0</td>\n",
       "      <td>0</td>\n",
       "      <td>0</td>\n",
       "    </tr>\n",
       "    <tr>\n",
       "      <th>6</th>\n",
       "      <td>0.661612</td>\n",
       "      <td>6</td>\n",
       "      <td>0.055528</td>\n",
       "      <td>0.018583</td>\n",
       "      <td>0.017046</td>\n",
       "      <td>0.010297</td>\n",
       "      <td>0.003867</td>\n",
       "      <td>0.014326</td>\n",
       "      <td>0.006130</td>\n",
       "      <td>0.040365</td>\n",
       "      <td>...</td>\n",
       "      <td>0</td>\n",
       "      <td>0</td>\n",
       "      <td>0</td>\n",
       "      <td>0</td>\n",
       "      <td>0</td>\n",
       "      <td>0</td>\n",
       "      <td>0</td>\n",
       "      <td>0</td>\n",
       "      <td>0</td>\n",
       "      <td>0</td>\n",
       "    </tr>\n",
       "    <tr>\n",
       "      <th>7</th>\n",
       "      <td>0.560960</td>\n",
       "      <td>7</td>\n",
       "      <td>0.041521</td>\n",
       "      <td>0.022100</td>\n",
       "      <td>0.018015</td>\n",
       "      <td>0.011169</td>\n",
       "      <td>0.012991</td>\n",
       "      <td>0.031004</td>\n",
       "      <td>0.009680</td>\n",
       "      <td>0.035365</td>\n",
       "      <td>...</td>\n",
       "      <td>0</td>\n",
       "      <td>0</td>\n",
       "      <td>0</td>\n",
       "      <td>0</td>\n",
       "      <td>0</td>\n",
       "      <td>0</td>\n",
       "      <td>0</td>\n",
       "      <td>0</td>\n",
       "      <td>0</td>\n",
       "      <td>0</td>\n",
       "    </tr>\n",
       "    <tr>\n",
       "      <th>9</th>\n",
       "      <td>0.521956</td>\n",
       "      <td>9</td>\n",
       "      <td>0.041521</td>\n",
       "      <td>0.023273</td>\n",
       "      <td>0.017881</td>\n",
       "      <td>0.005543</td>\n",
       "      <td>0.000000</td>\n",
       "      <td>0.013320</td>\n",
       "      <td>0.013931</td>\n",
       "      <td>0.031104</td>\n",
       "      <td>...</td>\n",
       "      <td>0</td>\n",
       "      <td>0</td>\n",
       "      <td>0</td>\n",
       "      <td>0</td>\n",
       "      <td>0</td>\n",
       "      <td>0</td>\n",
       "      <td>0</td>\n",
       "      <td>0</td>\n",
       "      <td>0</td>\n",
       "      <td>0</td>\n",
       "    </tr>\n",
       "    <tr>\n",
       "      <th>10</th>\n",
       "      <td>0.698621</td>\n",
       "      <td>10</td>\n",
       "      <td>0.069535</td>\n",
       "      <td>0.015344</td>\n",
       "      <td>0.014025</td>\n",
       "      <td>0.027975</td>\n",
       "      <td>0.010790</td>\n",
       "      <td>0.010902</td>\n",
       "      <td>0.006651</td>\n",
       "      <td>0.036643</td>\n",
       "      <td>...</td>\n",
       "      <td>0</td>\n",
       "      <td>0</td>\n",
       "      <td>0</td>\n",
       "      <td>0</td>\n",
       "      <td>0</td>\n",
       "      <td>0</td>\n",
       "      <td>0</td>\n",
       "      <td>0</td>\n",
       "      <td>0</td>\n",
       "      <td>0</td>\n",
       "    </tr>\n",
       "  </tbody>\n",
       "</table>\n",
       "<p>5 rows × 532 columns</p>\n",
       "</div>"
      ],
      "text/plain": [
       "            score  beer_id       abv      12oz  12oz bottl     abv_y  \\\n",
       "beer_id                                                                \n",
       "5        0.599097        5  0.044522  0.024858    0.021963  0.007696   \n",
       "6        0.661612        6  0.055528  0.018583    0.017046  0.010297   \n",
       "7        0.560960        7  0.041521  0.022100    0.018015  0.011169   \n",
       "9        0.521956        9  0.041521  0.023273    0.017881  0.005543   \n",
       "10       0.698621       10  0.069535  0.015344    0.014025  0.027975   \n",
       "\n",
       "             acid    actual       add  aftertast  ...  Porter  Pumpkin Beer  \\\n",
       "beer_id                                           ...                         \n",
       "5        0.003840  0.016361  0.002976   0.031410  ...       0             0   \n",
       "6        0.003867  0.014326  0.006130   0.040365  ...       0             0   \n",
       "7        0.012991  0.031004  0.009680   0.035365  ...       0             0   \n",
       "9        0.000000  0.013320  0.013931   0.031104  ...       0             0   \n",
       "10       0.010790  0.010902  0.006651   0.036643  ...       0             0   \n",
       "\n",
       "         Russian Kvass  Rye Beer  Scottish Gruit / Ancient Herbed Ale  \\\n",
       "beer_id                                                                 \n",
       "5                    0         0                                    0   \n",
       "6                    0         0                                    0   \n",
       "7                    0         0                                    0   \n",
       "9                    0         0                                    0   \n",
       "10                   0         0                                    0   \n",
       "\n",
       "         Smoke Beer  Stout  Strong Ale  Wheat Beer  Wild/Sour Beer  \n",
       "beer_id                                                             \n",
       "5                 0      0           0           0               0  \n",
       "6                 0      0           0           0               0  \n",
       "7                 0      0           0           0               0  \n",
       "9                 0      0           0           0               0  \n",
       "10                0      0           0           0               0  \n",
       "\n",
       "[5 rows x 532 columns]"
      ]
     },
     "execution_count": 74,
     "metadata": {},
     "output_type": "execute_result"
    }
   ],
   "source": [
    "# Sanity check\n",
    "final_df.head()"
   ]
  },
  {
   "cell_type": "code",
   "execution_count": 68,
   "metadata": {
    "colab": {
     "base_uri": "https://localhost:8080/",
     "height": 269
    },
    "executionInfo": {
     "elapsed": 257,
     "status": "ok",
     "timestamp": 1642608914308,
     "user": {
      "displayName": "Steven Addison",
      "photoUrl": "https://lh3.googleusercontent.com/a-/AOh14Ggvrkb1asDESkHlRf75vzpzJZ5bM7lB3C8pEgr3uQ=s64",
      "userId": "18377436314153100010"
     },
     "user_tz": 480
    },
    "id": "X4kMszheBaAs",
    "outputId": "4cfd9730-cc3c-45ab-af19-3e5083b722e5"
   },
   "outputs": [
    {
     "data": {
      "text/html": [
       "<div>\n",
       "<style scoped>\n",
       "    .dataframe tbody tr th:only-of-type {\n",
       "        vertical-align: middle;\n",
       "    }\n",
       "\n",
       "    .dataframe tbody tr th {\n",
       "        vertical-align: top;\n",
       "    }\n",
       "\n",
       "    .dataframe thead th {\n",
       "        text-align: right;\n",
       "    }\n",
       "</style>\n",
       "<table border=\"1\" class=\"dataframe\">\n",
       "  <thead>\n",
       "    <tr style=\"text-align: right;\">\n",
       "      <th></th>\n",
       "      <th>0</th>\n",
       "    </tr>\n",
       "    <tr>\n",
       "      <th>beer_id</th>\n",
       "      <th></th>\n",
       "    </tr>\n",
       "  </thead>\n",
       "  <tbody>\n",
       "    <tr>\n",
       "      <th>90993</th>\n",
       "      <td>1.0</td>\n",
       "    </tr>\n",
       "    <tr>\n",
       "      <th>80348</th>\n",
       "      <td>1.0</td>\n",
       "    </tr>\n",
       "    <tr>\n",
       "      <th>113339</th>\n",
       "      <td>1.0</td>\n",
       "    </tr>\n",
       "    <tr>\n",
       "      <th>98663</th>\n",
       "      <td>1.0</td>\n",
       "    </tr>\n",
       "    <tr>\n",
       "      <th>110744</th>\n",
       "      <td>1.0</td>\n",
       "    </tr>\n",
       "    <tr>\n",
       "      <th>91358</th>\n",
       "      <td>1.0</td>\n",
       "    </tr>\n",
       "  </tbody>\n",
       "</table>\n",
       "</div>"
      ],
      "text/plain": [
       "           0\n",
       "beer_id     \n",
       "90993    1.0\n",
       "80348    1.0\n",
       "113339   1.0\n",
       "98663    1.0\n",
       "110744   1.0\n",
       "91358    1.0"
      ]
     },
     "execution_count": 68,
     "metadata": {},
     "output_type": "execute_result"
    }
   ],
   "source": [
    "# Superfuzz is the beer I will be testing\n",
    "y = np.array(final_df.loc[90993])\n",
    "\n",
    "# Reshaping the row into an array that can be passed into the model\n",
    "y = y.reshape(1, -1)\n",
    "\n",
    "# Calculating the cosine similarity \n",
    "cos_sim = cosine_similarity(final_df, y)\n",
    "\n",
    "# Creating a printout of the scores with their respective indices\n",
    "cos_sim = pd.DataFrame(data=cos_sim, index=final_df.index)\n",
    "\n",
    "# Sorting by highest scoring\n",
    "results = cos_sim.sort_values(by = 0, ascending=False)\n",
    "\n",
    "# Printing out the source beer and its top 5 recommendations\n",
    "results.head(6)"
   ]
  },
  {
   "cell_type": "code",
   "execution_count": 60,
   "metadata": {
    "colab": {
     "base_uri": "https://localhost:8080/"
    },
    "executionInfo": {
     "elapsed": 550,
     "status": "ok",
     "timestamp": 1642608926757,
     "user": {
      "displayName": "Steven Addison",
      "photoUrl": "https://lh3.googleusercontent.com/a-/AOh14Ggvrkb1asDESkHlRf75vzpzJZ5bM7lB3C8pEgr3uQ=s64",
      "userId": "18377436314153100010"
     },
     "user_tz": 480
    },
    "id": "TgrNCVpS4ctL",
    "outputId": "bbd76c2d-e891-48da-c4df-a1838ebe4052"
   },
   "outputs": [
    {
     "data": {
      "text/plain": [
       "Name       Superfuzz Blood Orange Pale Ale\n",
       "Style              American Pale Ale (APA)\n",
       "Brewery            Elysian Brewing Company\n",
       "City                               Seattle\n",
       "State                                   WA\n",
       "Name: 90993, dtype: object"
      ]
     },
     "execution_count": 60,
     "metadata": {},
     "output_type": "execute_result"
    }
   ],
   "source": [
    "# This is the printout for my starting beer\n",
    "result_df.loc[90993]"
   ]
  },
  {
   "cell_type": "code",
   "execution_count": 61,
   "metadata": {
    "colab": {
     "base_uri": "https://localhost:8080/"
    },
    "executionInfo": {
     "elapsed": 229,
     "status": "ok",
     "timestamp": 1642607644887,
     "user": {
      "displayName": "Steven Addison",
      "photoUrl": "https://lh3.googleusercontent.com/a-/AOh14Ggvrkb1asDESkHlRf75vzpzJZ5bM7lB3C8pEgr3uQ=s64",
      "userId": "18377436314153100010"
     },
     "user_tz": 480
    },
    "id": "1nRj-uw--u8G",
    "outputId": "435d00d8-a5aa-43ed-9617-3ed84cd22b18"
   },
   "outputs": [
    {
     "data": {
      "text/plain": [
       "Name         Blood Orange Pale Ale\n",
       "Style      American Pale Ale (APA)\n",
       "Brewery    Great South Bay Brewery\n",
       "City                     Bay Shore\n",
       "State                           NY\n",
       "Name: 80348, dtype: object"
      ]
     },
     "execution_count": 61,
     "metadata": {},
     "output_type": "execute_result"
    }
   ],
   "source": [
    "# And the printout of my top result\n",
    "result_df.loc[80348]"
   ]
  },
  {
   "cell_type": "markdown",
   "metadata": {},
   "source": [
    "## <a id=\"#Cosine Similarity\">Cosine Similarity</a>"
   ]
  },
  {
   "cell_type": "code",
   "execution_count": 66,
   "metadata": {
    "colab": {
     "base_uri": "https://localhost:8080/",
     "height": 165
    },
    "executionInfo": {
     "elapsed": 317,
     "status": "error",
     "timestamp": 1642605292616,
     "user": {
      "displayName": "Steven Addison",
      "photoUrl": "https://lh3.googleusercontent.com/a-/AOh14Ggvrkb1asDESkHlRf75vzpzJZ5bM7lB3C8pEgr3uQ=s64",
      "userId": "18377436314153100010"
     },
     "user_tz": 480
    },
    "id": "k7hXXIBm5wtB",
    "outputId": "9d2e6d72-61b1-4e83-ada8-d1101c6c85e4"
   },
   "outputs": [],
   "source": [
    "def cos_beer():\n",
    "    \n",
    "    \"\"\"Returns top recommended beers based on cosine similarity with user imputs of style,\n",
    "    beer name, and number of recommendations\"\"\"\n",
    "    \n",
    "    # User inputs style of beer they are looking for\n",
    "    style_input = input('Style: ')\n",
    "    # Input name of beer\n",
    "    beer_input = input('Beer Name: ')\n",
    "    # Input number of recommendations\n",
    "    n_recs = int(input('How many recommendations? '))\n",
    "    \n",
    "    # Data is sliced \n",
    "    style_df = cont_df[cont_df['broad_style'] == style_input]\n",
    "    \n",
    "    # Creating a vectorizer to transform the data with 300 features and a range of unigrams to trigrams\n",
    "    tf = TfidfVectorizer(max_features=300, ngram_range=(1,3))\n",
    "    # Fitting and transforming the clean text data \n",
    "    dtm = tf.fit_transform(style_df['clean_text'])\n",
    "    # Creating a document-term matrix\n",
    "    dtm = pd.DataFrame(dtm.todense(), columns=tf.get_feature_names(), index = style_df.index)\n",
    "    # Merging the document-term matrix back into the content dataframe\n",
    "    style_df = style_df.merge(dtm, left_index=True, right_index=True)\n",
    "    # Renaming columns with the same name\n",
    "    style_df = style_df.rename(columns={'style_x':'style','abv_x':'abv'})\n",
    "    # Dropping irrelevant columns\n",
    "    style_df = style_df.drop(columns=['broad_style','style','beer_name','brewery_name',\n",
    "                                      'city','state','clean_text'])\n",
    "\n",
    "    # Calling the columns that need to be scaled\n",
    "    col_names = ['abv', 'score']\n",
    "    # Selecting those column\n",
    "    features = style_df[col_names]\n",
    "    # Fitting and transforming the columns with a MinMaxScalers\n",
    "    features = MinMaxScaler().fit_transform(features.values)\n",
    "    # Setting those transformed features back into the data\n",
    "    style_df[col_names] = features\n",
    "    \n",
    "    # Grabbing the index value of the inputed beer\n",
    "    beerix = cont_df.loc[cont_df['beer_name'] == beer_input].index.values\n",
    "    # Selecting the row of that beer\n",
    "    y = np.array(style_df.loc[beerix[0]])\n",
    "    # Reshaping the row into an array that can be passed into the model\n",
    "    y = y.reshape(1, -1)\n",
    "    \n",
    "    # Calculating the cosine similarity \n",
    "    cos_sim = cosine_similarity(style_df, y)\n",
    "    # Creating a printout of the scores with their respective indices\n",
    "    cos_sim = pd.DataFrame(data=cos_sim, index=style_df.index)\n",
    "    # Sorting by highest scoring\n",
    "    results = cos_sim.sort_values(by = 0, ascending=False)\n",
    "    # Selecting n number indicies of top recommendations\n",
    "    nresultsid = results.head(n_recs+1).index.values[1:]\n",
    "    # Locating those beers in my results dataframe\n",
    "    nresults_df = result_df.loc[nresultsid]\n",
    "    # Returning those results\n",
    "    return nresults_df.style.hide_index()"
   ]
  },
  {
   "cell_type": "code",
   "execution_count": 67,
   "metadata": {
    "scrolled": false
   },
   "outputs": [
    {
     "name": "stdout",
     "output_type": "stream",
     "text": [
      "Style: Pale Ale\n",
      "Beer Name: Superfuzz Blood Orange Pale Ale\n",
      "How many recommendations? 5\n"
     ]
    },
    {
     "data": {
      "text/html": [
       "<style  type=\"text/css\" >\n",
       "</style><table id=\"T_ab308d6b_7ee3_11ec_a613_ccf9e4c73a3e\" ><thead>    <tr>        <th class=\"col_heading level0 col0\" >Name</th>        <th class=\"col_heading level0 col1\" >Style</th>        <th class=\"col_heading level0 col2\" >Brewery</th>        <th class=\"col_heading level0 col3\" >City</th>        <th class=\"col_heading level0 col4\" >State</th>    </tr></thead><tbody>\n",
       "                <tr>\n",
       "                                <td id=\"T_ab308d6b_7ee3_11ec_a613_ccf9e4c73a3erow0_col0\" class=\"data row0 col0\" >CitruSinensis (OneHitter Series)</td>\n",
       "                        <td id=\"T_ab308d6b_7ee3_11ec_a613_ccf9e4c73a3erow0_col1\" class=\"data row0 col1\" >American Pale Ale (APA)</td>\n",
       "                        <td id=\"T_ab308d6b_7ee3_11ec_a613_ccf9e4c73a3erow0_col2\" class=\"data row0 col2\" >Lagunitas Brewing Company</td>\n",
       "                        <td id=\"T_ab308d6b_7ee3_11ec_a613_ccf9e4c73a3erow0_col3\" class=\"data row0 col3\" >Petaluma</td>\n",
       "                        <td id=\"T_ab308d6b_7ee3_11ec_a613_ccf9e4c73a3erow0_col4\" class=\"data row0 col4\" >CA</td>\n",
       "            </tr>\n",
       "            <tr>\n",
       "                                <td id=\"T_ab308d6b_7ee3_11ec_a613_ccf9e4c73a3erow1_col0\" class=\"data row1 col0\" >Blood Orange Pale Ale</td>\n",
       "                        <td id=\"T_ab308d6b_7ee3_11ec_a613_ccf9e4c73a3erow1_col1\" class=\"data row1 col1\" >American Pale Ale (APA)</td>\n",
       "                        <td id=\"T_ab308d6b_7ee3_11ec_a613_ccf9e4c73a3erow1_col2\" class=\"data row1 col2\" >Great South Bay Brewery</td>\n",
       "                        <td id=\"T_ab308d6b_7ee3_11ec_a613_ccf9e4c73a3erow1_col3\" class=\"data row1 col3\" >Bay Shore</td>\n",
       "                        <td id=\"T_ab308d6b_7ee3_11ec_a613_ccf9e4c73a3erow1_col4\" class=\"data row1 col4\" >NY</td>\n",
       "            </tr>\n",
       "            <tr>\n",
       "                                <td id=\"T_ab308d6b_7ee3_11ec_a613_ccf9e4c73a3erow2_col0\" class=\"data row2 col0\" >X - Orange</td>\n",
       "                        <td id=\"T_ab308d6b_7ee3_11ec_a613_ccf9e4c73a3erow2_col1\" class=\"data row2 col1\" >American Pale Ale (APA)</td>\n",
       "                        <td id=\"T_ab308d6b_7ee3_11ec_a613_ccf9e4c73a3erow2_col2\" class=\"data row2 col2\" >AleSmith Brewing Company</td>\n",
       "                        <td id=\"T_ab308d6b_7ee3_11ec_a613_ccf9e4c73a3erow2_col3\" class=\"data row2 col3\" >San Diego</td>\n",
       "                        <td id=\"T_ab308d6b_7ee3_11ec_a613_ccf9e4c73a3erow2_col4\" class=\"data row2 col4\" >CA</td>\n",
       "            </tr>\n",
       "            <tr>\n",
       "                                <td id=\"T_ab308d6b_7ee3_11ec_a613_ccf9e4c73a3erow3_col0\" class=\"data row3 col0\" >Naranjito</td>\n",
       "                        <td id=\"T_ab308d6b_7ee3_11ec_a613_ccf9e4c73a3erow3_col1\" class=\"data row3 col1\" >American Pale Ale (APA)</td>\n",
       "                        <td id=\"T_ab308d6b_7ee3_11ec_a613_ccf9e4c73a3erow3_col2\" class=\"data row3 col2\" >Brooklyn Brewery</td>\n",
       "                        <td id=\"T_ab308d6b_7ee3_11ec_a613_ccf9e4c73a3erow3_col3\" class=\"data row3 col3\" >Brooklyn</td>\n",
       "                        <td id=\"T_ab308d6b_7ee3_11ec_a613_ccf9e4c73a3erow3_col4\" class=\"data row3 col4\" >NY</td>\n",
       "            </tr>\n",
       "            <tr>\n",
       "                                <td id=\"T_ab308d6b_7ee3_11ec_a613_ccf9e4c73a3erow4_col0\" class=\"data row4 col0\" >Rain In Blood Orange Pale Ale</td>\n",
       "                        <td id=\"T_ab308d6b_7ee3_11ec_a613_ccf9e4c73a3erow4_col1\" class=\"data row4 col1\" >American Pale Ale (APA)</td>\n",
       "                        <td id=\"T_ab308d6b_7ee3_11ec_a613_ccf9e4c73a3erow4_col2\" class=\"data row4 col2\" >Dark Horse Brewing Company</td>\n",
       "                        <td id=\"T_ab308d6b_7ee3_11ec_a613_ccf9e4c73a3erow4_col3\" class=\"data row4 col3\" >Marshall</td>\n",
       "                        <td id=\"T_ab308d6b_7ee3_11ec_a613_ccf9e4c73a3erow4_col4\" class=\"data row4 col4\" >MI</td>\n",
       "            </tr>\n",
       "    </tbody></table>"
      ],
      "text/plain": [
       "<pandas.io.formats.style.Styler at 0x1b6bfc77910>"
      ]
     },
     "execution_count": 67,
     "metadata": {},
     "output_type": "execute_result"
    }
   ],
   "source": [
    "# Testing the function\n",
    "cos_beer()"
   ]
  },
  {
   "cell_type": "markdown",
   "metadata": {},
   "source": [
    "## <a id=\"#Linear Kernal\">Linear Kernal</a>"
   ]
  },
  {
   "cell_type": "code",
   "execution_count": 69,
   "metadata": {},
   "outputs": [],
   "source": [
    "def lin_beer():\n",
    "    \n",
    "    \"\"\"Returns top recommended beers based on linear kernel with user imputs of style,\n",
    "    beer name, and number of recommendations\"\"\"\n",
    "    \n",
    "    # User inputs style of beer they are looking for\n",
    "    style_input = input('Style: ')\n",
    "    # Input name of beer\n",
    "    beer_input = input('Beer Name: ')\n",
    "    # Input number of recommendations\n",
    "    n_recs = int(input('How many recommendations? '))\n",
    "    \n",
    "    # Data is sliced \n",
    "    style_df = cont_df[cont_df['broad_style'] == style_input]\n",
    "    \n",
    "    # Creating a vectorizer to transform the data with 300 features and a range of unigrams to trigrams\n",
    "    tf = TfidfVectorizer(max_features=300, ngram_range=(1,3))\n",
    "    # Fitting and transforming the clean text data \n",
    "    dtm = tf.fit_transform(style_df['clean_text'])\n",
    "    # Creating a document-term matrix\n",
    "    dtm = pd.DataFrame(dtm.todense(), columns=tf.get_feature_names(), index = style_df.index)\n",
    "    # Merging the document-term matrix back into the content dataframe\n",
    "    style_df = style_df.merge(dtm, left_index=True, right_index=True)\n",
    "    # Renaming columns with the same name\n",
    "    style_df = style_df.rename(columns={'style_x':'style','abv_x':'abv'})\n",
    "    # Dropping irrelevant columns\n",
    "    style_df = style_df.drop(columns=['broad_style','style','beer_name','brewery_name',\n",
    "                                      'city','state','clean_text'])\n",
    "\n",
    "    # Calling the columns that need to be scaled\n",
    "    col_names = ['abv', 'score']\n",
    "    # Selecting those column\n",
    "    features = style_df[col_names]\n",
    "    # Fitting and transforming the columns with a MinMaxScalers\n",
    "    features = MinMaxScaler().fit_transform(features.values)\n",
    "    # Setting those transformed features back into the data\n",
    "    style_df[col_names] = features\n",
    "    \n",
    "    # Grabbing the index value of the inputed beer\n",
    "    beerix = cont_df.loc[cont_df['beer_name'] == beer_input].index.values\n",
    "    # Selecting the row of that beer\n",
    "    y = np.array(style_df.loc[beerix[0]])\n",
    "    # Reshaping the row into an array that can be passed into the model\n",
    "    y = y.reshape(1, -1)\n",
    "    \n",
    "    # Calculating the linear kernel \n",
    "    lin_ker = linear_kernel(style_df, y)\n",
    "    # Creating a printout of the scores with their respective indices\n",
    "    lin_ker = pd.DataFrame(data=lin_ker, index=style_df.index)\n",
    "    # Sorting by highest scoring\n",
    "    results = lin_ker.sort_values(by = 0, ascending=False)\n",
    "    # Selecting n number indicies of top recommendations\n",
    "    nresultsid = results.head(n_recs+1).index.values[1:]\n",
    "    # Locating those beers in my results dataframe\n",
    "    nresults_df = result_df.loc[nresultsid]\n",
    "    # Returning those results\n",
    "    return nresults_df.style.hide_index()"
   ]
  },
  {
   "cell_type": "code",
   "execution_count": 70,
   "metadata": {},
   "outputs": [
    {
     "name": "stdout",
     "output_type": "stream",
     "text": [
      "Style: Pale Ale\n",
      "Beer Name: Superfuzz Blood Orange Pale Ale\n",
      "How many recommendations? 5\n"
     ]
    },
    {
     "data": {
      "text/html": [
       "<style  type=\"text/css\" >\n",
       "</style><table id=\"T_ffbb6bee_7ee7_11ec_ad5a_ccf9e4c73a3e\" ><thead>    <tr>        <th class=\"col_heading level0 col0\" >Name</th>        <th class=\"col_heading level0 col1\" >Style</th>        <th class=\"col_heading level0 col2\" >Brewery</th>        <th class=\"col_heading level0 col3\" >City</th>        <th class=\"col_heading level0 col4\" >State</th>    </tr></thead><tbody>\n",
       "                <tr>\n",
       "                                <td id=\"T_ffbb6bee_7ee7_11ec_ad5a_ccf9e4c73a3erow0_col0\" class=\"data row0 col0\" >Superfuzz Blood Orange Pale Ale</td>\n",
       "                        <td id=\"T_ffbb6bee_7ee7_11ec_ad5a_ccf9e4c73a3erow0_col1\" class=\"data row0 col1\" >American Pale Ale (APA)</td>\n",
       "                        <td id=\"T_ffbb6bee_7ee7_11ec_ad5a_ccf9e4c73a3erow0_col2\" class=\"data row0 col2\" >Elysian Brewing Company</td>\n",
       "                        <td id=\"T_ffbb6bee_7ee7_11ec_ad5a_ccf9e4c73a3erow0_col3\" class=\"data row0 col3\" >Seattle</td>\n",
       "                        <td id=\"T_ffbb6bee_7ee7_11ec_ad5a_ccf9e4c73a3erow0_col4\" class=\"data row0 col4\" >WA</td>\n",
       "            </tr>\n",
       "            <tr>\n",
       "                                <td id=\"T_ffbb6bee_7ee7_11ec_ad5a_ccf9e4c73a3erow1_col0\" class=\"data row1 col0\" >Mosaic Dry Hopped Fort Point</td>\n",
       "                        <td id=\"T_ffbb6bee_7ee7_11ec_ad5a_ccf9e4c73a3erow1_col1\" class=\"data row1 col1\" >American Pale Ale (APA)</td>\n",
       "                        <td id=\"T_ffbb6bee_7ee7_11ec_ad5a_ccf9e4c73a3erow1_col2\" class=\"data row1 col2\" >Trillium Brewing Company</td>\n",
       "                        <td id=\"T_ffbb6bee_7ee7_11ec_ad5a_ccf9e4c73a3erow1_col3\" class=\"data row1 col3\" >Boston</td>\n",
       "                        <td id=\"T_ffbb6bee_7ee7_11ec_ad5a_ccf9e4c73a3erow1_col4\" class=\"data row1 col4\" >MA</td>\n",
       "            </tr>\n",
       "            <tr>\n",
       "                                <td id=\"T_ffbb6bee_7ee7_11ec_ad5a_ccf9e4c73a3erow2_col0\" class=\"data row2 col0\" >Pseudo Sue - Double Dry-Hopped</td>\n",
       "                        <td id=\"T_ffbb6bee_7ee7_11ec_ad5a_ccf9e4c73a3erow2_col1\" class=\"data row2 col1\" >American Pale Ale (APA)</td>\n",
       "                        <td id=\"T_ffbb6bee_7ee7_11ec_ad5a_ccf9e4c73a3erow2_col2\" class=\"data row2 col2\" >Toppling Goliath Brewing Company</td>\n",
       "                        <td id=\"T_ffbb6bee_7ee7_11ec_ad5a_ccf9e4c73a3erow2_col3\" class=\"data row2 col3\" >Decorah</td>\n",
       "                        <td id=\"T_ffbb6bee_7ee7_11ec_ad5a_ccf9e4c73a3erow2_col4\" class=\"data row2 col4\" >IA</td>\n",
       "            </tr>\n",
       "            <tr>\n",
       "                                <td id=\"T_ffbb6bee_7ee7_11ec_ad5a_ccf9e4c73a3erow3_col0\" class=\"data row3 col0\" >Hall Of Fame: .394 Imperial San Diego Pale Ale</td>\n",
       "                        <td id=\"T_ffbb6bee_7ee7_11ec_ad5a_ccf9e4c73a3erow3_col1\" class=\"data row3 col1\" >American Pale Ale (APA)</td>\n",
       "                        <td id=\"T_ffbb6bee_7ee7_11ec_ad5a_ccf9e4c73a3erow3_col2\" class=\"data row3 col2\" >AleSmith Brewing Company</td>\n",
       "                        <td id=\"T_ffbb6bee_7ee7_11ec_ad5a_ccf9e4c73a3erow3_col3\" class=\"data row3 col3\" >San Diego</td>\n",
       "                        <td id=\"T_ffbb6bee_7ee7_11ec_ad5a_ccf9e4c73a3erow3_col4\" class=\"data row3 col4\" >CA</td>\n",
       "            </tr>\n",
       "            <tr>\n",
       "                                <td id=\"T_ffbb6bee_7ee7_11ec_ad5a_ccf9e4c73a3erow4_col0\" class=\"data row4 col0\" >Dreamsicle</td>\n",
       "                        <td id=\"T_ffbb6bee_7ee7_11ec_ad5a_ccf9e4c73a3erow4_col1\" class=\"data row4 col1\" >American Pale Ale (APA)</td>\n",
       "                        <td id=\"T_ffbb6bee_7ee7_11ec_ad5a_ccf9e4c73a3erow4_col2\" class=\"data row4 col2\" >Pipeworks Brewing Company</td>\n",
       "                        <td id=\"T_ffbb6bee_7ee7_11ec_ad5a_ccf9e4c73a3erow4_col3\" class=\"data row4 col3\" >Chicago</td>\n",
       "                        <td id=\"T_ffbb6bee_7ee7_11ec_ad5a_ccf9e4c73a3erow4_col4\" class=\"data row4 col4\" >IL</td>\n",
       "            </tr>\n",
       "    </tbody></table>"
      ],
      "text/plain": [
       "<pandas.io.formats.style.Styler at 0x1b66a118430>"
      ]
     },
     "execution_count": 70,
     "metadata": {},
     "output_type": "execute_result"
    }
   ],
   "source": [
    "# Testing the function\n",
    "lin_beer()"
   ]
  },
  {
   "cell_type": "markdown",
   "metadata": {},
   "source": [
    "## <a id=\"#K-Nearest Neighbors\">K-Nearest Neighbors</a>"
   ]
  },
  {
   "cell_type": "code",
   "execution_count": 71,
   "metadata": {
    "id": "vPvezkCpDsJ-"
   },
   "outputs": [],
   "source": [
    "def knn_beer():\n",
    "    \n",
    "    \"\"\"Returns top recommended beers using K-Nearest Neighbors with user imputs of style,\n",
    "    beer name, and number of recommendations\"\"\"\n",
    "    \n",
    "    # User inputs style of beer they are looking for\n",
    "    style_input = input('Style: ')\n",
    "    # Input name of beer\n",
    "    beer_input = input('Beer Name: ')\n",
    "    # Input number of recommendations\n",
    "    n_recs = int(input('How many recommendations? '))\n",
    "    \n",
    "    # Data is sliced \n",
    "    style_df = cont_df[cont_df['broad_style'] == style_input]\n",
    "    \n",
    "    # Creating a vectorizer to transform the data with 300 features and a range of unigrams to trigrams\n",
    "    tf = TfidfVectorizer(max_features=300, ngram_range=(1,3))\n",
    "    # Fitting and transforming the clean text data \n",
    "    dtm = tf.fit_transform(style_df['clean_text'])\n",
    "    # Creating a document-term matrix\n",
    "    dtm = pd.DataFrame(dtm.todense(), columns=tf.get_feature_names(), index = style_df.index)\n",
    "    # Merging the document-term matrix back into the content dataframe\n",
    "    style_df = style_df.merge(dtm, left_index=True, right_index=True)\n",
    "    # Renaming columns with the same name\n",
    "    style_df = style_df.rename(columns={'style_x':'style','abv_x':'abv'})\n",
    "    # Dropping irrelevant columns\n",
    "    style_df = style_df.drop(columns=['broad_style','style','beer_name','brewery_name',\n",
    "                                      'city','state','clean_text'])\n",
    "\n",
    "    # Calling the columns that need to be scaled\n",
    "    col_names = ['abv', 'score']\n",
    "    # Selecting those column\n",
    "    features = style_df[col_names]\n",
    "    # Fitting and transforming the columns with a MinMaxScalers\n",
    "    features = MinMaxScaler().fit_transform(features.values)\n",
    "    # Setting those transformed features back into the data\n",
    "    style_df[col_names] = features\n",
    "    \n",
    "    # Grabbing the index value of the inputed beer\n",
    "    beerix = cont_df.loc[cont_df['beer_name'] == beer_input].index.values\n",
    "    # Selecting the row of that beer\n",
    "    x = np.array(style_df.loc[beerix[0]])\n",
    "    # Reshaping the row into an array that can be passed into the model\n",
    "    x = y.reshape(1, -1)\n",
    "    \n",
    "    # Creating a knn model with the auto algorithm and 5 nearest neighbors\n",
    "    knn = NearestNeighbors(algorithm='auto', n_neighbors=5)\n",
    "    # Fitting the model on the dataframe\n",
    "    knn.fit(style_df)\n",
    "    \n",
    "    # Selecting n number results\n",
    "    results = knn.kneighbors(x, n_recs+1, return_distance=False).flatten()\n",
    "    # Selecting their indicies\n",
    "    resultsids = style_df.iloc[results].index.values[1:]\n",
    "    # Locating those beers in my results dataframe\n",
    "    nresults_df = result_df.loc[resultsids]\n",
    "    # Returning those results\n",
    "    return nresults_df.style.hide_index()"
   ]
  },
  {
   "cell_type": "code",
   "execution_count": 72,
   "metadata": {
    "scrolled": true
   },
   "outputs": [
    {
     "name": "stdout",
     "output_type": "stream",
     "text": [
      "Style: Pale Ale\n",
      "Beer Name: Superfuzz Blood Orange Pale Ale\n",
      "How many recommendations? 5\n"
     ]
    },
    {
     "data": {
      "text/html": [
       "<style  type=\"text/css\" >\n",
       "</style><table id=\"T_6cd14dfe_7ee8_11ec_8c19_ccf9e4c73a3e\" ><thead>    <tr>        <th class=\"col_heading level0 col0\" >Name</th>        <th class=\"col_heading level0 col1\" >Style</th>        <th class=\"col_heading level0 col2\" >Brewery</th>        <th class=\"col_heading level0 col3\" >City</th>        <th class=\"col_heading level0 col4\" >State</th>    </tr></thead><tbody>\n",
       "                <tr>\n",
       "                                <td id=\"T_6cd14dfe_7ee8_11ec_8c19_ccf9e4c73a3erow0_col0\" class=\"data row0 col0\" >CitruSinensis (OneHitter Series)</td>\n",
       "                        <td id=\"T_6cd14dfe_7ee8_11ec_8c19_ccf9e4c73a3erow0_col1\" class=\"data row0 col1\" >American Pale Ale (APA)</td>\n",
       "                        <td id=\"T_6cd14dfe_7ee8_11ec_8c19_ccf9e4c73a3erow0_col2\" class=\"data row0 col2\" >Lagunitas Brewing Company</td>\n",
       "                        <td id=\"T_6cd14dfe_7ee8_11ec_8c19_ccf9e4c73a3erow0_col3\" class=\"data row0 col3\" >Petaluma</td>\n",
       "                        <td id=\"T_6cd14dfe_7ee8_11ec_8c19_ccf9e4c73a3erow0_col4\" class=\"data row0 col4\" >CA</td>\n",
       "            </tr>\n",
       "            <tr>\n",
       "                                <td id=\"T_6cd14dfe_7ee8_11ec_8c19_ccf9e4c73a3erow1_col0\" class=\"data row1 col0\" >Blood Orange Pale Ale</td>\n",
       "                        <td id=\"T_6cd14dfe_7ee8_11ec_8c19_ccf9e4c73a3erow1_col1\" class=\"data row1 col1\" >American Pale Ale (APA)</td>\n",
       "                        <td id=\"T_6cd14dfe_7ee8_11ec_8c19_ccf9e4c73a3erow1_col2\" class=\"data row1 col2\" >Great South Bay Brewery</td>\n",
       "                        <td id=\"T_6cd14dfe_7ee8_11ec_8c19_ccf9e4c73a3erow1_col3\" class=\"data row1 col3\" >Bay Shore</td>\n",
       "                        <td id=\"T_6cd14dfe_7ee8_11ec_8c19_ccf9e4c73a3erow1_col4\" class=\"data row1 col4\" >NY</td>\n",
       "            </tr>\n",
       "            <tr>\n",
       "                                <td id=\"T_6cd14dfe_7ee8_11ec_8c19_ccf9e4c73a3erow2_col0\" class=\"data row2 col0\" >X - Orange</td>\n",
       "                        <td id=\"T_6cd14dfe_7ee8_11ec_8c19_ccf9e4c73a3erow2_col1\" class=\"data row2 col1\" >American Pale Ale (APA)</td>\n",
       "                        <td id=\"T_6cd14dfe_7ee8_11ec_8c19_ccf9e4c73a3erow2_col2\" class=\"data row2 col2\" >AleSmith Brewing Company</td>\n",
       "                        <td id=\"T_6cd14dfe_7ee8_11ec_8c19_ccf9e4c73a3erow2_col3\" class=\"data row2 col3\" >San Diego</td>\n",
       "                        <td id=\"T_6cd14dfe_7ee8_11ec_8c19_ccf9e4c73a3erow2_col4\" class=\"data row2 col4\" >CA</td>\n",
       "            </tr>\n",
       "            <tr>\n",
       "                                <td id=\"T_6cd14dfe_7ee8_11ec_8c19_ccf9e4c73a3erow3_col0\" class=\"data row3 col0\" >Naranjito</td>\n",
       "                        <td id=\"T_6cd14dfe_7ee8_11ec_8c19_ccf9e4c73a3erow3_col1\" class=\"data row3 col1\" >American Pale Ale (APA)</td>\n",
       "                        <td id=\"T_6cd14dfe_7ee8_11ec_8c19_ccf9e4c73a3erow3_col2\" class=\"data row3 col2\" >Brooklyn Brewery</td>\n",
       "                        <td id=\"T_6cd14dfe_7ee8_11ec_8c19_ccf9e4c73a3erow3_col3\" class=\"data row3 col3\" >Brooklyn</td>\n",
       "                        <td id=\"T_6cd14dfe_7ee8_11ec_8c19_ccf9e4c73a3erow3_col4\" class=\"data row3 col4\" >NY</td>\n",
       "            </tr>\n",
       "            <tr>\n",
       "                                <td id=\"T_6cd14dfe_7ee8_11ec_8c19_ccf9e4c73a3erow4_col0\" class=\"data row4 col0\" >Rain In Blood Orange Pale Ale</td>\n",
       "                        <td id=\"T_6cd14dfe_7ee8_11ec_8c19_ccf9e4c73a3erow4_col1\" class=\"data row4 col1\" >American Pale Ale (APA)</td>\n",
       "                        <td id=\"T_6cd14dfe_7ee8_11ec_8c19_ccf9e4c73a3erow4_col2\" class=\"data row4 col2\" >Dark Horse Brewing Company</td>\n",
       "                        <td id=\"T_6cd14dfe_7ee8_11ec_8c19_ccf9e4c73a3erow4_col3\" class=\"data row4 col3\" >Marshall</td>\n",
       "                        <td id=\"T_6cd14dfe_7ee8_11ec_8c19_ccf9e4c73a3erow4_col4\" class=\"data row4 col4\" >MI</td>\n",
       "            </tr>\n",
       "    </tbody></table>"
      ],
      "text/plain": [
       "<pandas.io.formats.style.Styler at 0x1b6bfc77eb0>"
      ]
     },
     "execution_count": 72,
     "metadata": {},
     "output_type": "execute_result"
    }
   ],
   "source": [
    "# Testing the function\n",
    "knn_beer()"
   ]
  },
  {
   "cell_type": "markdown",
   "metadata": {},
   "source": [
    "# <a id=\"#Conclusion\">Conclusion</a>"
   ]
  },
  {
   "cell_type": "markdown",
   "metadata": {},
   "source": [
    ">"
   ]
  },
  {
   "cell_type": "code",
   "execution_count": 78,
   "metadata": {},
   "outputs": [],
   "source": [
    "# Importing mask for the shape of my word clouds\n",
    "beer_mask = np.array(Image.open('images/beershape.png'))"
   ]
  },
  {
   "cell_type": "code",
   "execution_count": 141,
   "metadata": {},
   "outputs": [
    {
     "data": {
      "image/png": "[encoded data removed]",
      "text/plain": [
       "<Figure size 1440x720 with 1 Axes>"
      ]
     },
     "metadata": {
      "needs_background": "light"
     },
     "output_type": "display_data"
    }
   ],
   "source": [
    "# Creating cloud for my reference beer\n",
    "beer1 = cont_df.loc[[90993]]['clean_text']\n",
    "wordcloud(beer1, max_words = 50, mask=beer_mask, contour_color='#802036', contour_width=2, colormap = 'flare', height= 600)"
   ]
  },
  {
   "cell_type": "code",
   "execution_count": 139,
   "metadata": {},
   "outputs": [
    {
     "data": {
      "image/png": "[encoded data removed]",
      "text/plain": [
       "<Figure size 1440x720 with 1 Axes>"
      ]
     },
     "metadata": {
      "needs_background": "light"
     },
     "output_type": "display_data"
    }
   ],
   "source": [
    "# Creating cloud for my top recommendation\n",
    "beer2 = cont_df.loc[[175577]]['clean_text']\n",
    "wordcloud(beer2, max_words = 50, mask=beer_mask, contour_color='#802036', contour_width=2, colormap = 'flare', height= 600)"
   ]
  },
  {
   "cell_type": "markdown",
   "metadata": {},
   "source": [
    "# <a id=\"#Next Steps\">Next Steps</a>   "
   ]
  },
  {
   "cell_type": "markdown",
   "metadata": {},
   "source": [
    ">"
   ]
  },
  {
   "cell_type": "markdown",
   "metadata": {},
   "source": [
    "# <a id=\"#Sources\">Sources</a>"
   ]
  },
  {
   "cell_type": "markdown",
   "metadata": {},
   "source": [
    "> [Beers, Breweries, and Beer Reviews](https://www.kaggle.com/ehallmar/beers-breweries-and-beer-reviews?select=beers.csv)\n",
    ">\n",
    "> [Texthero](https://texthero.org/)\n",
    ">\n",
    "> [How to Create Beautiful Word Clouds in Python](https://towardsdatascience.com/how-to-create-beautiful-word-clouds-in-python-cfcf85141214)"
   ]
  },
  {
   "cell_type": "code",
   "execution_count": null,
   "metadata": {},
   "outputs": [],
   "source": []
  }
 ],
 "metadata": {
  "colab": {
   "collapsed_sections": [
    "1Ybhi8-xDyr8",
    "udoJYsZ-Y-h3"
   ],
   "machine_shape": "hm",
   "name": "WorkingNotebook.ipynb",
   "provenance": []
  },
  "kernelspec": {
   "display_name": "Python (learn-env)",
   "language": "python",
   "name": "learn-env"
  },
  "language_info": {
   "codemirror_mode": {
    "name": "ipython",
    "version": 3
   },
   "file_extension": ".py",
   "mimetype": "text/x-python",
   "name": "python",
   "nbconvert_exporter": "python",
   "pygments_lexer": "ipython3",
   "version": "3.8.5"
  }
 },
 "nbformat": 4,
 "nbformat_minor": 1
}
