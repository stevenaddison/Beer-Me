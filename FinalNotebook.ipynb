{
 "cells": [
  {
   "cell_type": "markdown",
   "metadata": {},
   "source": [
    "### <span style=\"color:red\">Warning: Do not run notebook, certain cells take upwards of 30 minutes to run!!!</span>\n",
    "# <span style=\"font-size:1.3em;\">Beer Me: A Content-Based Recommender System\n",
    "Author: Steven Addison"
   ]
  },
  {
   "cell_type": "markdown",
   "metadata": {},
   "source": [
    "# Contents\n",
    "<l></l>\n",
    "\n",
    "<span style=\"font-size:1.2em;\">\n",
    "\n",
    "- <a href=\"#Overview\">Overview</a>\n",
    "\n",
    "- <a href=\"#Business Understanding\">Business Understanding</a>  \n",
    "\n",
    "- <a href=\"#Data Understanding\">Data Understanding</a>  \n",
    "    \n",
    "- <a href=\"#Imports\">Imports</a> \n",
    "\n",
    "- <a href=\"#Data Preparation & Analysis\">Data Preparation & Analysis</a> \n",
    "    \n",
    "    - <a href=\"#Creating Final Database\">Creating Final Database</a>\n",
    "    \n",
    "    - <a href=\"#Text Preprocessing with Texthero\">Text Preprocessing with Texthero</a>    \n",
    "    \n",
    "- <a href=\"#Modeling\">Modeling</a>\n",
    "    \n",
    "    - <a href=\"#Cosine Similarity\">Cosine Similarity</a>\n",
    "    \n",
    "    - <a href=\"#Linear Kernal\">Linear Kernal</a>\n",
    "    \n",
    "    - <a href=\"#K-Nearest Neighbors\">K-Nearest Neighbors</a>\n",
    "        \n",
    "- <a href=\"#Conclusion\">Conclusion</a>\n",
    "    \n",
    "- <a href=\"#Next Steps\">Next Steps</a>\n",
    "    \n",
    "- <a href=\"#Sources\">Sources</a>"
   ]
  },
  {
   "cell_type": "markdown",
   "metadata": {},
   "source": [
    "# <a id=\"#Overview\">Overview</a>"
   ]
  },
  {
   "cell_type": "markdown",
   "metadata": {},
   "source": [
    "> This project analyzes beer review data of 82,000 unique beers and recommends the top similar styles analyzing Review Text with a tf-idf vectorizer, Style, ABV, and Overall Rating."
   ]
  },
  {
   "cell_type": "markdown",
   "metadata": {},
   "source": [
    "# <a id=\"#Business Understanding\">Business Understanding</a>"
   ]
  },
  {
   "cell_type": "markdown",
   "metadata": {},
   "source": [
    "> As someone who has spent many years in the restaurant industry I often dread hearing “what do you recommend”, it always has felt like a loaded question to me seeing how one never has enough time to learn about a customer’s likes and taste in order to give accurate guidance. That is why a content-based recommender system such as this one can take all the guessing work out of the equation so that a customer can enjoy a beverage that has been selected for them based on similar items other enthusiasts have previously reviewed and enjoyed."
   ]
  },
  {
   "cell_type": "markdown",
   "metadata": {},
   "source": [
    "# <a id=\"Data Understanding\">Data Understanding</a>"
   ]
  },
  {
   "cell_type": "markdown",
   "metadata": {},
   "source": [
    "> For this project I used three datasets sourced from Kaggle that contains information gathered from Beer Advocate. For reproducibility one will have to download the data from the source, as it is too large to host on Github."
   ]
  },
  {
   "cell_type": "markdown",
   "metadata": {
    "id": "0IzyyW0ipSoW"
   },
   "source": [
    "# <a id=\"Imports\">Imports</a>"
   ]
  },
  {
   "cell_type": "markdown",
   "metadata": {},
   "source": [
    "> First, I start with importing the relevant libraries needed to clean my data and create my models."
   ]
  },
  {
   "cell_type": "code",
   "execution_count": 2,
   "metadata": {
    "executionInfo": {
     "elapsed": 8,
     "status": "ok",
     "timestamp": 1642608282486,
     "user": {
      "displayName": "Steven Addison",
      "photoUrl": "https://lh3.googleusercontent.com/a-/AOh14Ggvrkb1asDESkHlRf75vzpzJZ5bM7lB3C8pEgr3uQ=s64",
      "userId": "18377436314153100010"
     },
     "user_tz": 480
    },
    "id": "lew5bIi-pSod"
   },
   "outputs": [],
   "source": [
    "import pandas as pd\n",
    "import numpy as np\n",
    "from PIL import Image\n",
    "import matplotlib.pyplot as plt\n",
    "import seaborn as sns\n",
    "%matplotlib inline\n",
    "\n",
    "import texthero as hero\n",
    "from texthero import preprocessing\n",
    "from texthero.visualization import wordcloud\n",
    "\n",
    "\n",
    "from sklearn.preprocessing import MinMaxScaler\n",
    "from sklearn.feature_extraction.text import TfidfVectorizer\n",
    "\n",
    "from sklearn.metrics.pairwise import linear_kernel\n",
    "from sklearn.metrics.pairwise import cosine_similarity\n",
    "\n",
    "from sklearn.neighbors import NearestNeighbors\n",
    "\n",
    "\n",
    "\n",
    "import warnings\n",
    "warnings.filterwarnings('ignore')"
   ]
  },
  {
   "cell_type": "markdown",
   "metadata": {
    "id": "GAseFNDxpSod"
   },
   "source": [
    "---\n",
    "# <a id=\"Data Preparation & Analysis\">Data Preparation & Analysis</a>"
   ]
  },
  {
   "cell_type": "markdown",
   "metadata": {},
   "source": [
    "> I wrote a simple function to explore my datasets with that can be found in the `eda.py` file in my repo. This function will display the first five rows of the dataframe, counts of the non-null values, data types, and total entires, check the descriptive statistics, value counts of every column, and print off the sum of any null values. This function is commented out in the notebook for brevity's sake, but can be accessed if cloned to your local machine. "
   ]
  },
  {
   "cell_type": "code",
   "execution_count": 1,
   "metadata": {},
   "outputs": [
    {
     "ename": "Exception",
     "evalue": "File `'eda.py'` not found.",
     "output_type": "error",
     "traceback": [
      "\u001b[1;31m---------------------------------------------------------------------------\u001b[0m",
      "\u001b[1;31mOSError\u001b[0m                                   Traceback (most recent call last)",
      "\u001b[1;32m~\\anaconda3\\envs\\learn-env\\lib\\site-packages\\IPython\\core\\magics\\execution.py\u001b[0m in \u001b[0;36mrun\u001b[1;34m(self, parameter_s, runner, file_finder)\u001b[0m\n\u001b[0;32m    702\u001b[0m             \u001b[0mfpath\u001b[0m \u001b[1;33m=\u001b[0m \u001b[0marg_lst\u001b[0m\u001b[1;33m[\u001b[0m\u001b[1;36m0\u001b[0m\u001b[1;33m]\u001b[0m\u001b[1;33m\u001b[0m\u001b[1;33m\u001b[0m\u001b[0m\n\u001b[1;32m--> 703\u001b[1;33m             \u001b[0mfilename\u001b[0m \u001b[1;33m=\u001b[0m \u001b[0mfile_finder\u001b[0m\u001b[1;33m(\u001b[0m\u001b[0mfpath\u001b[0m\u001b[1;33m)\u001b[0m\u001b[1;33m\u001b[0m\u001b[1;33m\u001b[0m\u001b[0m\n\u001b[0m\u001b[0;32m    704\u001b[0m         \u001b[1;32mexcept\u001b[0m \u001b[0mIndexError\u001b[0m\u001b[1;33m:\u001b[0m\u001b[1;33m\u001b[0m\u001b[1;33m\u001b[0m\u001b[0m\n",
      "\u001b[1;32m~\\anaconda3\\envs\\learn-env\\lib\\site-packages\\IPython\\utils\\path.py\u001b[0m in \u001b[0;36mget_py_filename\u001b[1;34m(name, force_win32)\u001b[0m\n\u001b[0;32m    108\u001b[0m     \u001b[1;32melse\u001b[0m\u001b[1;33m:\u001b[0m\u001b[1;33m\u001b[0m\u001b[1;33m\u001b[0m\u001b[0m\n\u001b[1;32m--> 109\u001b[1;33m         \u001b[1;32mraise\u001b[0m \u001b[0mIOError\u001b[0m\u001b[1;33m(\u001b[0m\u001b[1;34m'File `%r` not found.'\u001b[0m \u001b[1;33m%\u001b[0m \u001b[0mname\u001b[0m\u001b[1;33m)\u001b[0m\u001b[1;33m\u001b[0m\u001b[1;33m\u001b[0m\u001b[0m\n\u001b[0m\u001b[0;32m    110\u001b[0m \u001b[1;33m\u001b[0m\u001b[0m\n",
      "\u001b[1;31mOSError\u001b[0m: File `'eda.py'` not found.",
      "\nDuring handling of the above exception, another exception occurred:\n",
      "\u001b[1;31mException\u001b[0m                                 Traceback (most recent call last)",
      "\u001b[1;32m<ipython-input-1-c437b1bf83ad>\u001b[0m in \u001b[0;36m<module>\u001b[1;34m\u001b[0m\n\u001b[0;32m      1\u001b[0m \u001b[1;31m# import script used to preform basic EDA on my datasets, plus a dictionary used to define a later column\u001b[0m\u001b[1;33m\u001b[0m\u001b[1;33m\u001b[0m\u001b[1;33m\u001b[0m\u001b[0m\n\u001b[1;32m----> 2\u001b[1;33m \u001b[0mget_ipython\u001b[0m\u001b[1;33m(\u001b[0m\u001b[1;33m)\u001b[0m\u001b[1;33m.\u001b[0m\u001b[0mrun_line_magic\u001b[0m\u001b[1;33m(\u001b[0m\u001b[1;34m'run'\u001b[0m\u001b[1;33m,\u001b[0m \u001b[1;34m'eda.py'\u001b[0m\u001b[1;33m)\u001b[0m\u001b[1;33m\u001b[0m\u001b[1;33m\u001b[0m\u001b[0m\n\u001b[0m",
      "\u001b[1;32m~\\anaconda3\\envs\\learn-env\\lib\\site-packages\\IPython\\core\\interactiveshell.py\u001b[0m in \u001b[0;36mrun_line_magic\u001b[1;34m(self, magic_name, line, _stack_depth)\u001b[0m\n\u001b[0;32m   2324\u001b[0m                 \u001b[0mkwargs\u001b[0m\u001b[1;33m[\u001b[0m\u001b[1;34m'local_ns'\u001b[0m\u001b[1;33m]\u001b[0m \u001b[1;33m=\u001b[0m \u001b[0mself\u001b[0m\u001b[1;33m.\u001b[0m\u001b[0mget_local_scope\u001b[0m\u001b[1;33m(\u001b[0m\u001b[0mstack_depth\u001b[0m\u001b[1;33m)\u001b[0m\u001b[1;33m\u001b[0m\u001b[1;33m\u001b[0m\u001b[0m\n\u001b[0;32m   2325\u001b[0m             \u001b[1;32mwith\u001b[0m \u001b[0mself\u001b[0m\u001b[1;33m.\u001b[0m\u001b[0mbuiltin_trap\u001b[0m\u001b[1;33m:\u001b[0m\u001b[1;33m\u001b[0m\u001b[1;33m\u001b[0m\u001b[0m\n\u001b[1;32m-> 2326\u001b[1;33m                 \u001b[0mresult\u001b[0m \u001b[1;33m=\u001b[0m \u001b[0mfn\u001b[0m\u001b[1;33m(\u001b[0m\u001b[1;33m*\u001b[0m\u001b[0margs\u001b[0m\u001b[1;33m,\u001b[0m \u001b[1;33m**\u001b[0m\u001b[0mkwargs\u001b[0m\u001b[1;33m)\u001b[0m\u001b[1;33m\u001b[0m\u001b[1;33m\u001b[0m\u001b[0m\n\u001b[0m\u001b[0;32m   2327\u001b[0m             \u001b[1;32mreturn\u001b[0m \u001b[0mresult\u001b[0m\u001b[1;33m\u001b[0m\u001b[1;33m\u001b[0m\u001b[0m\n\u001b[0;32m   2328\u001b[0m \u001b[1;33m\u001b[0m\u001b[0m\n",
      "\u001b[1;32m<decorator-gen-53>\u001b[0m in \u001b[0;36mrun\u001b[1;34m(self, parameter_s, runner, file_finder)\u001b[0m\n",
      "\u001b[1;32m~\\anaconda3\\envs\\learn-env\\lib\\site-packages\\IPython\\core\\magic.py\u001b[0m in \u001b[0;36m<lambda>\u001b[1;34m(f, *a, **k)\u001b[0m\n\u001b[0;32m    185\u001b[0m     \u001b[1;31m# but it's overkill for just that one bit of state.\u001b[0m\u001b[1;33m\u001b[0m\u001b[1;33m\u001b[0m\u001b[1;33m\u001b[0m\u001b[0m\n\u001b[0;32m    186\u001b[0m     \u001b[1;32mdef\u001b[0m \u001b[0mmagic_deco\u001b[0m\u001b[1;33m(\u001b[0m\u001b[0marg\u001b[0m\u001b[1;33m)\u001b[0m\u001b[1;33m:\u001b[0m\u001b[1;33m\u001b[0m\u001b[1;33m\u001b[0m\u001b[0m\n\u001b[1;32m--> 187\u001b[1;33m         \u001b[0mcall\u001b[0m \u001b[1;33m=\u001b[0m \u001b[1;32mlambda\u001b[0m \u001b[0mf\u001b[0m\u001b[1;33m,\u001b[0m \u001b[1;33m*\u001b[0m\u001b[0ma\u001b[0m\u001b[1;33m,\u001b[0m \u001b[1;33m**\u001b[0m\u001b[0mk\u001b[0m\u001b[1;33m:\u001b[0m \u001b[0mf\u001b[0m\u001b[1;33m(\u001b[0m\u001b[1;33m*\u001b[0m\u001b[0ma\u001b[0m\u001b[1;33m,\u001b[0m \u001b[1;33m**\u001b[0m\u001b[0mk\u001b[0m\u001b[1;33m)\u001b[0m\u001b[1;33m\u001b[0m\u001b[1;33m\u001b[0m\u001b[0m\n\u001b[0m\u001b[0;32m    188\u001b[0m \u001b[1;33m\u001b[0m\u001b[0m\n\u001b[0;32m    189\u001b[0m         \u001b[1;32mif\u001b[0m \u001b[0mcallable\u001b[0m\u001b[1;33m(\u001b[0m\u001b[0marg\u001b[0m\u001b[1;33m)\u001b[0m\u001b[1;33m:\u001b[0m\u001b[1;33m\u001b[0m\u001b[1;33m\u001b[0m\u001b[0m\n",
      "\u001b[1;32m~\\anaconda3\\envs\\learn-env\\lib\\site-packages\\IPython\\core\\magics\\execution.py\u001b[0m in \u001b[0;36mrun\u001b[1;34m(self, parameter_s, runner, file_finder)\u001b[0m\n\u001b[0;32m    712\u001b[0m             \u001b[1;32mif\u001b[0m \u001b[0mos\u001b[0m\u001b[1;33m.\u001b[0m\u001b[0mname\u001b[0m \u001b[1;33m==\u001b[0m \u001b[1;34m'nt'\u001b[0m \u001b[1;32mand\u001b[0m \u001b[0mre\u001b[0m\u001b[1;33m.\u001b[0m\u001b[0mmatch\u001b[0m\u001b[1;33m(\u001b[0m\u001b[1;34mr\"^'.*'$\"\u001b[0m\u001b[1;33m,\u001b[0m\u001b[0mfpath\u001b[0m\u001b[1;33m)\u001b[0m\u001b[1;33m:\u001b[0m\u001b[1;33m\u001b[0m\u001b[1;33m\u001b[0m\u001b[0m\n\u001b[0;32m    713\u001b[0m                 \u001b[0mwarn\u001b[0m\u001b[1;33m(\u001b[0m\u001b[1;34m'For Windows, use double quotes to wrap a filename: %run \"mypath\\\\myfile.py\"'\u001b[0m\u001b[1;33m)\u001b[0m\u001b[1;33m\u001b[0m\u001b[1;33m\u001b[0m\u001b[0m\n\u001b[1;32m--> 714\u001b[1;33m             \u001b[1;32mraise\u001b[0m \u001b[0mException\u001b[0m\u001b[1;33m(\u001b[0m\u001b[0mmsg\u001b[0m\u001b[1;33m)\u001b[0m\u001b[1;33m\u001b[0m\u001b[1;33m\u001b[0m\u001b[0m\n\u001b[0m\u001b[0;32m    715\u001b[0m         \u001b[1;32mexcept\u001b[0m \u001b[0mTypeError\u001b[0m\u001b[1;33m:\u001b[0m\u001b[1;33m\u001b[0m\u001b[1;33m\u001b[0m\u001b[0m\n\u001b[0;32m    716\u001b[0m             \u001b[1;32mif\u001b[0m \u001b[0mfpath\u001b[0m \u001b[1;32min\u001b[0m \u001b[0msys\u001b[0m\u001b[1;33m.\u001b[0m\u001b[0mmeta_path\u001b[0m\u001b[1;33m:\u001b[0m\u001b[1;33m\u001b[0m\u001b[1;33m\u001b[0m\u001b[0m\n",
      "\u001b[1;31mException\u001b[0m: File `'eda.py'` not found."
     ]
    }
   ],
   "source": [
    "# import script used to preform basic EDA on my datasets, plus a dictionary used to define a later column\n",
    "%run eda.py"
   ]
  },
  {
   "cell_type": "markdown",
   "metadata": {
    "id": "fH9m5EmwpSoh"
   },
   "source": [
    "---\n",
    "> ### First Dataset\n",
    ">\n",
    "> [Beers, Breweries, and Beer Reviews](https://www.kaggle.com/ehallmar/beers-breweries-and-beer-reviews?select=beers.csv)\n",
    ">\n",
    "> This csv contains information about every beer on an individual level. Features such as `style`, `abv`, and `availability` will be used in the modeling process."
   ]
  },
  {
   "cell_type": "code",
   "execution_count": 3,
   "metadata": {
    "executionInfo": {
     "elapsed": 961,
     "status": "ok",
     "timestamp": 1642608283735,
     "user": {
      "displayName": "Steven Addison",
      "photoUrl": "https://lh3.googleusercontent.com/a-/AOh14Ggvrkb1asDESkHlRf75vzpzJZ5bM7lB3C8pEgr3uQ=s64",
      "userId": "18377436314153100010"
     },
     "user_tz": 480
    },
    "id": "BcMYq2VtpSoh"
   },
   "outputs": [],
   "source": [
    "# Reading in the data containing the beers\n",
    "beer = pd.read_csv('data/beers.csv')"
   ]
  },
  {
   "cell_type": "code",
   "execution_count": 4,
   "metadata": {
    "executionInfo": {
     "elapsed": 15,
     "status": "ok",
     "timestamp": 1642608283736,
     "user": {
      "displayName": "Steven Addison",
      "photoUrl": "https://lh3.googleusercontent.com/a-/AOh14Ggvrkb1asDESkHlRf75vzpzJZ5bM7lB3C8pEgr3uQ=s64",
      "userId": "18377436314153100010"
     },
     "user_tz": 480
    },
    "id": "Zfr77Go2pSoi",
    "scrolled": true
   },
   "outputs": [],
   "source": [
    "# EDA on that data\n",
    "# eda(beer)"
   ]
  },
  {
   "cell_type": "code",
   "execution_count": 5,
   "metadata": {
    "executionInfo": {
     "elapsed": 16,
     "status": "ok",
     "timestamp": 1642608283738,
     "user": {
      "displayName": "Steven Addison",
      "photoUrl": "https://lh3.googleusercontent.com/a-/AOh14Ggvrkb1asDESkHlRf75vzpzJZ5bM7lB3C8pEgr3uQ=s64",
      "userId": "18377436314153100010"
     },
     "user_tz": 480
    },
    "id": "iMjrGXYApSoi"
   },
   "outputs": [],
   "source": [
    "# Dropping irrelevant columns\n",
    "beer = beer.drop(columns=['country','notes'])\n",
    "\n",
    "# Renaming columns for consistency among all dataframes\n",
    "beer = beer.rename(columns={'id': 'beer_id', 'name': 'beer_name'})\n",
    "\n",
    "# Removing rows without state data\n",
    "beer = beer.dropna(subset=['state'])\n",
    "\n",
    "# Cleaning the availability column \n",
    "beer['availability'] = beer['availability'].str.strip()"
   ]
  },
  {
   "cell_type": "code",
   "execution_count": 6,
   "metadata": {},
   "outputs": [],
   "source": [
    "# Using the style dictionary to create the broad style column\n",
    "beer['broad_style'] = beer['style'].replace(styledict)"
   ]
  },
  {
   "cell_type": "markdown",
   "metadata": {
    "id": "9S_b4-TrpSok"
   },
   "source": [
    "---\n",
    "> ### Second Dataset\n",
    ">\n",
    "> [Beers, Breweries, and Beer Reviews](https://www.kaggle.com/ehallmar/beers-breweries-and-beer-reviews?select=beers.csv)\n",
    ">\n",
    "> Here we find information about the breweries. No data here will be used for modeling, however data about `state`,`city`, and `brewery_name` will be important elements to present in my results."
   ]
  },
  {
   "cell_type": "code",
   "execution_count": 8,
   "metadata": {
    "executionInfo": {
     "elapsed": 642,
     "status": "ok",
     "timestamp": 1642608284369,
     "user": {
      "displayName": "Steven Addison",
      "photoUrl": "https://lh3.googleusercontent.com/a-/AOh14Ggvrkb1asDESkHlRf75vzpzJZ5bM7lB3C8pEgr3uQ=s64",
      "userId": "18377436314153100010"
     },
     "user_tz": 480
    },
    "id": "iftZUvqdpSok"
   },
   "outputs": [],
   "source": [
    "# Reading in the data containing the breweries\n",
    "breweries = pd.read_csv('data/breweries.csv')"
   ]
  },
  {
   "cell_type": "code",
   "execution_count": 9,
   "metadata": {
    "executionInfo": {
     "elapsed": 88,
     "status": "ok",
     "timestamp": 1642608284371,
     "user": {
      "displayName": "Steven Addison",
      "photoUrl": "https://lh3.googleusercontent.com/a-/AOh14Ggvrkb1asDESkHlRf75vzpzJZ5bM7lB3C8pEgr3uQ=s64",
      "userId": "18377436314153100010"
     },
     "user_tz": 480
    },
    "id": "EiOXltuFpSol",
    "scrolled": true
   },
   "outputs": [],
   "source": [
    "# EDA on that data\n",
    "# eda(breweries)"
   ]
  },
  {
   "cell_type": "code",
   "execution_count": 10,
   "metadata": {
    "executionInfo": {
     "elapsed": 62,
     "status": "ok",
     "timestamp": 1642608284374,
     "user": {
      "displayName": "Steven Addison",
      "photoUrl": "https://lh3.googleusercontent.com/a-/AOh14Ggvrkb1asDESkHlRf75vzpzJZ5bM7lB3C8pEgr3uQ=s64",
      "userId": "18377436314153100010"
     },
     "user_tz": 480
    },
    "id": "NYIXVAFMpSol"
   },
   "outputs": [],
   "source": [
    "# Dropping irrelevant columns\n",
    "breweries = breweries.drop(columns=['notes'])\n",
    "\n",
    "# Renaming columns for consistency among all dataframes\n",
    "breweries = breweries.rename(columns={'id': 'brewery_id', 'name': 'brewery_name'})\n",
    "\n",
    "# Removing rows without state data\n",
    "beer = beer.dropna(subset=['state'])"
   ]
  },
  {
   "cell_type": "markdown",
   "metadata": {
    "id": "uYmjLVy1pSol"
   },
   "source": [
    "---\n",
    "> ### Third Dataset\n",
    ">\n",
    "> [Beers, Breweries, and Beer Reviews](https://www.kaggle.com/ehallmar/beers-breweries-and-beer-reviews?select=beers.csv)\n",
    ">\n",
    "> Finally, I load in my review data. This will provide my most important modeling feature."
   ]
  },
  {
   "cell_type": "code",
   "execution_count": 11,
   "metadata": {
    "executionInfo": {
     "elapsed": 29315,
     "status": "ok",
     "timestamp": 1642608313643,
     "user": {
      "displayName": "Steven Addison",
      "photoUrl": "https://lh3.googleusercontent.com/a-/AOh14Ggvrkb1asDESkHlRf75vzpzJZ5bM7lB3C8pEgr3uQ=s64",
      "userId": "18377436314153100010"
     },
     "user_tz": 480
    },
    "id": "Wwq_guh0pSom"
   },
   "outputs": [],
   "source": [
    "# Reading in the data containg the breweries\n",
    "reviews = pd.read_csv('data/reviews.csv')"
   ]
  },
  {
   "cell_type": "code",
   "execution_count": 12,
   "metadata": {
    "executionInfo": {
     "elapsed": 16,
     "status": "ok",
     "timestamp": 1642608313645,
     "user": {
      "displayName": "Steven Addison",
      "photoUrl": "https://lh3.googleusercontent.com/a-/AOh14Ggvrkb1asDESkHlRf75vzpzJZ5bM7lB3C8pEgr3uQ=s64",
      "userId": "18377436314153100010"
     },
     "user_tz": 480
    },
    "id": "mT929wjIpSom",
    "scrolled": true
   },
   "outputs": [],
   "source": [
    "# EDA on that data\n",
    "# eda(reviews)"
   ]
  },
  {
   "cell_type": "code",
   "execution_count": 13,
   "metadata": {
    "executionInfo": {
     "elapsed": 12807,
     "status": "ok",
     "timestamp": 1642608326767,
     "user": {
      "displayName": "Steven Addison",
      "photoUrl": "https://lh3.googleusercontent.com/a-/AOh14Ggvrkb1asDESkHlRf75vzpzJZ5bM7lB3C8pEgr3uQ=s64",
      "userId": "18377436314153100010"
     },
     "user_tz": 480
    },
    "id": "GFrh21WjpSom"
   },
   "outputs": [],
   "source": [
    "# Dropping irrelevant columns\n",
    "reviews = reviews.drop(columns=['date','look','smell','taste','feel','overall'])\n",
    "\n",
    "# Setting blank reviews as nan so they can be dropped\n",
    "reviews['text'] = reviews['text'].str.strip()\n",
    "reviews['text'] = reviews['text'].replace({\"\":np.nan,\"0%\":np.nan})\n",
    "\n",
    "# Dropping reviews without username and review text data\n",
    "reviews = reviews.dropna(subset=['username','text'])"
   ]
  },
  {
   "cell_type": "markdown",
   "metadata": {
    "id": "t3f3-yrhpSon"
   },
   "source": [
    "---"
   ]
  },
  {
   "cell_type": "markdown",
   "metadata": {
    "id": "TKWUT_nEpSon"
   },
   "source": [
    "## <a id=\"#Creating Final Database\">Creating Final Database</a>\n",
    "> Now that all my data is loaded and cleaned, it can be combined. Using `id` columns provided in each dataframe this does not prove to be too much of a hassle. Once merged I can then group every unique beer and conglomerate all of their reviews into individual documents. "
   ]
  },
  {
   "cell_type": "code",
   "execution_count": 14,
   "metadata": {
    "executionInfo": {
     "elapsed": 1066,
     "status": "ok",
     "timestamp": 1642608327830,
     "user": {
      "displayName": "Steven Addison",
      "photoUrl": "https://lh3.googleusercontent.com/a-/AOh14Ggvrkb1asDESkHlRf75vzpzJZ5bM7lB3C8pEgr3uQ=s64",
      "userId": "18377436314153100010"
     },
     "user_tz": 480
    },
    "id": "5lX01lXIpSon"
   },
   "outputs": [],
   "source": [
    "# Merging reviews into the beers bases on beer id\n",
    "beer_reviews = beer.merge(reviews, on=['beer_id'])"
   ]
  },
  {
   "cell_type": "code",
   "execution_count": 15,
   "metadata": {
    "executionInfo": {
     "elapsed": 1699,
     "status": "ok",
     "timestamp": 1642608329527,
     "user": {
      "displayName": "Steven Addison",
      "photoUrl": "https://lh3.googleusercontent.com/a-/AOh14Ggvrkb1asDESkHlRf75vzpzJZ5bM7lB3C8pEgr3uQ=s64",
      "userId": "18377436314153100010"
     },
     "user_tz": 480
    },
    "id": "MrhDviRjpSon"
   },
   "outputs": [],
   "source": [
    "# Merging breweries into the combined data\n",
    "plus_brew = beer_reviews.merge(breweries, on=['brewery_id'])"
   ]
  },
  {
   "cell_type": "code",
   "execution_count": 16,
   "metadata": {
    "executionInfo": {
     "elapsed": 1528,
     "status": "ok",
     "timestamp": 1642608331048,
     "user": {
      "displayName": "Steven Addison",
      "photoUrl": "https://lh3.googleusercontent.com/a-/AOh14Ggvrkb1asDESkHlRf75vzpzJZ5bM7lB3C8pEgr3uQ=s64",
      "userId": "18377436314153100010"
     },
     "user_tz": 480
    },
    "id": "gQvTVN2VpSop"
   },
   "outputs": [],
   "source": [
    "# Dropping duplicate column\n",
    "plus_brew = plus_brew.drop(columns=['state_x'])\n",
    "\n",
    "# Renaming column to reflect\n",
    "plus_brew = plus_brew.rename(columns={'state_y': 'state'})"
   ]
  },
  {
   "cell_type": "code",
   "execution_count": 17,
   "metadata": {
    "executionInfo": {
     "elapsed": 370,
     "status": "ok",
     "timestamp": 1642608331694,
     "user": {
      "displayName": "Steven Addison",
      "photoUrl": "https://lh3.googleusercontent.com/a-/AOh14Ggvrkb1asDESkHlRf75vzpzJZ5bM7lB3C8pEgr3uQ=s64",
      "userId": "18377436314153100010"
     },
     "user_tz": 480
    },
    "id": "ARYJWHI7pSoo"
   },
   "outputs": [
    {
     "data": {
      "text/html": [
       "<div>\n",
       "<style scoped>\n",
       "    .dataframe tbody tr th:only-of-type {\n",
       "        vertical-align: middle;\n",
       "    }\n",
       "\n",
       "    .dataframe tbody tr th {\n",
       "        vertical-align: top;\n",
       "    }\n",
       "\n",
       "    .dataframe thead th {\n",
       "        text-align: right;\n",
       "    }\n",
       "</style>\n",
       "<table border=\"1\" class=\"dataframe\">\n",
       "  <thead>\n",
       "    <tr style=\"text-align: right;\">\n",
       "      <th></th>\n",
       "      <th>beer_id</th>\n",
       "      <th>beer_name</th>\n",
       "      <th>brewery_id</th>\n",
       "      <th>style</th>\n",
       "      <th>availability</th>\n",
       "      <th>abv</th>\n",
       "      <th>retired</th>\n",
       "      <th>broad_style</th>\n",
       "      <th>username</th>\n",
       "      <th>text</th>\n",
       "      <th>score</th>\n",
       "      <th>brewery_name</th>\n",
       "      <th>city</th>\n",
       "      <th>state</th>\n",
       "      <th>country</th>\n",
       "      <th>types</th>\n",
       "    </tr>\n",
       "  </thead>\n",
       "  <tbody>\n",
       "    <tr>\n",
       "      <th>0</th>\n",
       "      <td>246438</td>\n",
       "      <td>Peaches-N-Cream</td>\n",
       "      <td>44617</td>\n",
       "      <td>American Cream Ale</td>\n",
       "      <td>Rotating</td>\n",
       "      <td>5.1</td>\n",
       "      <td>f</td>\n",
       "      <td>Cream Ale</td>\n",
       "      <td>rolltide8425</td>\n",
       "      <td>Exactly what it says it is</td>\n",
       "      <td>3.67</td>\n",
       "      <td>Mad Princes Brewing</td>\n",
       "      <td>Doylestown</td>\n",
       "      <td>PA</td>\n",
       "      <td>US</td>\n",
       "      <td>Brewery, Bar, Beer-to-go</td>\n",
       "    </tr>\n",
       "    <tr>\n",
       "      <th>307</th>\n",
       "      <td>12661</td>\n",
       "      <td>Lava Rock Porter</td>\n",
       "      <td>1345</td>\n",
       "      <td>American Porter</td>\n",
       "      <td>Year-round</td>\n",
       "      <td>7.0</td>\n",
       "      <td>f</td>\n",
       "      <td>Porter</td>\n",
       "      <td>DrMullet</td>\n",
       "      <td>Pours a very dark brown with moderate head and...</td>\n",
       "      <td>3.50</td>\n",
       "      <td>Dick's Brewing Company</td>\n",
       "      <td>Centralia</td>\n",
       "      <td>WA</td>\n",
       "      <td>US</td>\n",
       "      <td>Brewery, Bar, Eatery</td>\n",
       "    </tr>\n",
       "    <tr>\n",
       "      <th>308</th>\n",
       "      <td>12661</td>\n",
       "      <td>Lava Rock Porter</td>\n",
       "      <td>1345</td>\n",
       "      <td>American Porter</td>\n",
       "      <td>Year-round</td>\n",
       "      <td>7.0</td>\n",
       "      <td>f</td>\n",
       "      <td>Porter</td>\n",
       "      <td>Karibourgeois</td>\n",
       "      <td>Dark brown pour with a tan head. Aroma of choc...</td>\n",
       "      <td>3.44</td>\n",
       "      <td>Dick's Brewing Company</td>\n",
       "      <td>Centralia</td>\n",
       "      <td>WA</td>\n",
       "      <td>US</td>\n",
       "      <td>Brewery, Bar, Eatery</td>\n",
       "    </tr>\n",
       "    <tr>\n",
       "      <th>309</th>\n",
       "      <td>12661</td>\n",
       "      <td>Lava Rock Porter</td>\n",
       "      <td>1345</td>\n",
       "      <td>American Porter</td>\n",
       "      <td>Year-round</td>\n",
       "      <td>7.0</td>\n",
       "      <td>f</td>\n",
       "      <td>Porter</td>\n",
       "      <td>Jeffsta1</td>\n",
       "      <td>Beautiful dark brown/black, with a pretty, pal...</td>\n",
       "      <td>3.44</td>\n",
       "      <td>Dick's Brewing Company</td>\n",
       "      <td>Centralia</td>\n",
       "      <td>WA</td>\n",
       "      <td>US</td>\n",
       "      <td>Brewery, Bar, Eatery</td>\n",
       "    </tr>\n",
       "    <tr>\n",
       "      <th>310</th>\n",
       "      <td>12661</td>\n",
       "      <td>Lava Rock Porter</td>\n",
       "      <td>1345</td>\n",
       "      <td>American Porter</td>\n",
       "      <td>Year-round</td>\n",
       "      <td>7.0</td>\n",
       "      <td>f</td>\n",
       "      <td>Porter</td>\n",
       "      <td>harrymel</td>\n",
       "      <td>Reviewed 06/23/10 poured from bottle to new be...</td>\n",
       "      <td>3.82</td>\n",
       "      <td>Dick's Brewing Company</td>\n",
       "      <td>Centralia</td>\n",
       "      <td>WA</td>\n",
       "      <td>US</td>\n",
       "      <td>Brewery, Bar, Eatery</td>\n",
       "    </tr>\n",
       "  </tbody>\n",
       "</table>\n",
       "</div>"
      ],
      "text/plain": [
       "     beer_id         beer_name  brewery_id               style availability  \\\n",
       "0     246438   Peaches-N-Cream       44617  American Cream Ale     Rotating   \n",
       "307    12661  Lava Rock Porter        1345     American Porter   Year-round   \n",
       "308    12661  Lava Rock Porter        1345     American Porter   Year-round   \n",
       "309    12661  Lava Rock Porter        1345     American Porter   Year-round   \n",
       "310    12661  Lava Rock Porter        1345     American Porter   Year-round   \n",
       "\n",
       "     abv retired broad_style       username  \\\n",
       "0    5.1       f   Cream Ale   rolltide8425   \n",
       "307  7.0       f      Porter       DrMullet   \n",
       "308  7.0       f      Porter  Karibourgeois   \n",
       "309  7.0       f      Porter       Jeffsta1   \n",
       "310  7.0       f      Porter       harrymel   \n",
       "\n",
       "                                                  text  score  \\\n",
       "0                           Exactly what it says it is   3.67   \n",
       "307  Pours a very dark brown with moderate head and...   3.50   \n",
       "308  Dark brown pour with a tan head. Aroma of choc...   3.44   \n",
       "309  Beautiful dark brown/black, with a pretty, pal...   3.44   \n",
       "310  Reviewed 06/23/10 poured from bottle to new be...   3.82   \n",
       "\n",
       "               brewery_name        city state country  \\\n",
       "0       Mad Princes Brewing  Doylestown    PA      US   \n",
       "307  Dick's Brewing Company   Centralia    WA      US   \n",
       "308  Dick's Brewing Company   Centralia    WA      US   \n",
       "309  Dick's Brewing Company   Centralia    WA      US   \n",
       "310  Dick's Brewing Company   Centralia    WA      US   \n",
       "\n",
       "                        types  \n",
       "0    Brewery, Bar, Beer-to-go  \n",
       "307      Brewery, Bar, Eatery  \n",
       "308      Brewery, Bar, Eatery  \n",
       "309      Brewery, Bar, Eatery  \n",
       "310      Brewery, Bar, Eatery  "
      ]
     },
     "execution_count": 17,
     "metadata": {},
     "output_type": "execute_result"
    }
   ],
   "source": [
    "# Selecting only available US beers\n",
    "df = plus_brew.loc[(plus_brew['country'] == 'US') & (plus_brew['retired'] == 'f')]\n",
    "\n",
    "# Dropping duplicates\n",
    "df = df.drop_duplicates()\n",
    "\n",
    "# Dropping rows with missing ibu data \n",
    "df = df.dropna(subset=['abv'])\n",
    "\n",
    "# Sanity check of the data\n",
    "df.head()"
   ]
  },
  {
   "cell_type": "code",
   "execution_count": 18,
   "metadata": {
    "colab": {
     "base_uri": "https://localhost:8080/",
     "height": 468
    },
    "executionInfo": {
     "elapsed": 18,
     "status": "ok",
     "timestamp": 1642608336839,
     "user": {
      "displayName": "Steven Addison",
      "photoUrl": "https://lh3.googleusercontent.com/a-/AOh14Ggvrkb1asDESkHlRf75vzpzJZ5bM7lB3C8pEgr3uQ=s64",
      "userId": "18377436314153100010"
     },
     "user_tz": 480
    },
    "id": "yrTxYGVrpSoo",
    "outputId": "b1f37090-4be4-49f2-fd92-ce932943e8cc",
    "scrolled": false
   },
   "outputs": [
    {
     "data": {
      "text/html": [
       "<div>\n",
       "<style scoped>\n",
       "    .dataframe tbody tr th:only-of-type {\n",
       "        vertical-align: middle;\n",
       "    }\n",
       "\n",
       "    .dataframe tbody tr th {\n",
       "        vertical-align: top;\n",
       "    }\n",
       "\n",
       "    .dataframe thead th {\n",
       "        text-align: right;\n",
       "    }\n",
       "</style>\n",
       "<table border=\"1\" class=\"dataframe\">\n",
       "  <thead>\n",
       "    <tr style=\"text-align: right;\">\n",
       "      <th></th>\n",
       "      <th>beer_id</th>\n",
       "      <th>beer_name</th>\n",
       "      <th>brewery_id</th>\n",
       "      <th>style</th>\n",
       "      <th>availability</th>\n",
       "      <th>abv</th>\n",
       "      <th>retired</th>\n",
       "      <th>broad_style</th>\n",
       "      <th>username</th>\n",
       "      <th>text</th>\n",
       "      <th>score</th>\n",
       "      <th>brewery_name</th>\n",
       "      <th>city</th>\n",
       "      <th>state</th>\n",
       "      <th>country</th>\n",
       "      <th>types</th>\n",
       "    </tr>\n",
       "  </thead>\n",
       "  <tbody>\n",
       "    <tr>\n",
       "      <th>87954</th>\n",
       "      <td>91469</td>\n",
       "      <td>IPA</td>\n",
       "      <td>29573</td>\n",
       "      <td>American IPA</td>\n",
       "      <td>Year-round</td>\n",
       "      <td>7.2</td>\n",
       "      <td>f</td>\n",
       "      <td>India Pale Ale</td>\n",
       "      <td>mjbachma</td>\n",
       "      <td>Classic bottle and labeling, titled by style, ...</td>\n",
       "      <td>3.94</td>\n",
       "      <td>pFriem Family Brewers</td>\n",
       "      <td>Hood River</td>\n",
       "      <td>OR</td>\n",
       "      <td>US</td>\n",
       "      <td>Brewery, Bar, Eatery, Beer-to-go</td>\n",
       "    </tr>\n",
       "    <tr>\n",
       "      <th>87955</th>\n",
       "      <td>91469</td>\n",
       "      <td>IPA</td>\n",
       "      <td>29573</td>\n",
       "      <td>American IPA</td>\n",
       "      <td>Year-round</td>\n",
       "      <td>7.2</td>\n",
       "      <td>f</td>\n",
       "      <td>India Pale Ale</td>\n",
       "      <td>CraftBeerRunner</td>\n",
       "      <td>Sweet Jammy fruity and bright. Drank fresh whi...</td>\n",
       "      <td>4.00</td>\n",
       "      <td>pFriem Family Brewers</td>\n",
       "      <td>Hood River</td>\n",
       "      <td>OR</td>\n",
       "      <td>US</td>\n",
       "      <td>Brewery, Bar, Eatery, Beer-to-go</td>\n",
       "    </tr>\n",
       "    <tr>\n",
       "      <th>87956</th>\n",
       "      <td>91469</td>\n",
       "      <td>IPA</td>\n",
       "      <td>29573</td>\n",
       "      <td>American IPA</td>\n",
       "      <td>Year-round</td>\n",
       "      <td>7.2</td>\n",
       "      <td>f</td>\n",
       "      <td>India Pale Ale</td>\n",
       "      <td>Hopheadjeffery</td>\n",
       "      <td>Tasted in a Spiegelau IPA glass from a bottle ...</td>\n",
       "      <td>4.04</td>\n",
       "      <td>pFriem Family Brewers</td>\n",
       "      <td>Hood River</td>\n",
       "      <td>OR</td>\n",
       "      <td>US</td>\n",
       "      <td>Brewery, Bar, Eatery, Beer-to-go</td>\n",
       "    </tr>\n",
       "    <tr>\n",
       "      <th>87957</th>\n",
       "      <td>91469</td>\n",
       "      <td>IPA</td>\n",
       "      <td>29573</td>\n",
       "      <td>American IPA</td>\n",
       "      <td>Year-round</td>\n",
       "      <td>7.2</td>\n",
       "      <td>f</td>\n",
       "      <td>India Pale Ale</td>\n",
       "      <td>BeerAndGasMasks</td>\n",
       "      <td>From the bottle, it pours a nice lightly hazy ...</td>\n",
       "      <td>4.00</td>\n",
       "      <td>pFriem Family Brewers</td>\n",
       "      <td>Hood River</td>\n",
       "      <td>OR</td>\n",
       "      <td>US</td>\n",
       "      <td>Brewery, Bar, Eatery, Beer-to-go</td>\n",
       "    </tr>\n",
       "    <tr>\n",
       "      <th>87958</th>\n",
       "      <td>91469</td>\n",
       "      <td>IPA</td>\n",
       "      <td>29573</td>\n",
       "      <td>American IPA</td>\n",
       "      <td>Year-round</td>\n",
       "      <td>7.2</td>\n",
       "      <td>f</td>\n",
       "      <td>India Pale Ale</td>\n",
       "      <td>NickSMpls</td>\n",
       "      <td>Can these guys do anything that's not great? O...</td>\n",
       "      <td>4.18</td>\n",
       "      <td>pFriem Family Brewers</td>\n",
       "      <td>Hood River</td>\n",
       "      <td>OR</td>\n",
       "      <td>US</td>\n",
       "      <td>Brewery, Bar, Eatery, Beer-to-go</td>\n",
       "    </tr>\n",
       "    <tr>\n",
       "      <th>...</th>\n",
       "      <td>...</td>\n",
       "      <td>...</td>\n",
       "      <td>...</td>\n",
       "      <td>...</td>\n",
       "      <td>...</td>\n",
       "      <td>...</td>\n",
       "      <td>...</td>\n",
       "      <td>...</td>\n",
       "      <td>...</td>\n",
       "      <td>...</td>\n",
       "      <td>...</td>\n",
       "      <td>...</td>\n",
       "      <td>...</td>\n",
       "      <td>...</td>\n",
       "      <td>...</td>\n",
       "      <td>...</td>\n",
       "    </tr>\n",
       "    <tr>\n",
       "      <th>2002145</th>\n",
       "      <td>202279</td>\n",
       "      <td>IPA</td>\n",
       "      <td>24952</td>\n",
       "      <td>American IPA</td>\n",
       "      <td>Rotating</td>\n",
       "      <td>6.5</td>\n",
       "      <td>f</td>\n",
       "      <td>India Pale Ale</td>\n",
       "      <td>kojevergas</td>\n",
       "      <td>On-draught at the bar in Sonoma. $5 per 16 oz ...</td>\n",
       "      <td>2.82</td>\n",
       "      <td>Hopmonk Tavern</td>\n",
       "      <td>Sonoma</td>\n",
       "      <td>CA</td>\n",
       "      <td>US</td>\n",
       "      <td>Brewery, Bar, Eatery</td>\n",
       "    </tr>\n",
       "    <tr>\n",
       "      <th>2002153</th>\n",
       "      <td>349972</td>\n",
       "      <td>IPA</td>\n",
       "      <td>49155</td>\n",
       "      <td>American IPA</td>\n",
       "      <td>Year-round</td>\n",
       "      <td>6.5</td>\n",
       "      <td>f</td>\n",
       "      <td>India Pale Ale</td>\n",
       "      <td>brett808ola</td>\n",
       "      <td>Smells very fruity, great for tropical weather...</td>\n",
       "      <td>4.98</td>\n",
       "      <td>Hawaiian Ola Brewing Corporation</td>\n",
       "      <td>Kailua Kona</td>\n",
       "      <td>HI</td>\n",
       "      <td>US</td>\n",
       "      <td>Brewery, Bar, Beer-to-go</td>\n",
       "    </tr>\n",
       "    <tr>\n",
       "      <th>2002260</th>\n",
       "      <td>275547</td>\n",
       "      <td>IPA</td>\n",
       "      <td>48593</td>\n",
       "      <td>American IPA</td>\n",
       "      <td>Year-round</td>\n",
       "      <td>6.6</td>\n",
       "      <td>f</td>\n",
       "      <td>India Pale Ale</td>\n",
       "      <td>JacobusFavier23</td>\n",
       "      <td>L- Straw colored IPA with a slight amber tint....</td>\n",
       "      <td>3.66</td>\n",
       "      <td>Haint Blue Brewery</td>\n",
       "      <td>Mobile</td>\n",
       "      <td>AL</td>\n",
       "      <td>US</td>\n",
       "      <td>Brewery</td>\n",
       "    </tr>\n",
       "    <tr>\n",
       "      <th>2002326</th>\n",
       "      <td>322903</td>\n",
       "      <td>IPA</td>\n",
       "      <td>47202</td>\n",
       "      <td>American IPA</td>\n",
       "      <td>Year-round</td>\n",
       "      <td>5.9</td>\n",
       "      <td>f</td>\n",
       "      <td>India Pale Ale</td>\n",
       "      <td>stevoj</td>\n",
       "      <td>Bottle from BevMo. Gusher at opening. Dark gol...</td>\n",
       "      <td>3.55</td>\n",
       "      <td>Dagny Brewing Company</td>\n",
       "      <td>Modesto</td>\n",
       "      <td>CA</td>\n",
       "      <td>US</td>\n",
       "      <td>Brewery</td>\n",
       "    </tr>\n",
       "    <tr>\n",
       "      <th>2002331</th>\n",
       "      <td>359825</td>\n",
       "      <td>IPA</td>\n",
       "      <td>53462</td>\n",
       "      <td>American IPA</td>\n",
       "      <td>Year-round</td>\n",
       "      <td>7.0</td>\n",
       "      <td>f</td>\n",
       "      <td>India Pale Ale</td>\n",
       "      <td>StonedTrippin</td>\n",
       "      <td>a passable ipa for a rather new brewery, but w...</td>\n",
       "      <td>3.37</td>\n",
       "      <td>All Sevens Brewing</td>\n",
       "      <td>Asheville</td>\n",
       "      <td>NC</td>\n",
       "      <td>US</td>\n",
       "      <td>Brewery, Beer-to-go</td>\n",
       "    </tr>\n",
       "  </tbody>\n",
       "</table>\n",
       "<p>8074 rows × 16 columns</p>\n",
       "</div>"
      ],
      "text/plain": [
       "         beer_id beer_name  brewery_id         style availability  abv  \\\n",
       "87954      91469       IPA       29573  American IPA   Year-round  7.2   \n",
       "87955      91469       IPA       29573  American IPA   Year-round  7.2   \n",
       "87956      91469       IPA       29573  American IPA   Year-round  7.2   \n",
       "87957      91469       IPA       29573  American IPA   Year-round  7.2   \n",
       "87958      91469       IPA       29573  American IPA   Year-round  7.2   \n",
       "...          ...       ...         ...           ...          ...  ...   \n",
       "2002145   202279       IPA       24952  American IPA     Rotating  6.5   \n",
       "2002153   349972       IPA       49155  American IPA   Year-round  6.5   \n",
       "2002260   275547       IPA       48593  American IPA   Year-round  6.6   \n",
       "2002326   322903       IPA       47202  American IPA   Year-round  5.9   \n",
       "2002331   359825       IPA       53462  American IPA   Year-round  7.0   \n",
       "\n",
       "        retired     broad_style         username  \\\n",
       "87954         f  India Pale Ale         mjbachma   \n",
       "87955         f  India Pale Ale  CraftBeerRunner   \n",
       "87956         f  India Pale Ale   Hopheadjeffery   \n",
       "87957         f  India Pale Ale  BeerAndGasMasks   \n",
       "87958         f  India Pale Ale        NickSMpls   \n",
       "...         ...             ...              ...   \n",
       "2002145       f  India Pale Ale       kojevergas   \n",
       "2002153       f  India Pale Ale      brett808ola   \n",
       "2002260       f  India Pale Ale  JacobusFavier23   \n",
       "2002326       f  India Pale Ale           stevoj   \n",
       "2002331       f  India Pale Ale    StonedTrippin   \n",
       "\n",
       "                                                      text  score  \\\n",
       "87954    Classic bottle and labeling, titled by style, ...   3.94   \n",
       "87955    Sweet Jammy fruity and bright. Drank fresh whi...   4.00   \n",
       "87956    Tasted in a Spiegelau IPA glass from a bottle ...   4.04   \n",
       "87957    From the bottle, it pours a nice lightly hazy ...   4.00   \n",
       "87958    Can these guys do anything that's not great? O...   4.18   \n",
       "...                                                    ...    ...   \n",
       "2002145  On-draught at the bar in Sonoma. $5 per 16 oz ...   2.82   \n",
       "2002153  Smells very fruity, great for tropical weather...   4.98   \n",
       "2002260  L- Straw colored IPA with a slight amber tint....   3.66   \n",
       "2002326  Bottle from BevMo. Gusher at opening. Dark gol...   3.55   \n",
       "2002331  a passable ipa for a rather new brewery, but w...   3.37   \n",
       "\n",
       "                             brewery_name         city state country  \\\n",
       "87954               pFriem Family Brewers   Hood River    OR      US   \n",
       "87955               pFriem Family Brewers   Hood River    OR      US   \n",
       "87956               pFriem Family Brewers   Hood River    OR      US   \n",
       "87957               pFriem Family Brewers   Hood River    OR      US   \n",
       "87958               pFriem Family Brewers   Hood River    OR      US   \n",
       "...                                   ...          ...   ...     ...   \n",
       "2002145                    Hopmonk Tavern       Sonoma    CA      US   \n",
       "2002153  Hawaiian Ola Brewing Corporation  Kailua Kona    HI      US   \n",
       "2002260                Haint Blue Brewery       Mobile    AL      US   \n",
       "2002326             Dagny Brewing Company      Modesto    CA      US   \n",
       "2002331                All Sevens Brewing    Asheville    NC      US   \n",
       "\n",
       "                                    types  \n",
       "87954    Brewery, Bar, Eatery, Beer-to-go  \n",
       "87955    Brewery, Bar, Eatery, Beer-to-go  \n",
       "87956    Brewery, Bar, Eatery, Beer-to-go  \n",
       "87957    Brewery, Bar, Eatery, Beer-to-go  \n",
       "87958    Brewery, Bar, Eatery, Beer-to-go  \n",
       "...                                   ...  \n",
       "2002145              Brewery, Bar, Eatery  \n",
       "2002153          Brewery, Bar, Beer-to-go  \n",
       "2002260                           Brewery  \n",
       "2002326                           Brewery  \n",
       "2002331               Brewery, Beer-to-go  \n",
       "\n",
       "[8074 rows x 16 columns]"
      ]
     },
     "execution_count": 18,
     "metadata": {},
     "output_type": "execute_result"
    }
   ],
   "source": [
    "# Checking to see if some of these beers are actually named IPA and looking at each brewery's website I can confirm they are not creative people\n",
    "df.loc[df['beer_name'] == 'IPA']"
   ]
  },
  {
   "cell_type": "code",
   "execution_count": 20,
   "metadata": {
    "executionInfo": {
     "elapsed": 696,
     "status": "ok",
     "timestamp": 1642608338945,
     "user": {
      "displayName": "Steven Addison",
      "photoUrl": "https://lh3.googleusercontent.com/a-/AOh14Ggvrkb1asDESkHlRf75vzpzJZ5bM7lB3C8pEgr3uQ=s64",
      "userId": "18377436314153100010"
     },
     "user_tz": 480
    },
    "id": "5oiz4Vmw-b_P"
   },
   "outputs": [
    {
     "data": {
      "text/html": [
       "<div>\n",
       "<style scoped>\n",
       "    .dataframe tbody tr th:only-of-type {\n",
       "        vertical-align: middle;\n",
       "    }\n",
       "\n",
       "    .dataframe tbody tr th {\n",
       "        vertical-align: top;\n",
       "    }\n",
       "\n",
       "    .dataframe thead th {\n",
       "        text-align: right;\n",
       "    }\n",
       "</style>\n",
       "<table border=\"1\" class=\"dataframe\">\n",
       "  <thead>\n",
       "    <tr style=\"text-align: right;\">\n",
       "      <th></th>\n",
       "      <th>text</th>\n",
       "      <th>score</th>\n",
       "      <th>beer_name</th>\n",
       "      <th>style</th>\n",
       "      <th>broad_style</th>\n",
       "      <th>abv</th>\n",
       "      <th>brewery_name</th>\n",
       "      <th>city</th>\n",
       "      <th>state</th>\n",
       "    </tr>\n",
       "    <tr>\n",
       "      <th>beer_id</th>\n",
       "      <th></th>\n",
       "      <th></th>\n",
       "      <th></th>\n",
       "      <th></th>\n",
       "      <th></th>\n",
       "      <th></th>\n",
       "      <th></th>\n",
       "      <th></th>\n",
       "      <th></th>\n",
       "    </tr>\n",
       "  </thead>\n",
       "  <tbody>\n",
       "    <tr>\n",
       "      <th>5</th>\n",
       "      <td>Beautiful beer. Light and tasty. I travel all ...</td>\n",
       "      <td>3.396390</td>\n",
       "      <td>Amber</td>\n",
       "      <td>Vienna Lager</td>\n",
       "      <td>Dark Lager</td>\n",
       "      <td>4.5</td>\n",
       "      <td>Abita Brewing Co.</td>\n",
       "      <td>Abita Springs</td>\n",
       "      <td>LA</td>\n",
       "    </tr>\n",
       "    <tr>\n",
       "      <th>6</th>\n",
       "      <td>great brown ale...one of my favorites. Might h...</td>\n",
       "      <td>3.646446</td>\n",
       "      <td>Turbodog</td>\n",
       "      <td>English Brown Ale</td>\n",
       "      <td>Brown Ale</td>\n",
       "      <td>5.6</td>\n",
       "      <td>Abita Brewing Co.</td>\n",
       "      <td>Abita Springs</td>\n",
       "      <td>LA</td>\n",
       "    </tr>\n",
       "    <tr>\n",
       "      <th>7</th>\n",
       "      <td>The labeling with the purple haze guy with the...</td>\n",
       "      <td>3.243842</td>\n",
       "      <td>Purple Haze</td>\n",
       "      <td>Fruit and Field Beer</td>\n",
       "      <td>Fruit and Field Beer</td>\n",
       "      <td>4.2</td>\n",
       "      <td>Abita Brewing Co.</td>\n",
       "      <td>Abita Springs</td>\n",
       "      <td>LA</td>\n",
       "    </tr>\n",
       "    <tr>\n",
       "      <th>9</th>\n",
       "      <td>Poured chilled in large glass stein. A: cloudy...</td>\n",
       "      <td>3.087823</td>\n",
       "      <td>Golden</td>\n",
       "      <td>American Lager</td>\n",
       "      <td>Pale Lager</td>\n",
       "      <td>4.2</td>\n",
       "      <td>Abita Brewing Co.</td>\n",
       "      <td>Abita Springs</td>\n",
       "      <td>LA</td>\n",
       "    </tr>\n",
       "    <tr>\n",
       "      <th>10</th>\n",
       "      <td>Pours slightly hazy deep amber/brown. 1 finger...</td>\n",
       "      <td>3.794484</td>\n",
       "      <td>Dubbel Ale</td>\n",
       "      <td>Belgian Dubbel</td>\n",
       "      <td>Dark Ale</td>\n",
       "      <td>7.0</td>\n",
       "      <td>Allagash Brewing Company</td>\n",
       "      <td>Portland</td>\n",
       "      <td>ME</td>\n",
       "    </tr>\n",
       "  </tbody>\n",
       "</table>\n",
       "</div>"
      ],
      "text/plain": [
       "                                                      text     score  \\\n",
       "beer_id                                                                \n",
       "5        Beautiful beer. Light and tasty. I travel all ...  3.396390   \n",
       "6        great brown ale...one of my favorites. Might h...  3.646446   \n",
       "7        The labeling with the purple haze guy with the...  3.243842   \n",
       "9        Poured chilled in large glass stein. A: cloudy...  3.087823   \n",
       "10       Pours slightly hazy deep amber/brown. 1 finger...  3.794484   \n",
       "\n",
       "           beer_name                 style           broad_style  abv  \\\n",
       "beer_id                                                                 \n",
       "5              Amber          Vienna Lager            Dark Lager  4.5   \n",
       "6           Turbodog     English Brown Ale             Brown Ale  5.6   \n",
       "7        Purple Haze  Fruit and Field Beer  Fruit and Field Beer  4.2   \n",
       "9             Golden        American Lager            Pale Lager  4.2   \n",
       "10        Dubbel Ale        Belgian Dubbel              Dark Ale  7.0   \n",
       "\n",
       "                     brewery_name           city state  \n",
       "beer_id                                                 \n",
       "5               Abita Brewing Co.  Abita Springs    LA  \n",
       "6               Abita Brewing Co.  Abita Springs    LA  \n",
       "7               Abita Brewing Co.  Abita Springs    LA  \n",
       "9               Abita Brewing Co.  Abita Springs    LA  \n",
       "10       Allagash Brewing Company       Portland    ME  "
      ]
     },
     "execution_count": 20,
     "metadata": {},
     "output_type": "execute_result"
    }
   ],
   "source": [
    "# Creating a dataframe grouped by beer for content-based recommendations\n",
    "cont_df = df.groupby(['beer_id'], as_index = False).agg({'text':' '.join, 'score':'mean','beer_id':'first',\n",
    "                                                         'beer_name':'first','style':'first','broad_style':'first',\n",
    "                                                         'abv':'first','brewery_name':'first','city':'first',\n",
    "                                                         'state':'first'})\n",
    "\n",
    "# Setting the index to beer's unique ID\n",
    "cont_df = cont_df.set_index('beer_id')\n",
    "\n",
    "# Sanity check of the data\n",
    "cont_df.head()"
   ]
  },
  {
   "cell_type": "code",
   "execution_count": 37,
   "metadata": {
    "scrolled": false
   },
   "outputs": [
    {
     "data": {
      "image/png": "[encoded data removed]",
      "text/plain": [
       "<Figure size 4500x3000 with 1 Axes>"
      ]
     },
     "metadata": {
      "needs_background": "light"
     },
     "output_type": "display_data"
    }
   ],
   "source": [
    "# Plotting the top ten styles\n",
    "plt.figure(figsize=(15,10), dpi=300)\n",
    "ax = sns.countplot(x = 'broad_style', data=cont_df, palette='rocket_r', \n",
    "                   order=cont_df['broad_style'].value_counts().index[:10])\n",
    "plt.title(\"Top Beer Styles\", fontsize=20)\n",
    "plt.xlabel(\"Style\", fontsize=16)\n",
    "plt.ylabel(\"Count\", fontsize=16)\n",
    "plt.xticks(fontsize=12);"
   ]
  },
  {
   "cell_type": "markdown",
   "metadata": {},
   "source": [
    "## <a id=\"#Text Preprocessing with Texthero\">Text Preprocessing with Texthero</a> "
   ]
  },
  {
   "cell_type": "markdown",
   "metadata": {},
   "source": [
    "> Knowing I wanted to use NLP in my project, I set out to do some research. After reading [several](https://towardsdatascience.com/how-to-vectorize-text-in-dataframes-for-nlp-tasks-3-simple-techniques-82925a5600db)[different](https://towardsdatascience.com/try-texthero-the-absolute-simplest-way-to-clean-and-analyze-text-in-pandas-6db86ed14272)[articles](https://elitedatascience.com/python-nlp-libraries) on how to clean and analyze text data I decided to use [Texthero](https://texthero.org/) for my review preprocessing. Combining elements of spaCy and NLTK, along with its simple to use all-in-one cleaning pipeline, it provided to be the most logical choice of tool. [documentation](https://texthero.org/docs/api-preprocessing) can be found here."
   ]
  },
  {
   "cell_type": "code",
   "execution_count": null,
   "metadata": {
    "executionInfo": {
     "elapsed": 2018,
     "status": "ok",
     "timestamp": 1642608340958,
     "user": {
      "displayName": "Steven Addison",
      "photoUrl": "https://lh3.googleusercontent.com/a-/AOh14Ggvrkb1asDESkHlRf75vzpzJZ5bM7lB3C8pEgr3uQ=s64",
      "userId": "18377436314153100010"
     },
     "user_tz": 480
    },
    "id": "mfp8bHSspSoq"
   },
   "outputs": [],
   "source": [
    "# Using Texthero's built in text cleaning pipeline\n",
    "cont_df['clean_text'] = hero.clean(cont_df['text'])"
   ]
  },
  {
   "cell_type": "code",
   "execution_count": null,
   "metadata": {
    "executionInfo": {
     "elapsed": 11066,
     "status": "ok",
     "timestamp": 1642608352020,
     "user": {
      "displayName": "Steven Addison",
      "photoUrl": "https://lh3.googleusercontent.com/a-/AOh14Ggvrkb1asDESkHlRf75vzpzJZ5bM7lB3C8pEgr3uQ=s64",
      "userId": "18377436314153100010"
     },
     "user_tz": 480
    },
    "id": "xzjTQPIOpSoq"
   },
   "outputs": [],
   "source": [
    "# Stemming the text for modeling\n",
    "cont_df['clean_text'] = hero.stem(cont_df['clean_text'])"
   ]
  },
  {
   "cell_type": "code",
   "execution_count": null,
   "metadata": {
    "scrolled": true
   },
   "outputs": [],
   "source": [
    "# Dropping irelevant columns \n",
    "cont_df = cont_df.drop(columns=['text'])"
   ]
  },
  {
   "cell_type": "code",
   "execution_count": null,
   "metadata": {},
   "outputs": [],
   "source": [
    "# Sanity check of the data\n",
    "cont_df.head()"
   ]
  },
  {
   "cell_type": "code",
   "execution_count": null,
   "metadata": {},
   "outputs": [],
   "source": [
    "# Saving off final cleaned dataset for use in the Streamlit App\n",
    "# cont_df.to_csv('data/cont_df.csv', index_label = 'beer_id')"
   ]
  },
  {
   "cell_type": "code",
   "execution_count": null,
   "metadata": {
    "colab": {
     "base_uri": "https://localhost:8080/"
    },
    "executionInfo": {
     "elapsed": 2503,
     "status": "ok",
     "timestamp": 1642608354515,
     "user": {
      "displayName": "Steven Addison",
      "photoUrl": "https://lh3.googleusercontent.com/a-/AOh14Ggvrkb1asDESkHlRf75vzpzJZ5bM7lB3C8pEgr3uQ=s64",
      "userId": "18377436314153100010"
     },
     "user_tz": 480
    },
    "id": "WNjb2xBiY3iP",
    "outputId": "07fb6f28-5475-4bb0-e3cc-b6c94d66c43a"
   },
   "outputs": [],
   "source": [
    "# Creating a vectorizer to transform the data with 300 features and a range of unigrams to trigrams\n",
    "tf = TfidfVectorizer(max_features=300, ngram_range=(1,3))\n",
    "\n",
    "# Fitting and transforming the clean text data \n",
    "dtm = tf.fit_transform(cont_df['clean_text'])\n",
    "\n",
    "# Creating a document-term matrix\n",
    "dtm = pd.DataFrame(dtm.todense(), columns=tf.get_feature_names(), index = cont_df.index)"
   ]
  },
  {
   "cell_type": "code",
   "execution_count": null,
   "metadata": {},
   "outputs": [],
   "source": [
    "# Sanity check of the data\n",
    "dtm.head()"
   ]
  },
  {
   "cell_type": "markdown",
   "metadata": {},
   "source": [
    "# <a href=\"#Modeling\">Modeling</a>\n",
    "> To model this data I start with "
   ]
  },
  {
   "cell_type": "code",
   "execution_count": null,
   "metadata": {
    "executionInfo": {
     "elapsed": 437,
     "status": "ok",
     "timestamp": 1642608354944,
     "user": {
      "displayName": "Steven Addison",
      "photoUrl": "https://lh3.googleusercontent.com/a-/AOh14Ggvrkb1asDESkHlRf75vzpzJZ5bM7lB3C8pEgr3uQ=s64",
      "userId": "18377436314153100010"
     },
     "user_tz": 480
    },
    "id": "LXwiHz5_KisS"
   },
   "outputs": [],
   "source": [
    "# Merging the document-term matrix back into the content dataframe\n",
    "model_df = cont_df.merge(dtm, left_index=True, right_index=True)\n",
    "\n",
    "# Renaming columns with the same name\n",
    "model_df = model_df.rename(columns={'style_x':'style','abv_x':'abv'})\n",
    "\n",
    "# Dropping irrelevant columns\n",
    "model_df = model_df.drop(columns=['beer_id','style','beer_name','brewery_name','city','state','clean_text'])"
   ]
  },
  {
   "cell_type": "code",
   "execution_count": null,
   "metadata": {
    "executionInfo": {
     "elapsed": 24,
     "status": "ok",
     "timestamp": 1642608354945,
     "user": {
      "displayName": "Steven Addison",
      "photoUrl": "https://lh3.googleusercontent.com/a-/AOh14Ggvrkb1asDESkHlRf75vzpzJZ5bM7lB3C8pEgr3uQ=s64",
      "userId": "18377436314153100010"
     },
     "user_tz": 480
    },
    "id": "sJgT87QUpSoq"
   },
   "outputs": [],
   "source": [
    "# Creating a dataframe to call my results from\n",
    "result_df = cont_df[['beer_name','style','brewery_name','city','state']]\n",
    "\n",
    "# Making the column names pretty\n",
    "result_df = result_df.rename(columns={'beer_name':'Name','style':'Style',\n",
    "                                      'brewery_name':'Brewery','city':'City',\n",
    "                                      'state':'State'})"
   ]
  },
  {
   "cell_type": "code",
   "execution_count": null,
   "metadata": {
    "colab": {
     "base_uri": "https://localhost:8080/",
     "height": 383
    },
    "executionInfo": {
     "elapsed": 13,
     "status": "ok",
     "timestamp": 1642608355639,
     "user": {
      "displayName": "Steven Addison",
      "photoUrl": "https://lh3.googleusercontent.com/a-/AOh14Ggvrkb1asDESkHlRf75vzpzJZ5bM7lB3C8pEgr3uQ=s64",
      "userId": "18377436314153100010"
     },
     "user_tz": 480
    },
    "id": "HBHvzgJDSY1a",
    "outputId": "71c9e73a-a48c-4f1a-f9ad-2e7af97b163a"
   },
   "outputs": [],
   "source": [
    "# Encoding the styles for modeling\n",
    "style_OHE = pd.get_dummies(model_df['broad_style'], sparse=True)"
   ]
  },
  {
   "cell_type": "code",
   "execution_count": null,
   "metadata": {
    "executionInfo": {
     "elapsed": 513,
     "status": "ok",
     "timestamp": 1642608356143,
     "user": {
      "displayName": "Steven Addison",
      "photoUrl": "https://lh3.googleusercontent.com/a-/AOh14Ggvrkb1asDESkHlRf75vzpzJZ5bM7lB3C8pEgr3uQ=s64",
      "userId": "18377436314153100010"
     },
     "user_tz": 480
    },
    "id": "Ls7WAjanpSor"
   },
   "outputs": [],
   "source": [
    "# Calling the columns that need to be scaled\n",
    "col_names = ['abv', 'score']\n",
    "\n",
    "# Selecting those columns\n",
    "features = model_df[col_names]\n",
    "\n",
    "# Fitting and transforming the columns with a MinMaxScalers\n",
    "features = MinMaxScaler().fit_transform(features.values)\n",
    "\n",
    "# Setting those transformed features back into the data\n",
    "model_df[col_names] = features\n",
    "\n",
    "# Joining the one hot encoded data with the scaled data\n",
    "final_df = model_df.join(style_OHE)\n",
    "\n",
    "# Dropping the style column now that it is encoded out\n",
    "final_df = final_df.drop(columns=['broad_style'])"
   ]
  },
  {
   "cell_type": "code",
   "execution_count": null,
   "metadata": {
    "colab": {
     "base_uri": "https://localhost:8080/",
     "height": 383
    },
    "executionInfo": {
     "elapsed": 28,
     "status": "ok",
     "timestamp": 1642608356145,
     "user": {
      "displayName": "Steven Addison",
      "photoUrl": "https://lh3.googleusercontent.com/a-/AOh14Ggvrkb1asDESkHlRf75vzpzJZ5bM7lB3C8pEgr3uQ=s64",
      "userId": "18377436314153100010"
     },
     "user_tz": 480
    },
    "id": "-uHEDULvjWsc",
    "outputId": "193cf46d-9856-4ad2-b48e-713fe4e3f3db"
   },
   "outputs": [],
   "source": [
    "# Sanity check\n",
    "final_df.head()"
   ]
  },
  {
   "cell_type": "code",
   "execution_count": null,
   "metadata": {
    "colab": {
     "base_uri": "https://localhost:8080/",
     "height": 269
    },
    "executionInfo": {
     "elapsed": 257,
     "status": "ok",
     "timestamp": 1642608914308,
     "user": {
      "displayName": "Steven Addison",
      "photoUrl": "https://lh3.googleusercontent.com/a-/AOh14Ggvrkb1asDESkHlRf75vzpzJZ5bM7lB3C8pEgr3uQ=s64",
      "userId": "18377436314153100010"
     },
     "user_tz": 480
    },
    "id": "X4kMszheBaAs",
    "outputId": "4cfd9730-cc3c-45ab-af19-3e5083b722e5"
   },
   "outputs": [],
   "source": [
    "# Superfuzz is the beer I will be testing\n",
    "y = np.array(final_df.loc[90993])\n",
    "\n",
    "# Reshaping the row into an array that can be passed into the model\n",
    "y = y.reshape(1, -1)\n",
    "\n",
    "# Calculating the cosine similarity \n",
    "cos_sim = cosine_similarity(final_df, y)\n",
    "\n",
    "# Creating a printout of the scores with their respective indices\n",
    "cos_sim = pd.DataFrame(data=cos_sim, index=final_df.index)\n",
    "\n",
    "# Sorting by highest scoring\n",
    "results = cos_sim.sort_values(by = 0, ascending=False)\n",
    "\n",
    "# Printing out the source beer and its top 5 recommendations\n",
    "results.head(6)"
   ]
  },
  {
   "cell_type": "code",
   "execution_count": null,
   "metadata": {
    "colab": {
     "base_uri": "https://localhost:8080/"
    },
    "executionInfo": {
     "elapsed": 550,
     "status": "ok",
     "timestamp": 1642608926757,
     "user": {
      "displayName": "Steven Addison",
      "photoUrl": "https://lh3.googleusercontent.com/a-/AOh14Ggvrkb1asDESkHlRf75vzpzJZ5bM7lB3C8pEgr3uQ=s64",
      "userId": "18377436314153100010"
     },
     "user_tz": 480
    },
    "id": "TgrNCVpS4ctL",
    "outputId": "bbd76c2d-e891-48da-c4df-a1838ebe4052"
   },
   "outputs": [],
   "source": [
    "# This is the printout for my starting beer\n",
    "result_df.loc[90993]"
   ]
  },
  {
   "cell_type": "code",
   "execution_count": null,
   "metadata": {
    "colab": {
     "base_uri": "https://localhost:8080/"
    },
    "executionInfo": {
     "elapsed": 229,
     "status": "ok",
     "timestamp": 1642607644887,
     "user": {
      "displayName": "Steven Addison",
      "photoUrl": "https://lh3.googleusercontent.com/a-/AOh14Ggvrkb1asDESkHlRf75vzpzJZ5bM7lB3C8pEgr3uQ=s64",
      "userId": "18377436314153100010"
     },
     "user_tz": 480
    },
    "id": "1nRj-uw--u8G",
    "outputId": "435d00d8-a5aa-43ed-9617-3ed84cd22b18"
   },
   "outputs": [],
   "source": [
    "# And the printout of my top result\n",
    "result_df.loc[80348]"
   ]
  },
  {
   "cell_type": "markdown",
   "metadata": {},
   "source": [
    "## <a id=\"#Cosine Similarity\">Cosine Similarity</a>"
   ]
  },
  {
   "cell_type": "code",
   "execution_count": null,
   "metadata": {
    "colab": {
     "base_uri": "https://localhost:8080/",
     "height": 165
    },
    "executionInfo": {
     "elapsed": 317,
     "status": "error",
     "timestamp": 1642605292616,
     "user": {
      "displayName": "Steven Addison",
      "photoUrl": "https://lh3.googleusercontent.com/a-/AOh14Ggvrkb1asDESkHlRf75vzpzJZ5bM7lB3C8pEgr3uQ=s64",
      "userId": "18377436314153100010"
     },
     "user_tz": 480
    },
    "id": "k7hXXIBm5wtB",
    "outputId": "9d2e6d72-61b1-4e83-ada8-d1101c6c85e4"
   },
   "outputs": [],
   "source": [
    "def cos_beer():\n",
    "    \n",
    "    \"\"\"Returns top recommended beers based on cosine similarity with user imputs of style,\n",
    "    beer name, and number of recommendations\"\"\"\n",
    "    \n",
    "    # User inputs style of beer they are looking for\n",
    "    style_input = input('Style: ')\n",
    "    # Input name of beer\n",
    "    beer_input = input('Beer Name: ')\n",
    "    # Input number of recommendations\n",
    "    n_recs = int(input('How many recommendations? '))\n",
    "    \n",
    "    # Data is sliced \n",
    "    style_df = cont_df[cont_df['broad_style'] == style_input]\n",
    "    \n",
    "    # Creating a vectorizer to transform the data with 300 features and a range of unigrams to trigrams\n",
    "    tf = TfidfVectorizer(max_features=300, ngram_range=(1,3))\n",
    "    # Fitting and transforming the clean text data \n",
    "    dtm = tf.fit_transform(style_df['clean_text'])\n",
    "    # Creating a document-term matrix\n",
    "    dtm = pd.DataFrame(dtm.todense(), columns=tf.get_feature_names(), index = style_df.index)\n",
    "    # Merging the document-term matrix back into the content dataframe\n",
    "    style_df = style_df.merge(dtm, left_index=True, right_index=True)\n",
    "    # Renaming columns with the same name\n",
    "    style_df = style_df.rename(columns={'style_x':'style','abv_x':'abv'})\n",
    "    # Dropping irrelevant columns\n",
    "    style_df = style_df.drop(columns=['broad_style','style','beer_name','brewery_name',\n",
    "                                      'city','state','clean_text'])\n",
    "\n",
    "    # Calling the columns that need to be scaled\n",
    "    col_names = ['abv', 'score']\n",
    "    # Selecting those column\n",
    "    features = style_df[col_names]\n",
    "    # Fitting and transforming the columns with a MinMaxScalers\n",
    "    features = MinMaxScaler().fit_transform(features.values)\n",
    "    # Setting those transformed features back into the data\n",
    "    style_df[col_names] = features\n",
    "    \n",
    "    # Grabbing the index value of the inputed beer\n",
    "    beerix = cont_df.loc[cont_df['beer_name'] == beer_input].index.values\n",
    "    # Selecting the row of that beer\n",
    "    y = np.array(style_df.loc[beerix[0]])\n",
    "    # Reshaping the row into an array that can be passed into the model\n",
    "    y = y.reshape(1, -1)\n",
    "    \n",
    "    # Calculating the cosine similarity \n",
    "    cos_sim = cosine_similarity(style_df, y)\n",
    "    # Creating a printout of the scores with their respective indices\n",
    "    cos_sim = pd.DataFrame(data=cos_sim, index=style_df.index)\n",
    "    # Sorting by highest scoring\n",
    "    results = cos_sim.sort_values(by = 0, ascending=False)\n",
    "    # Selecting n number indicies of top recommendations\n",
    "    nresultsid = results.head(n_recs+1).index.values[1:]\n",
    "    # Locating those beers in my results dataframe\n",
    "    nresults_df = result_df.loc[nresultsid]\n",
    "    # Returning those results\n",
    "    return nresults_df.style.hide_index()"
   ]
  },
  {
   "cell_type": "code",
   "execution_count": null,
   "metadata": {
    "scrolled": false
   },
   "outputs": [],
   "source": [
    "# Testing the function\n",
    "cos_beer()"
   ]
  },
  {
   "cell_type": "markdown",
   "metadata": {},
   "source": [
    "## <a id=\"#Linear Kernal\">Linear Kernal</a>"
   ]
  },
  {
   "cell_type": "code",
   "execution_count": null,
   "metadata": {},
   "outputs": [],
   "source": [
    "def lin_beer():\n",
    "    \n",
    "    \"\"\"Returns top recommended beers based on linear kernel with user imputs of style,\n",
    "    beer name, and number of recommendations\"\"\"\n",
    "    \n",
    "    # User inputs style of beer they are looking for\n",
    "    style_input = input('Style: ')\n",
    "    # Input name of beer\n",
    "    beer_input = input('Beer Name: ')\n",
    "    # Input number of recommendations\n",
    "    n_recs = int(input('How many recommendations? '))\n",
    "    \n",
    "    # Data is sliced \n",
    "    style_df = cont_df[cont_df['broad_style'] == style_input]\n",
    "    \n",
    "    # Creating a vectorizer to transform the data with 300 features and a range of unigrams to trigrams\n",
    "    tf = TfidfVectorizer(max_features=300, ngram_range=(1,3))\n",
    "    # Fitting and transforming the clean text data \n",
    "    dtm = tf.fit_transform(style_df['clean_text'])\n",
    "    # Creating a document-term matrix\n",
    "    dtm = pd.DataFrame(dtm.todense(), columns=tf.get_feature_names(), index = style_df.index)\n",
    "    # Merging the document-term matrix back into the content dataframe\n",
    "    style_df = style_df.merge(dtm, left_index=True, right_index=True)\n",
    "    # Renaming columns with the same name\n",
    "    style_df = style_df.rename(columns={'style_x':'style','abv_x':'abv'})\n",
    "    # Dropping irrelevant columns\n",
    "    style_df = style_df.drop(columns=['broad_style','style','beer_name','brewery_name',\n",
    "                                      'city','state','clean_text'])\n",
    "\n",
    "    # Calling the columns that need to be scaled\n",
    "    col_names = ['abv', 'score']\n",
    "    # Selecting those column\n",
    "    features = style_df[col_names]\n",
    "    # Fitting and transforming the columns with a MinMaxScalers\n",
    "    features = MinMaxScaler().fit_transform(features.values)\n",
    "    # Setting those transformed features back into the data\n",
    "    style_df[col_names] = features\n",
    "    \n",
    "    # Grabbing the index value of the inputed beer\n",
    "    beerix = cont_df.loc[cont_df['beer_name'] == beer_input].index.values\n",
    "    # Selecting the row of that beer\n",
    "    y = np.array(style_df.loc[beerix[0]])\n",
    "    # Reshaping the row into an array that can be passed into the model\n",
    "    y = y.reshape(1, -1)\n",
    "    \n",
    "    # Calculating the linear kernel \n",
    "    lin_ker = linear_kernel(style_df, y)\n",
    "    # Creating a printout of the scores with their respective indices\n",
    "    lin_ker = pd.DataFrame(data=lin_ker, index=style_df.index)\n",
    "    # Sorting by highest scoring\n",
    "    results = lin_ker.sort_values(by = 0, ascending=False)\n",
    "    # Selecting n number indicies of top recommendations\n",
    "    nresultsid = results.head(n_recs+1).index.values[1:]\n",
    "    # Locating those beers in my results dataframe\n",
    "    nresults_df = result_df.loc[nresultsid]\n",
    "    # Returning those results\n",
    "    return nresults_df.style.hide_index()"
   ]
  },
  {
   "cell_type": "code",
   "execution_count": null,
   "metadata": {},
   "outputs": [],
   "source": [
    "# Testing the function\n",
    "lin_beer()"
   ]
  },
  {
   "cell_type": "markdown",
   "metadata": {},
   "source": [
    "## <a id=\"#K-Nearest Neighbors\">K-Nearest Neighbors</a>"
   ]
  },
  {
   "cell_type": "code",
   "execution_count": null,
   "metadata": {
    "id": "vPvezkCpDsJ-"
   },
   "outputs": [],
   "source": [
    "def knn_beer():\n",
    "    \n",
    "    \"\"\"Returns top recommended beers using K-Nearest Neighbors with user imputs of style,\n",
    "    beer name, and number of recommendations\"\"\"\n",
    "    \n",
    "    # User inputs style of beer they are looking for\n",
    "    style_input = input('Style: ')\n",
    "    # Input name of beer\n",
    "    beer_input = input('Beer Name: ')\n",
    "    # Input number of recommendations\n",
    "    n_recs = int(input('How many recommendations? '))\n",
    "    \n",
    "    # Data is sliced \n",
    "    style_df = cont_df[cont_df['broad_style'] == style_input]\n",
    "    \n",
    "    # Creating a vectorizer to transform the data with 300 features and a range of unigrams to trigrams\n",
    "    tf = TfidfVectorizer(max_features=300, ngram_range=(1,3))\n",
    "    # Fitting and transforming the clean text data \n",
    "    dtm = tf.fit_transform(style_df['clean_text'])\n",
    "    # Creating a document-term matrix\n",
    "    dtm = pd.DataFrame(dtm.todense(), columns=tf.get_feature_names(), index = style_df.index)\n",
    "    # Merging the document-term matrix back into the content dataframe\n",
    "    style_df = style_df.merge(dtm, left_index=True, right_index=True)\n",
    "    # Renaming columns with the same name\n",
    "    style_df = style_df.rename(columns={'style_x':'style','abv_x':'abv'})\n",
    "    # Dropping irrelevant columns\n",
    "    style_df = style_df.drop(columns=['broad_style','style','beer_name','brewery_name',\n",
    "                                      'city','state','clean_text'])\n",
    "\n",
    "    # Calling the columns that need to be scaled\n",
    "    col_names = ['abv', 'score']\n",
    "    # Selecting those column\n",
    "    features = style_df[col_names]\n",
    "    # Fitting and transforming the columns with a MinMaxScalers\n",
    "    features = MinMaxScaler().fit_transform(features.values)\n",
    "    # Setting those transformed features back into the data\n",
    "    style_df[col_names] = features\n",
    "    \n",
    "    # Grabbing the index value of the inputed beer\n",
    "    beerix = cont_df.loc[cont_df['beer_name'] == beer_input].index.values\n",
    "    # Selecting the row of that beer\n",
    "    x = np.array(style_df.loc[beerix[0]])\n",
    "    # Reshaping the row into an array that can be passed into the model\n",
    "    x = y.reshape(1, -1)\n",
    "    \n",
    "    # Creating a knn model with the auto algorithm and 5 nearest neighbors\n",
    "    knn = NearestNeighbors(algorithm='auto', n_neighbors=5)\n",
    "    # Fitting the model on the dataframe\n",
    "    knn.fit(style_df)\n",
    "    \n",
    "    # Selecting n number results\n",
    "    results = knn.kneighbors(x, n_recs+1, return_distance=False).flatten()\n",
    "    # Selecting their indicies\n",
    "    resultsids = style_df.iloc[results].index.values[1:]\n",
    "    # Locating those beers in my results dataframe\n",
    "    nresults_df = result_df.loc[resultsids]\n",
    "    # Returning those results\n",
    "    return nresults_df.style.hide_index()"
   ]
  },
  {
   "cell_type": "code",
   "execution_count": null,
   "metadata": {
    "scrolled": true
   },
   "outputs": [],
   "source": [
    "# Testing the function\n",
    "knn_beer()"
   ]
  },
  {
   "cell_type": "markdown",
   "metadata": {},
   "source": [
    "# <a id=\"#Conclusion\">Conclusion</a>"
   ]
  },
  {
   "cell_type": "markdown",
   "metadata": {},
   "source": [
    ">"
   ]
  },
  {
   "cell_type": "code",
   "execution_count": null,
   "metadata": {},
   "outputs": [],
   "source": [
    "# Importing mask for the shape of my word clouds\n",
    "beer_mask = np.array(Image.open('images/beershape.png'))"
   ]
  },
  {
   "cell_type": "code",
   "execution_count": null,
   "metadata": {},
   "outputs": [],
   "source": [
    "# Creating cloud for my reference beer\n",
    "beer1 = cont_df.loc[[90993]]['clean_text']\n",
    "wordcloud(beer1, max_words = 50, mask=beer_mask, contour_color='#802036', contour_width=2, colormap = 'flare', height= 600)"
   ]
  },
  {
   "cell_type": "code",
   "execution_count": null,
   "metadata": {},
   "outputs": [],
   "source": [
    "# Creating cloud for my top recommendation\n",
    "beer2 = cont_df.loc[[175577]]['clean_text']\n",
    "wordcloud(beer2, max_words = 50, mask=beer_mask, contour_color='#802036', contour_width=2, colormap = 'flare', height= 600)"
   ]
  },
  {
   "cell_type": "markdown",
   "metadata": {},
   "source": [
    "# <a id=\"#Next Steps\">Next Steps</a>   "
   ]
  },
  {
   "cell_type": "markdown",
   "metadata": {},
   "source": [
    "> As extensive as this may seem, there is always more data that can be gathered. Ideally I would like to get more current data for as many beers as possible to keep the model as up to date as possible. I would also be interested in gathering more features to use such as IBU, and the varieties of hops and malts used to brew each beer. In addition to that, I would like to create more specific data slicing options in the app such as being able to get recommendations based on state or even a brewery level. Lastly I would want to implement this model for other consumables such as whole bean coffee or wine, if you can reviewed it ,I can use it."
   ]
  },
  {
   "cell_type": "markdown",
   "metadata": {},
   "source": [
    "# <a id=\"#Sources\">Sources</a>"
   ]
  },
  {
   "cell_type": "markdown",
   "metadata": {},
   "source": [
    "> [Beers, Breweries, and Beer Reviews](https://www.kaggle.com/ehallmar/beers-breweries-and-beer-reviews?select=beers.csv)\n",
    ">\n",
    ">[How to Vectorize Text in DataFrames for NLP Tasks — 3 Simple Techniques](https://towardsdatascience.com/how-to-vectorize-text-in-dataframes-for-nlp-tasks-3-simple-techniques-82925a5600db)\n",
    ">\n",
    "> [Try TextHero: The Absolute Simplest way to Clean and Analyze Text in Pandas](https://towardsdatascience.com/try-texthero-the-absolute-simplest-way-to-clean-and-analyze-text-in-pandas-6db86ed14272)\n",
    ">\n",
    "> [5 Heroic Python NLP Libraries](https://elitedatascience.com/python-nlp-libraries)\n",
    ">\n",
    "> [Texthero](https://texthero.org/)\n",
    ">\n",
    "> [How to Create Beautiful Word Clouds in Python](https://towardsdatascience.com/how-to-create-beautiful-word-clouds-in-python-cfcf85141214)"
   ]
  },
  {
   "cell_type": "code",
   "execution_count": null,
   "metadata": {},
   "outputs": [],
   "source": []
  }
 ],
 "metadata": {
  "colab": {
   "collapsed_sections": [
    "1Ybhi8-xDyr8",
    "udoJYsZ-Y-h3"
   ],
   "machine_shape": "hm",
   "name": "WorkingNotebook.ipynb",
   "provenance": []
  },
  "kernelspec": {
   "display_name": "Python (learn-env)",
   "language": "python",
   "name": "learn-env"
  },
  "language_info": {
   "codemirror_mode": {
    "name": "ipython",
    "version": 3
   },
   "file_extension": ".py",
   "mimetype": "text/x-python",
   "name": "python",
   "nbconvert_exporter": "python",
   "pygments_lexer": "ipython3",
   "version": "3.8.5"
  }
 },
 "nbformat": 4,
 "nbformat_minor": 1
}
